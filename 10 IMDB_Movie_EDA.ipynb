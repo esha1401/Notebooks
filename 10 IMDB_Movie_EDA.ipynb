{
 "cells": [
  {
   "cell_type": "markdown",
   "metadata": {
    "application/vnd.databricks.v1+cell": {
     "cellMetadata": {
      "byteLimit": 2048000,
      "rowLimit": 10000
     },
     "inputWidgets": {},
     "nuid": "f327f375-17da-41d4-bd7d-964bc996cd87",
     "showTitle": false,
     "tableResultSettingsMap": {},
     "title": ""
    }
   },
   "source": [
    "# <font color = blue> IMDb Movie EDA </font>\n",
    "\n",
    "You have the data for the 100 top-rated movies from the past decade along with various pieces of information about the movie, its actors, and the voters who have rated these movies online. In this assignment, you will try to find some interesting insights into these movies and their voters, using Python."
   ]
  },
  {
   "cell_type": "code",
   "execution_count": 0,
   "metadata": {
    "application/vnd.databricks.v1+cell": {
     "cellMetadata": {
      "byteLimit": 2048000,
      "rowLimit": 10000
     },
     "inputWidgets": {},
     "nuid": "08cdbd2c-c645-477b-9ac9-7b80dc1ffe11",
     "showTitle": false,
     "tableResultSettingsMap": {},
     "title": ""
    }
   },
   "outputs": [
    {
     "output_type": "display_data",
     "data": {
      "application/vnd.databricks.v1+bamboolib_hint": "{\"pd.DataFrames\": [], \"version\": \"0.0.1\"}",
      "text/plain": []
     },
     "metadata": {},
     "output_type": "display_data"
    }
   ],
   "source": [
    "# Importing the required libraries\n",
    "\n",
    "import numpy as np\n",
    "import pandas as pd\n",
    "import seaborn as sns\n",
    "import matplotlib.pyplot as plt"
   ]
  },
  {
   "cell_type": "markdown",
   "metadata": {
    "application/vnd.databricks.v1+cell": {
     "cellMetadata": {
      "byteLimit": 2048000,
      "rowLimit": 10000
     },
     "inputWidgets": {},
     "nuid": "06502b41-6426-40b8-b2a4-afa2a56a3fbf",
     "showTitle": false,
     "tableResultSettingsMap": {},
     "title": ""
    }
   },
   "source": [
    "##  Task 1: Reading the data"
   ]
  },
  {
   "cell_type": "markdown",
   "metadata": {
    "application/vnd.databricks.v1+cell": {
     "cellMetadata": {
      "byteLimit": 2048000,
      "rowLimit": 10000
     },
     "inputWidgets": {},
     "nuid": "cae3d303-9838-4219-9976-231dd4783c26",
     "showTitle": false,
     "tableResultSettingsMap": {},
     "title": ""
    }
   },
   "source": [
    "- ### Subtask 1.1: Read the Movies Data.\n",
    "\n",
    "Read the movies data file provided and store it in a dataframe `movies`."
   ]
  },
  {
   "cell_type": "code",
   "execution_count": 0,
   "metadata": {
    "application/vnd.databricks.v1+cell": {
     "cellMetadata": {
      "byteLimit": 2048000,
      "rowLimit": 10000
     },
     "inputWidgets": {},
     "nuid": "7478b6d8-30b4-46e3-8546-61baacc99b7d",
     "showTitle": false,
     "tableResultSettingsMap": {},
     "title": ""
    }
   },
   "outputs": [
    {
     "output_type": "stream",
     "name": "stdout",
     "output_type": "stream",
     "text": [
      "+--------------------+----------+---------+---------+----------------+------------------+---------------+----------------------+----------------------+----------------------+-----------+---------+---------+-------+----------+-------+--------+--------+--------+--------+--------+--------+--------+--------+--------+--------+----------+------------+---------+----------+----------+----------+-----------+-----------+----------+-----------+-----------+---------+----------+----------+----------+--------+---------+------+------+--------+---------+---------+---------+----------+----------+---------+----------+----------+--------+---------+---------+---------+-------+--------+--------------+---------+\n|               Title|title_year|   budget|    Gross|    actor_1_name|      actor_2_name|   actor_3_name|actor_1_facebook_likes|actor_2_facebook_likes|actor_3_facebook_likes|IMDb_rating|  genre_1|  genre_2|genre_3|MetaCritic|Runtime|CVotes10|CVotes09|CVotes08|CVotes07|CVotes06|CVotes05|CVotes04|CVotes03|CVotes02|CVotes01|CVotesMale|CVotesFemale|CVotesU18|CVotesU18M|CVotesU18F|CVotes1829|CVotes1829M|CVotes1829F|CVotes3044|CVotes3044M|CVotes3044F|CVotes45A|CVotes45AM|CVotes45AF|CVotes1000|CVotesUS|CVotesnUS|VotesM|VotesF|VotesU18|VotesU18M|VotesU18F|Votes1829|Votes1829M|Votes1829F|Votes3044|Votes3044M|Votes3044F|Votes45A|Votes45AM|Votes45AF|Votes1000|VotesUS|VotesnUS|content_rating|  Country|\n+--------------------+----------+---------+---------+----------------+------------------+---------------+----------------------+----------------------+----------------------+-----------+---------+---------+-------+----------+-------+--------+--------+--------+--------+--------+--------+--------+--------+--------+--------+----------+------------+---------+----------+----------+----------+-----------+-----------+----------+-----------+-----------+---------+----------+----------+----------+--------+---------+------+------+--------+---------+---------+---------+----------+----------+---------+----------+----------+--------+---------+---------+---------+-------+--------+--------------+---------+\n|          La La Land|      2016| 30000000|151101803|    Ryan Gosling|        Emma Stone|     Amiée Conn|                 14000|                 19000|                  null|        8.2|   Comedy|    Drama|  Music|        93|    128|   74245|   71191|   64640|   38831|   17377|    8044|    3998|    2839|    2407|    6802|    157693|       56713|     2675|      1784|       868|    113008|      78998|      32730|     66058|      50835|      14165|    15765|     12148|      3302|       454|   33360|   117987|   8.2|   8.1|     8.9|      9.0|      8.7|      8.4|       8.4|       8.2|      7.9|       7.9|       7.8|     7.6|      7.6|      7.5|      7.1|    8.3|     8.1|         PG-13|      USA|\n|            Zootopia|      2016|150000000|341268248|Ginnifer Goodwin|     Jason Bateman|     Idris Elba|                  2800|                 28000|                 27000|        8.1|Animation|Adventure| Comedy|        78|    108|   53626|   70912|  102352|   57261|   16719|    4539|    1467|     733|     496|    1386|    176202|       52345|     2362|      1641|       706|    119637|      87499|      30813|     75474|      61358|      13034|    12353|      9959|      2151|       518|   35975|   122844|   8.0|   8.3|     8.4|      8.3|      8.7|      8.2|       8.1|       8.4|      7.8|       7.8|       8.1|     7.8|      7.8|      8.1|      7.6|    8.0|     8.0|            PG|      USA|\n|                Lion|      2016| 12000000| 51738905|       Dev Patel|     Nicole Kidman|    Rooney Mara|                 33000|                 96000|                  9800|        8.1|Biography|    Drama|   null|        69|    118|   23325|   29830|   40564|   20296|    5842|    1669|     558|     309|     182|     493|     68921|       24977|      702|       477|       220|     42962|      29729|      12780|     34297|      26384|       7413|     9054|      6714|      2184|       298|   13478|    53931|   8.0|   8.4|     8.3|      8.2|      8.7|      8.1|       8.0|       8.4|      8.0|       7.9|       8.2|     8.0|      7.9|      8.4|      7.1|    8.1|     8.0|         PG-13|Australia|\n|             Arrival|      2016| 47000000|100546139|       Amy Adams|     Jeremy Renner|Forest Whitaker|                 35000|                  5300|                  null|        8.0|    Drama|  Mystery| Sci-Fi|        81|    116|   55533|   87850|  109536|   65440|   26913|   10556|    5057|    3083|    2194|    4734|    237437|       46272|     1943|      1544|       376|    126301|     101741|      23163|    111985|      95005|      15227|    24027|     20118|      3440|       537|   42062|   163774|   7.9|   8.0|     8.6|      8.6|      8.4|      8.2|       8.2|       8.1|      7.8|       7.8|       7.8|     7.6|      7.6|      7.7|      7.3|    8.0|     7.9|         PG-13|      USA|\n|Manchester by the...|      2016|  9000000| 47695371|   Casey Affleck|Michelle Williams |  Kyle Chandler|                   518|                 71000|                  3300|        7.9|    Drama|     null|   null|        96|    137|   18191|   33532|   46596|   29626|   11879|    4539|    1976|    1233|     888|    1834|     92452|       22834|      855|       681|       166|     55475|      43467|      11378|     40645|      32983|       7053|    11361|      8862|      2306|       402|   20287|    65837|   7.9|   7.7|     8.5|      8.5|      8.1|      8.0|       8.1|       7.8|      7.7|       7.7|       7.7|     7.6|      7.6|      7.6|      7.1|    7.9|     7.8|             R|      USA|\n+--------------------+----------+---------+---------+----------------+------------------+---------------+----------------------+----------------------+----------------------+-----------+---------+---------+-------+----------+-------+--------+--------+--------+--------+--------+--------+--------+--------+--------+--------+----------+------------+---------+----------+----------+----------+-----------+-----------+----------+-----------+-----------+---------+----------+----------+----------+--------+---------+------+------+--------+---------+---------+---------+----------+----------+---------+----------+----------+--------+---------+---------+---------+-------+--------+--------------+---------+\nonly showing top 5 rows\n\n"
     ]
    }
   ],
   "source": [
    "# Start Spark session (skip if already running in Databricks)\n",
    "from pyspark.sql import SparkSession\n",
    "\n",
    "spark = SparkSession.builder.appName(\"IMDB_Movie_EDA\").getOrCreate()\n",
    "\n",
    "# Read CSV using Spark with the provided path\n",
    "movies = spark.read.csv(\"/FileStore/tables/imdb/IMDB_Movies.csv\", header=True, inferSchema=True)\n",
    "\n",
    "# Show first 5 rows\n",
    "movies.show(5)\n"
   ]
  },
  {
   "cell_type": "code",
   "execution_count": 0,
   "metadata": {
    "application/vnd.databricks.v1+cell": {
     "cellMetadata": {
      "byteLimit": 2048000,
      "rowLimit": 10000
     },
     "inputWidgets": {},
     "nuid": "66a6b631-ac0a-4adb-9ed5-629e525c5631",
     "showTitle": false,
     "tableResultSettingsMap": {},
     "title": ""
    }
   },
   "outputs": [
    {
     "output_type": "execute_result",
     "data": {
      "text/html": [
       "<div>\n",
       "<style scoped>\n",
       "    .dataframe tbody tr th:only-of-type {\n",
       "        vertical-align: middle;\n",
       "    }\n",
       "\n",
       "    .dataframe tbody tr th {\n",
       "        vertical-align: top;\n",
       "    }\n",
       "\n",
       "    .dataframe thead th {\n",
       "        text-align: right;\n",
       "    }\n",
       "</style>\n",
       "<table border=\"1\" class=\"dataframe\">\n",
       "  <thead>\n",
       "    <tr style=\"text-align: right;\">\n",
       "      <th></th>\n",
       "      <th>Title</th>\n",
       "      <th>title_year</th>\n",
       "      <th>budget</th>\n",
       "      <th>Gross</th>\n",
       "      <th>actor_1_name</th>\n",
       "      <th>actor_2_name</th>\n",
       "      <th>actor_3_name</th>\n",
       "      <th>actor_1_facebook_likes</th>\n",
       "      <th>actor_2_facebook_likes</th>\n",
       "      <th>actor_3_facebook_likes</th>\n",
       "      <th>...</th>\n",
       "      <th>Votes3044M</th>\n",
       "      <th>Votes3044F</th>\n",
       "      <th>Votes45A</th>\n",
       "      <th>Votes45AM</th>\n",
       "      <th>Votes45AF</th>\n",
       "      <th>Votes1000</th>\n",
       "      <th>VotesUS</th>\n",
       "      <th>VotesnUS</th>\n",
       "      <th>content_rating</th>\n",
       "      <th>Country</th>\n",
       "    </tr>\n",
       "  </thead>\n",
       "  <tbody>\n",
       "    <tr>\n",
       "      <th>0</th>\n",
       "      <td>La La Land</td>\n",
       "      <td>2016</td>\n",
       "      <td>30000000</td>\n",
       "      <td>151101803</td>\n",
       "      <td>Ryan Gosling</td>\n",
       "      <td>Emma Stone</td>\n",
       "      <td>Amiée Conn</td>\n",
       "      <td>14000</td>\n",
       "      <td>19000.0</td>\n",
       "      <td>NaN</td>\n",
       "      <td>...</td>\n",
       "      <td>7.9</td>\n",
       "      <td>7.8</td>\n",
       "      <td>7.6</td>\n",
       "      <td>7.6</td>\n",
       "      <td>7.5</td>\n",
       "      <td>7.1</td>\n",
       "      <td>8.3</td>\n",
       "      <td>8.1</td>\n",
       "      <td>PG-13</td>\n",
       "      <td>USA</td>\n",
       "    </tr>\n",
       "    <tr>\n",
       "      <th>1</th>\n",
       "      <td>Zootopia</td>\n",
       "      <td>2016</td>\n",
       "      <td>150000000</td>\n",
       "      <td>341268248</td>\n",
       "      <td>Ginnifer Goodwin</td>\n",
       "      <td>Jason Bateman</td>\n",
       "      <td>Idris Elba</td>\n",
       "      <td>2800</td>\n",
       "      <td>28000.0</td>\n",
       "      <td>27000.0</td>\n",
       "      <td>...</td>\n",
       "      <td>7.8</td>\n",
       "      <td>8.1</td>\n",
       "      <td>7.8</td>\n",
       "      <td>7.8</td>\n",
       "      <td>8.1</td>\n",
       "      <td>7.6</td>\n",
       "      <td>8.0</td>\n",
       "      <td>8.0</td>\n",
       "      <td>PG</td>\n",
       "      <td>USA</td>\n",
       "    </tr>\n",
       "    <tr>\n",
       "      <th>2</th>\n",
       "      <td>Lion</td>\n",
       "      <td>2016</td>\n",
       "      <td>12000000</td>\n",
       "      <td>51738905</td>\n",
       "      <td>Dev Patel</td>\n",
       "      <td>Nicole Kidman</td>\n",
       "      <td>Rooney Mara</td>\n",
       "      <td>33000</td>\n",
       "      <td>96000.0</td>\n",
       "      <td>9800.0</td>\n",
       "      <td>...</td>\n",
       "      <td>7.9</td>\n",
       "      <td>8.2</td>\n",
       "      <td>8.0</td>\n",
       "      <td>7.9</td>\n",
       "      <td>8.4</td>\n",
       "      <td>7.1</td>\n",
       "      <td>8.1</td>\n",
       "      <td>8.0</td>\n",
       "      <td>PG-13</td>\n",
       "      <td>Australia</td>\n",
       "    </tr>\n",
       "    <tr>\n",
       "      <th>3</th>\n",
       "      <td>Arrival</td>\n",
       "      <td>2016</td>\n",
       "      <td>47000000</td>\n",
       "      <td>100546139</td>\n",
       "      <td>Amy Adams</td>\n",
       "      <td>Jeremy Renner</td>\n",
       "      <td>Forest Whitaker</td>\n",
       "      <td>35000</td>\n",
       "      <td>5300.0</td>\n",
       "      <td>NaN</td>\n",
       "      <td>...</td>\n",
       "      <td>7.8</td>\n",
       "      <td>7.8</td>\n",
       "      <td>7.6</td>\n",
       "      <td>7.6</td>\n",
       "      <td>7.7</td>\n",
       "      <td>7.3</td>\n",
       "      <td>8.0</td>\n",
       "      <td>7.9</td>\n",
       "      <td>PG-13</td>\n",
       "      <td>USA</td>\n",
       "    </tr>\n",
       "    <tr>\n",
       "      <th>4</th>\n",
       "      <td>Manchester by the Sea</td>\n",
       "      <td>2016</td>\n",
       "      <td>9000000</td>\n",
       "      <td>47695371</td>\n",
       "      <td>Casey Affleck</td>\n",
       "      <td>Michelle Williams</td>\n",
       "      <td>Kyle Chandler</td>\n",
       "      <td>518</td>\n",
       "      <td>71000.0</td>\n",
       "      <td>3300.0</td>\n",
       "      <td>...</td>\n",
       "      <td>7.7</td>\n",
       "      <td>7.7</td>\n",
       "      <td>7.6</td>\n",
       "      <td>7.6</td>\n",
       "      <td>7.6</td>\n",
       "      <td>7.1</td>\n",
       "      <td>7.9</td>\n",
       "      <td>7.8</td>\n",
       "      <td>R</td>\n",
       "      <td>USA</td>\n",
       "    </tr>\n",
       "  </tbody>\n",
       "</table>\n",
       "<p>5 rows × 62 columns</p>\n",
       "</div>"
      ],
      "text/plain": [
       "                   Title  title_year     budget      Gross      actor_1_name  \\\n",
       "0             La La Land        2016   30000000  151101803      Ryan Gosling   \n",
       "1               Zootopia        2016  150000000  341268248  Ginnifer Goodwin   \n",
       "2                   Lion        2016   12000000   51738905         Dev Patel   \n",
       "3                Arrival        2016   47000000  100546139         Amy Adams   \n",
       "4  Manchester by the Sea        2016    9000000   47695371     Casey Affleck   \n",
       "\n",
       "         actor_2_name     actor_3_name  actor_1_facebook_likes  \\\n",
       "0          Emma Stone       Amiée Conn                   14000   \n",
       "1       Jason Bateman       Idris Elba                    2800   \n",
       "2       Nicole Kidman      Rooney Mara                   33000   \n",
       "3       Jeremy Renner  Forest Whitaker                   35000   \n",
       "4  Michelle Williams     Kyle Chandler                     518   \n",
       "\n",
       "   actor_2_facebook_likes  actor_3_facebook_likes  ...  Votes3044M Votes3044F  \\\n",
       "0                 19000.0                     NaN  ...         7.9        7.8   \n",
       "1                 28000.0                 27000.0  ...         7.8        8.1   \n",
       "2                 96000.0                  9800.0  ...         7.9        8.2   \n",
       "3                  5300.0                     NaN  ...         7.8        7.8   \n",
       "4                 71000.0                  3300.0  ...         7.7        7.7   \n",
       "\n",
       "  Votes45A Votes45AM  Votes45AF  Votes1000  VotesUS  VotesnUS  content_rating  \\\n",
       "0      7.6       7.6        7.5        7.1      8.3       8.1           PG-13   \n",
       "1      7.8       7.8        8.1        7.6      8.0       8.0              PG   \n",
       "2      8.0       7.9        8.4        7.1      8.1       8.0           PG-13   \n",
       "3      7.6       7.6        7.7        7.3      8.0       7.9           PG-13   \n",
       "4      7.6       7.6        7.6        7.1      7.9       7.8               R   \n",
       "\n",
       "     Country  \n",
       "0        USA  \n",
       "1        USA  \n",
       "2  Australia  \n",
       "3        USA  \n",
       "4        USA  \n",
       "\n",
       "[5 rows x 62 columns]"
      ]
     },
     "execution_count": 54,
     "metadata": {},
     "output_type": "execute_result"
    }
   ],
   "source": [
    "movies.head()"
   ]
  },
  {
   "cell_type": "markdown",
   "metadata": {
    "application/vnd.databricks.v1+cell": {
     "cellMetadata": {
      "byteLimit": 2048000,
      "rowLimit": 10000
     },
     "inputWidgets": {},
     "nuid": "291682fc-7202-47ce-905b-d18bcc9d7c45",
     "showTitle": false,
     "tableResultSettingsMap": {},
     "title": ""
    }
   },
   "source": [
    "- ###  Subtask 1.2: Inspect the Dataframe\n",
    "\n",
    "Inspect the dataframe for dimensions, null-values, and summary of different numeric columns."
   ]
  },
  {
   "cell_type": "code",
   "execution_count": 0,
   "metadata": {
    "application/vnd.databricks.v1+cell": {
     "cellMetadata": {
      "byteLimit": 2048000,
      "rowLimit": 10000
     },
     "inputWidgets": {},
     "nuid": "e106aaa7-210d-4d65-9f52-b92c72cddcdb",
     "showTitle": false,
     "tableResultSettingsMap": {},
     "title": ""
    }
   },
   "outputs": [
    {
     "output_type": "stream",
     "name": "stdout",
     "output_type": "stream",
     "text": [
      "Number of rows: 100\nNumber of columns: 62\nroot\n |-- Title: string (nullable = true)\n |-- title_year: integer (nullable = true)\n |-- budget: integer (nullable = true)\n |-- Gross: integer (nullable = true)\n |-- actor_1_name: string (nullable = true)\n |-- actor_2_name: string (nullable = true)\n |-- actor_3_name: string (nullable = true)\n |-- actor_1_facebook_likes: integer (nullable = true)\n |-- actor_2_facebook_likes: integer (nullable = true)\n |-- actor_3_facebook_likes: integer (nullable = true)\n |-- IMDb_rating: double (nullable = true)\n |-- genre_1: string (nullable = true)\n |-- genre_2: string (nullable = true)\n |-- genre_3: string (nullable = true)\n |-- MetaCritic: integer (nullable = true)\n |-- Runtime: integer (nullable = true)\n |-- CVotes10: integer (nullable = true)\n |-- CVotes09: integer (nullable = true)\n |-- CVotes08: integer (nullable = true)\n |-- CVotes07: integer (nullable = true)\n |-- CVotes06: integer (nullable = true)\n |-- CVotes05: integer (nullable = true)\n |-- CVotes04: integer (nullable = true)\n |-- CVotes03: integer (nullable = true)\n |-- CVotes02: integer (nullable = true)\n |-- CVotes01: integer (nullable = true)\n |-- CVotesMale: integer (nullable = true)\n |-- CVotesFemale: integer (nullable = true)\n |-- CVotesU18: integer (nullable = true)\n |-- CVotesU18M: integer (nullable = true)\n |-- CVotesU18F: integer (nullable = true)\n |-- CVotes1829: integer (nullable = true)\n |-- CVotes1829M: integer (nullable = true)\n |-- CVotes1829F: integer (nullable = true)\n |-- CVotes3044: integer (nullable = true)\n |-- CVotes3044M: integer (nullable = true)\n |-- CVotes3044F: integer (nullable = true)\n |-- CVotes45A: integer (nullable = true)\n |-- CVotes45AM: integer (nullable = true)\n |-- CVotes45AF: integer (nullable = true)\n |-- CVotes1000: integer (nullable = true)\n |-- CVotesUS: integer (nullable = true)\n |-- CVotesnUS: integer (nullable = true)\n |-- VotesM: double (nullable = true)\n |-- VotesF: double (nullable = true)\n |-- VotesU18: double (nullable = true)\n |-- VotesU18M: double (nullable = true)\n |-- VotesU18F: double (nullable = true)\n |-- Votes1829: double (nullable = true)\n |-- Votes1829M: double (nullable = true)\n |-- Votes1829F: double (nullable = true)\n |-- Votes3044: double (nullable = true)\n |-- Votes3044M: double (nullable = true)\n |-- Votes3044F: double (nullable = true)\n |-- Votes45A: double (nullable = true)\n |-- Votes45AM: double (nullable = true)\n |-- Votes45AF: double (nullable = true)\n |-- Votes1000: double (nullable = true)\n |-- VotesUS: double (nullable = true)\n |-- VotesnUS: double (nullable = true)\n |-- content_rating: string (nullable = true)\n |-- Country: string (nullable = true)\n\n+-------+----------------+------------------+-------------------+-------------------+------------+------------+------------+----------------------+----------------------+----------------------+-----------------+-------+-------+---------+-----------------+------------------+-----------------+-----------------+-----------------+----------------+------------------+-----------------+-----------------+------------------+------------------+----------------+------------------+-----------------+------------------+------------------+------------------+------------------+-----------------+------------------+-----------------+-----------------+------------------+------------------+------------------+------------------+----------------+------------------+------------------+-------------------+-------------------+-------------------+------------------+-------------------+------------------+------------------+-------------------+-------------------+-------------------+-------------------+-------------------+-------------------+------------------+-------------------+-------------------+-------------------+--------------+---------+\n|summary|           Title|        title_year|             budget|              Gross|actor_1_name|actor_2_name|actor_3_name|actor_1_facebook_likes|actor_2_facebook_likes|actor_3_facebook_likes|      IMDb_rating|genre_1|genre_2|  genre_3|       MetaCritic|           Runtime|         CVotes10|         CVotes09|         CVotes08|        CVotes07|          CVotes06|         CVotes05|         CVotes04|          CVotes03|          CVotes02|        CVotes01|        CVotesMale|     CVotesFemale|         CVotesU18|        CVotesU18M|        CVotesU18F|        CVotes1829|      CVotes1829M|       CVotes1829F|       CVotes3044|      CVotes3044M|       CVotes3044F|         CVotes45A|        CVotes45AM|        CVotes45AF|      CVotes1000|          CVotesUS|         CVotesnUS|             VotesM|             VotesF|           VotesU18|         VotesU18M|          VotesU18F|         Votes1829|        Votes1829M|         Votes1829F|          Votes3044|         Votes3044M|         Votes3044F|           Votes45A|          Votes45AM|         Votes45AF|          Votes1000|            VotesUS|           VotesnUS|content_rating|  Country|\n+-------+----------------+------------------+-------------------+-------------------+------------+------------+------------+----------------------+----------------------+----------------------+-----------------+-------+-------+---------+-----------------+------------------+-----------------+-----------------+-----------------+----------------+------------------+-----------------+-----------------+------------------+------------------+----------------+------------------+-----------------+------------------+------------------+------------------+------------------+-----------------+------------------+-----------------+-----------------+------------------+------------------+------------------+------------------+----------------+------------------+------------------+-------------------+-------------------+-------------------+------------------+-------------------+------------------+------------------+-------------------+-------------------+-------------------+-------------------+-------------------+-------------------+------------------+-------------------+-------------------+-------------------+--------------+---------+\n|  count|             100|               100|                100|                100|         100|         100|         100|                   100|                    99|                    98|              100|    100|     97|       74|               95|               100|              100|              100|              100|             100|               100|              100|              100|               100|               100|             100|               100|              100|               100|               100|               100|               100|              100|               100|              100|              100|               100|               100|               100|               100|             100|               100|               100|                100|                100|                100|               100|                100|               100|               100|                100|                100|                100|                100|                100|                100|               100|                100|                100|                100|           100|      100|\n|   mean|            null|           2012.82|           7.8384E7|     1.4686786724E8|        null|        null|         0.0|              13407.27|      7377.30303030303|    3002.1530612244896|7.883000000000005|   null|   null|     null|78.25263157894737|            126.42|         73212.16|         92404.17|        125762.23|        76715.28|          27841.45|         10171.75|          4330.11|           2477.07|           1711.57|         4084.35|         271446.18|         64468.86|           1769.05|           1318.95|            435.66|         165863.77|        128473.14|          35739.71|         124561.1|        103437.92|          19371.54|          24170.16|          19653.26|           4093.53|          624.37|          54096.74|         188245.68|  7.852000000000001|  7.910000000000002|  8.205000000000002| 8.174000000000003|  8.214999999999998| 8.005000000000003| 8.005000000000003|  7.982000000000003|  7.731999999999997|  7.722999999999997|  7.780000000000004|              7.651|  7.623999999999996|              7.77| 7.2740000000000045|  7.958000000000003|  7.793000000000003|          null|     null|\n| stddev|            null|1.9194906731850856|7.445294727259466E7|1.454003701299839E8|        null|        null|        null|    10649.037862220703|    13471.568215799898|     6940.301133358087|0.247433288631971|   null|   null|     null| 9.12206632649366|19.050798652364403|82669.59474649609|75666.91877451727|62162.75248118826|32586.3586238974|12883.912563226615|5480.914204092805|2713.608901556387|1768.1675057482078|1318.6311639596781|3489.77840277933|167658.01570575597|39117.95482792519|1324.5228176382782|1040.9593610771465|366.49999572808576|103522.93235555117|83188.72525721016|23092.041366466634|72089.24535860907|61116.37472683659|11324.680698261465|12841.696512831812|10669.041306338804|2187.9556550775565|133.244262294267|32115.288161707263|106902.25634661589|0.26303588878303064|0.29831174799175847|0.30595932917809704|0.3580587390443929|0.38148434178915297|0.2716857215849435|0.2819037015892069|0.32141731582024435|0.25181362355937187|0.26047935609083295|0.28212755908623965|0.21485019446257456|0.21325756230152285|0.3013437917198243|0.36198666195640855|0.23232683352500996|0.26409938441519476|          null|     null|\n|    min|12 Years a Slave|              2010|            3000000|             223838|Aidan Turner|  Adam Brown|           0|                    39|                    12|                     0|              7.5| Action| Action|Adventure|               62|                91|             6420|             7321|            11668|            8558|              3370|             1162|              456|               227|               158|             293|             22441|             9552|               121|                95|                20|             15959|            10150|              4370|            12174|             9280|              2682|              1899|              1496|               355|             198|              3678|             19009|                7.4|                7.3|                7.5|               7.4|                7.2|               7.6|               7.6|                7.3|                7.3|                7.2|                7.2|                7.1|                7.1|               7.0|                6.4|                7.5|                7.3|             G|Australia|\n|    max|        Zootopia|              2016|          260000000|          936662225|  Tom Hughes|Will Ferrell|ZoÃ« Kravitz|                 35000|                 96000|                 46000|              8.8|Mystery|Western|  Western|              100|               180|           584839|           485218|           304457|          162604|             67579|            27957|            12286|              7868|              5751|           15768|           1044318|           239796|              5735|              4596|              1910|            655187|           512411|            136770|           472680|           392845|             73555|             79634|             65508|             12795|             885|            212524|            707266|                8.8|                8.7|                9.1|               9.1|                9.0|               9.0|               9.0|                8.8|                8.7|                8.7|                8.5|                8.1|                8.1|               8.5|                8.2|                8.7|                8.8|             R|      USA|\n+-------+----------------+------------------+-------------------+-------------------+------------+------------+------------+----------------------+----------------------+----------------------+-----------------+-------+-------+---------+-----------------+------------------+-----------------+-----------------+-----------------+----------------+------------------+-----------------+-----------------+------------------+------------------+----------------+------------------+-----------------+------------------+------------------+------------------+------------------+-----------------+------------------+-----------------+-----------------+------------------+------------------+------------------+------------------+----------------+------------------+------------------+-------------------+-------------------+-------------------+------------------+-------------------+------------------+------------------+-------------------+-------------------+-------------------+-------------------+-------------------+-------------------+------------------+-------------------+-------------------+-------------------+--------------+---------+\n\n"
     ]
    }
   ],
   "source": [
    "# Check the number of rows and columns in the dataframe\n",
    "# Number of rows and columns\n",
    "print(\"Number of rows:\", movies.count())\n",
    "print(\"Number of columns:\", len(movies.columns))\n",
    "\n",
    "# Print schema\n",
    "movies.printSchema()\n",
    "\n",
    "# Show summary statistics for numeric columns\n",
    "movies.describe().show()\n",
    "\n"
   ]
  },
  {
   "cell_type": "code",
   "execution_count": 0,
   "metadata": {
    "application/vnd.databricks.v1+cell": {
     "cellMetadata": {
      "byteLimit": 2048000,
      "rowLimit": 10000
     },
     "inputWidgets": {},
     "nuid": "1751c094-ecf2-4bed-b09a-0e9f4c8bf2f9",
     "showTitle": false,
     "tableResultSettingsMap": {},
     "title": ""
    }
   },
   "outputs": [
    {
     "output_type": "stream",
     "name": "stdout",
     "output_type": "stream",
     "text": [
      "root\n |-- Title: string (nullable = true)\n |-- title_year: integer (nullable = true)\n |-- budget: integer (nullable = true)\n |-- Gross: integer (nullable = true)\n |-- actor_1_name: string (nullable = true)\n |-- actor_2_name: string (nullable = true)\n |-- actor_3_name: string (nullable = true)\n |-- actor_1_facebook_likes: integer (nullable = true)\n |-- actor_2_facebook_likes: integer (nullable = true)\n |-- actor_3_facebook_likes: integer (nullable = true)\n |-- IMDb_rating: double (nullable = true)\n |-- genre_1: string (nullable = true)\n |-- genre_2: string (nullable = true)\n |-- genre_3: string (nullable = true)\n |-- MetaCritic: integer (nullable = true)\n |-- Runtime: integer (nullable = true)\n |-- CVotes10: integer (nullable = true)\n |-- CVotes09: integer (nullable = true)\n |-- CVotes08: integer (nullable = true)\n |-- CVotes07: integer (nullable = true)\n |-- CVotes06: integer (nullable = true)\n |-- CVotes05: integer (nullable = true)\n |-- CVotes04: integer (nullable = true)\n |-- CVotes03: integer (nullable = true)\n |-- CVotes02: integer (nullable = true)\n |-- CVotes01: integer (nullable = true)\n |-- CVotesMale: integer (nullable = true)\n |-- CVotesFemale: integer (nullable = true)\n |-- CVotesU18: integer (nullable = true)\n |-- CVotesU18M: integer (nullable = true)\n |-- CVotesU18F: integer (nullable = true)\n |-- CVotes1829: integer (nullable = true)\n |-- CVotes1829M: integer (nullable = true)\n |-- CVotes1829F: integer (nullable = true)\n |-- CVotes3044: integer (nullable = true)\n |-- CVotes3044M: integer (nullable = true)\n |-- CVotes3044F: integer (nullable = true)\n |-- CVotes45A: integer (nullable = true)\n |-- CVotes45AM: integer (nullable = true)\n |-- CVotes45AF: integer (nullable = true)\n |-- CVotes1000: integer (nullable = true)\n |-- CVotesUS: integer (nullable = true)\n |-- CVotesnUS: integer (nullable = true)\n |-- VotesM: double (nullable = true)\n |-- VotesF: double (nullable = true)\n |-- VotesU18: double (nullable = true)\n |-- VotesU18M: double (nullable = true)\n |-- VotesU18F: double (nullable = true)\n |-- Votes1829: double (nullable = true)\n |-- Votes1829M: double (nullable = true)\n |-- Votes1829F: double (nullable = true)\n |-- Votes3044: double (nullable = true)\n |-- Votes3044M: double (nullable = true)\n |-- Votes3044F: double (nullable = true)\n |-- Votes45A: double (nullable = true)\n |-- Votes45AM: double (nullable = true)\n |-- Votes45AF: double (nullable = true)\n |-- Votes1000: double (nullable = true)\n |-- VotesUS: double (nullable = true)\n |-- VotesnUS: double (nullable = true)\n |-- content_rating: string (nullable = true)\n |-- Country: string (nullable = true)\n\nColumn Info:\nTitle: string\ntitle_year: int\nbudget: int\nGross: int\nactor_1_name: string\nactor_2_name: string\nactor_3_name: string\nactor_1_facebook_likes: int\nactor_2_facebook_likes: int\nactor_3_facebook_likes: int\nIMDb_rating: double\ngenre_1: string\ngenre_2: string\ngenre_3: string\nMetaCritic: int\nRuntime: int\nCVotes10: int\nCVotes09: int\nCVotes08: int\nCVotes07: int\nCVotes06: int\nCVotes05: int\nCVotes04: int\nCVotes03: int\nCVotes02: int\nCVotes01: int\nCVotesMale: int\nCVotesFemale: int\nCVotesU18: int\nCVotesU18M: int\nCVotesU18F: int\nCVotes1829: int\nCVotes1829M: int\nCVotes1829F: int\nCVotes3044: int\nCVotes3044M: int\nCVotes3044F: int\nCVotes45A: int\nCVotes45AM: int\nCVotes45AF: int\nCVotes1000: int\nCVotesUS: int\nCVotesnUS: int\nVotesM: double\nVotesF: double\nVotesU18: double\nVotesU18M: double\nVotesU18F: double\nVotes1829: double\nVotes1829M: double\nVotes1829F: double\nVotes3044: double\nVotes3044M: double\nVotes3044F: double\nVotes45A: double\nVotes45AM: double\nVotes45AF: double\nVotes1000: double\nVotesUS: double\nVotesnUS: double\ncontent_rating: string\nCountry: string\n"
     ]
    }
   ],
   "source": [
    "# Check the column-wise info of the dataframe\n",
    "# Print the schema (column names and data types)\n",
    "movies.printSchema()\n",
    "\n",
    "# Optionally, get column names and types as a list\n",
    "print(\"Column Info:\")\n",
    "for col_name, dtype in movies.dtypes:\n",
    "    print(f\"{col_name}: {dtype}\")\n",
    "\n"
   ]
  },
  {
   "cell_type": "code",
   "execution_count": 0,
   "metadata": {
    "application/vnd.databricks.v1+cell": {
     "cellMetadata": {
      "byteLimit": 2048000,
      "rowLimit": 10000
     },
     "inputWidgets": {},
     "nuid": "85239b7a-1c8e-4bfe-8488-68b6b3bc8117",
     "showTitle": false,
     "tableResultSettingsMap": {},
     "title": ""
    }
   },
   "outputs": [
    {
     "output_type": "stream",
     "name": "stdout",
     "output_type": "stream",
     "text": [
      "+-------+----------------+------------------+-------------------+-------------------+------------+------------+------------+----------------------+----------------------+----------------------+-----------------+-------+-------+---------+-----------------+------------------+-----------------+-----------------+-----------------+----------------+------------------+-----------------+-----------------+------------------+------------------+----------------+------------------+-----------------+------------------+------------------+------------------+------------------+-----------------+------------------+-----------------+-----------------+------------------+------------------+------------------+------------------+----------------+------------------+------------------+-------------------+-------------------+-------------------+------------------+-------------------+------------------+------------------+-------------------+-------------------+-------------------+-------------------+-------------------+-------------------+------------------+-------------------+-------------------+-------------------+--------------+---------+\n|summary|           Title|        title_year|             budget|              Gross|actor_1_name|actor_2_name|actor_3_name|actor_1_facebook_likes|actor_2_facebook_likes|actor_3_facebook_likes|      IMDb_rating|genre_1|genre_2|  genre_3|       MetaCritic|           Runtime|         CVotes10|         CVotes09|         CVotes08|        CVotes07|          CVotes06|         CVotes05|         CVotes04|          CVotes03|          CVotes02|        CVotes01|        CVotesMale|     CVotesFemale|         CVotesU18|        CVotesU18M|        CVotesU18F|        CVotes1829|      CVotes1829M|       CVotes1829F|       CVotes3044|      CVotes3044M|       CVotes3044F|         CVotes45A|        CVotes45AM|        CVotes45AF|      CVotes1000|          CVotesUS|         CVotesnUS|             VotesM|             VotesF|           VotesU18|         VotesU18M|          VotesU18F|         Votes1829|        Votes1829M|         Votes1829F|          Votes3044|         Votes3044M|         Votes3044F|           Votes45A|          Votes45AM|         Votes45AF|          Votes1000|            VotesUS|           VotesnUS|content_rating|  Country|\n+-------+----------------+------------------+-------------------+-------------------+------------+------------+------------+----------------------+----------------------+----------------------+-----------------+-------+-------+---------+-----------------+------------------+-----------------+-----------------+-----------------+----------------+------------------+-----------------+-----------------+------------------+------------------+----------------+------------------+-----------------+------------------+------------------+------------------+------------------+-----------------+------------------+-----------------+-----------------+------------------+------------------+------------------+------------------+----------------+------------------+------------------+-------------------+-------------------+-------------------+------------------+-------------------+------------------+------------------+-------------------+-------------------+-------------------+-------------------+-------------------+-------------------+------------------+-------------------+-------------------+-------------------+--------------+---------+\n|  count|             100|               100|                100|                100|         100|         100|         100|                   100|                    99|                    98|              100|    100|     97|       74|               95|               100|              100|              100|              100|             100|               100|              100|              100|               100|               100|             100|               100|              100|               100|               100|               100|               100|              100|               100|              100|              100|               100|               100|               100|               100|             100|               100|               100|                100|                100|                100|               100|                100|               100|               100|                100|                100|                100|                100|                100|                100|               100|                100|                100|                100|           100|      100|\n|   mean|            null|           2012.82|           7.8384E7|     1.4686786724E8|        null|        null|         0.0|              13407.27|      7377.30303030303|    3002.1530612244896|7.883000000000005|   null|   null|     null|78.25263157894737|            126.42|         73212.16|         92404.17|        125762.23|        76715.28|          27841.45|         10171.75|          4330.11|           2477.07|           1711.57|         4084.35|         271446.18|         64468.86|           1769.05|           1318.95|            435.66|         165863.77|        128473.14|          35739.71|         124561.1|        103437.92|          19371.54|          24170.16|          19653.26|           4093.53|          624.37|          54096.74|         188245.68|  7.852000000000001|  7.910000000000002|  8.205000000000002| 8.174000000000003|  8.214999999999998| 8.005000000000003| 8.005000000000003|  7.982000000000003|  7.731999999999997|  7.722999999999997|  7.780000000000004|              7.651|  7.623999999999996|              7.77| 7.2740000000000045|  7.958000000000003|  7.793000000000003|          null|     null|\n| stddev|            null|1.9194906731850856|7.445294727259466E7|1.454003701299839E8|        null|        null|        null|    10649.037862220703|    13471.568215799898|     6940.301133358087|0.247433288631971|   null|   null|     null| 9.12206632649366|19.050798652364403|82669.59474649609|75666.91877451727|62162.75248118826|32586.3586238974|12883.912563226615|5480.914204092805|2713.608901556387|1768.1675057482078|1318.6311639596781|3489.77840277933|167658.01570575597|39117.95482792519|1324.5228176382782|1040.9593610771465|366.49999572808576|103522.93235555117|83188.72525721016|23092.041366466634|72089.24535860907|61116.37472683659|11324.680698261465|12841.696512831812|10669.041306338804|2187.9556550775565|133.244262294267|32115.288161707263|106902.25634661589|0.26303588878303064|0.29831174799175847|0.30595932917809704|0.3580587390443929|0.38148434178915297|0.2716857215849435|0.2819037015892069|0.32141731582024435|0.25181362355937187|0.26047935609083295|0.28212755908623965|0.21485019446257456|0.21325756230152285|0.3013437917198243|0.36198666195640855|0.23232683352500996|0.26409938441519476|          null|     null|\n|    min|12 Years a Slave|              2010|            3000000|             223838|Aidan Turner|  Adam Brown|           0|                    39|                    12|                     0|              7.5| Action| Action|Adventure|               62|                91|             6420|             7321|            11668|            8558|              3370|             1162|              456|               227|               158|             293|             22441|             9552|               121|                95|                20|             15959|            10150|              4370|            12174|             9280|              2682|              1899|              1496|               355|             198|              3678|             19009|                7.4|                7.3|                7.5|               7.4|                7.2|               7.6|               7.6|                7.3|                7.3|                7.2|                7.2|                7.1|                7.1|               7.0|                6.4|                7.5|                7.3|             G|Australia|\n|    max|        Zootopia|              2016|          260000000|          936662225|  Tom Hughes|Will Ferrell|ZoÃ« Kravitz|                 35000|                 96000|                 46000|              8.8|Mystery|Western|  Western|              100|               180|           584839|           485218|           304457|          162604|             67579|            27957|            12286|              7868|              5751|           15768|           1044318|           239796|              5735|              4596|              1910|            655187|           512411|            136770|           472680|           392845|             73555|             79634|             65508|             12795|             885|            212524|            707266|                8.8|                8.7|                9.1|               9.1|                9.0|               9.0|               9.0|                8.8|                8.7|                8.7|                8.5|                8.1|                8.1|               8.5|                8.2|                8.7|                8.8|             R|      USA|\n+-------+----------------+------------------+-------------------+-------------------+------------+------------+------------+----------------------+----------------------+----------------------+-----------------+-------+-------+---------+-----------------+------------------+-----------------+-----------------+-----------------+----------------+------------------+-----------------+-----------------+------------------+------------------+----------------+------------------+-----------------+------------------+------------------+------------------+------------------+-----------------+------------------+-----------------+-----------------+------------------+------------------+------------------+------------------+----------------+------------------+------------------+-------------------+-------------------+-------------------+------------------+-------------------+------------------+------------------+-------------------+-------------------+-------------------+-------------------+-------------------+-------------------+------------------+-------------------+-------------------+-------------------+--------------+---------+\n\n"
     ]
    }
   ],
   "source": [
    "# Check the summary for the numeric columns \n",
    "# Summary statistics for all numeric columns\n",
    "movies.describe().show()\n",
    "\n"
   ]
  },
  {
   "cell_type": "markdown",
   "metadata": {
    "application/vnd.databricks.v1+cell": {
     "cellMetadata": {
      "byteLimit": 2048000,
      "rowLimit": 10000
     },
     "inputWidgets": {},
     "nuid": "dad97ba9-9922-4d75-a63d-844a5bdb6f77",
     "showTitle": false,
     "tableResultSettingsMap": {},
     "title": ""
    }
   },
   "source": [
    "## Task 2: Data Analysis\n",
    "\n",
    "Now that we have loaded the dataset and inspected it, we see that most of the data is in place. As of now, no data cleaning is required, so let's start with some data manipulation, analysis, and visualisation to get various insights about the data. "
   ]
  },
  {
   "cell_type": "markdown",
   "metadata": {
    "application/vnd.databricks.v1+cell": {
     "cellMetadata": {
      "byteLimit": 2048000,
      "rowLimit": 10000
     },
     "inputWidgets": {},
     "nuid": "cb4909a5-d7e9-4665-883f-f917e1414af9",
     "showTitle": false,
     "tableResultSettingsMap": {},
     "title": ""
    }
   },
   "source": [
    "-  ###  Subtask 2.1: Reduce those Digits!\n",
    "\n",
    "These numbers in the `budget` and `gross` are too big, compromising its readability. Let's convert the unit of the `budget` and `gross` columns from `$` to `million $` first."
   ]
  },
  {
   "cell_type": "code",
   "execution_count": 0,
   "metadata": {
    "application/vnd.databricks.v1+cell": {
     "cellMetadata": {
      "byteLimit": 2048000,
      "rowLimit": 10000
     },
     "inputWidgets": {},
     "nuid": "3a2ceab2-24a7-482e-a55a-3e92b54d6925",
     "showTitle": false,
     "tableResultSettingsMap": {},
     "title": ""
    }
   },
   "outputs": [
    {
     "output_type": "stream",
     "name": "stdout",
     "output_type": "stream",
     "text": [
      "+--------------------+----------+------+\n|               Title|     gross|budget|\n+--------------------+----------+------+\n|          La La Land|151.101803|  30.0|\n|            Zootopia|341.268248| 150.0|\n|                Lion| 51.738905|  12.0|\n|             Arrival|100.546139|  47.0|\n|Manchester by the...| 47.695371|   9.0|\n+--------------------+----------+------+\nonly showing top 5 rows\n\n"
     ]
    }
   ],
   "source": [
    "# Divide the 'gross' and 'budget' columns by 1000000 to convert '$' to 'million $'\n",
    "\n",
    "from pyspark.sql.functions import col\n",
    "\n",
    "# Create new columns with values in million dollars\n",
    "movies = movies.withColumn(\"gross\", col(\"gross\") / 1000000)\n",
    "movies = movies.withColumn(\"budget\", col(\"budget\") / 1000000)\n",
    "\n",
    "# Show updated values\n",
    "movies.select(\"Title\", \"gross\", \"budget\").show(5)\n",
    "\n"
   ]
  },
  {
   "cell_type": "code",
   "execution_count": 0,
   "metadata": {
    "application/vnd.databricks.v1+cell": {
     "cellMetadata": {
      "byteLimit": 2048000,
      "rowLimit": 10000
     },
     "inputWidgets": {},
     "nuid": "07dfada7-2fff-4a4c-94b8-b19bd3a0f26a",
     "showTitle": false,
     "tableResultSettingsMap": {},
     "title": ""
    }
   },
   "outputs": [
    {
     "output_type": "execute_result",
     "data": {
      "text/html": [
       "<div>\n",
       "<style scoped>\n",
       "    .dataframe tbody tr th:only-of-type {\n",
       "        vertical-align: middle;\n",
       "    }\n",
       "\n",
       "    .dataframe tbody tr th {\n",
       "        vertical-align: top;\n",
       "    }\n",
       "\n",
       "    .dataframe thead th {\n",
       "        text-align: right;\n",
       "    }\n",
       "</style>\n",
       "<table border=\"1\" class=\"dataframe\">\n",
       "  <thead>\n",
       "    <tr style=\"text-align: right;\">\n",
       "      <th></th>\n",
       "      <th>Title</th>\n",
       "      <th>title_year</th>\n",
       "      <th>budget</th>\n",
       "      <th>Gross</th>\n",
       "      <th>actor_1_name</th>\n",
       "      <th>actor_2_name</th>\n",
       "      <th>actor_3_name</th>\n",
       "      <th>actor_1_facebook_likes</th>\n",
       "      <th>actor_2_facebook_likes</th>\n",
       "      <th>actor_3_facebook_likes</th>\n",
       "      <th>...</th>\n",
       "      <th>Votes3044M</th>\n",
       "      <th>Votes3044F</th>\n",
       "      <th>Votes45A</th>\n",
       "      <th>Votes45AM</th>\n",
       "      <th>Votes45AF</th>\n",
       "      <th>Votes1000</th>\n",
       "      <th>VotesUS</th>\n",
       "      <th>VotesnUS</th>\n",
       "      <th>content_rating</th>\n",
       "      <th>Country</th>\n",
       "    </tr>\n",
       "  </thead>\n",
       "  <tbody>\n",
       "    <tr>\n",
       "      <th>0</th>\n",
       "      <td>La La Land</td>\n",
       "      <td>2016</td>\n",
       "      <td>30.0</td>\n",
       "      <td>151.101803</td>\n",
       "      <td>Ryan Gosling</td>\n",
       "      <td>Emma Stone</td>\n",
       "      <td>Amiée Conn</td>\n",
       "      <td>14000</td>\n",
       "      <td>19000.0</td>\n",
       "      <td>NaN</td>\n",
       "      <td>...</td>\n",
       "      <td>7.9</td>\n",
       "      <td>7.8</td>\n",
       "      <td>7.6</td>\n",
       "      <td>7.6</td>\n",
       "      <td>7.5</td>\n",
       "      <td>7.1</td>\n",
       "      <td>8.3</td>\n",
       "      <td>8.1</td>\n",
       "      <td>PG-13</td>\n",
       "      <td>USA</td>\n",
       "    </tr>\n",
       "    <tr>\n",
       "      <th>1</th>\n",
       "      <td>Zootopia</td>\n",
       "      <td>2016</td>\n",
       "      <td>150.0</td>\n",
       "      <td>341.268248</td>\n",
       "      <td>Ginnifer Goodwin</td>\n",
       "      <td>Jason Bateman</td>\n",
       "      <td>Idris Elba</td>\n",
       "      <td>2800</td>\n",
       "      <td>28000.0</td>\n",
       "      <td>27000.0</td>\n",
       "      <td>...</td>\n",
       "      <td>7.8</td>\n",
       "      <td>8.1</td>\n",
       "      <td>7.8</td>\n",
       "      <td>7.8</td>\n",
       "      <td>8.1</td>\n",
       "      <td>7.6</td>\n",
       "      <td>8.0</td>\n",
       "      <td>8.0</td>\n",
       "      <td>PG</td>\n",
       "      <td>USA</td>\n",
       "    </tr>\n",
       "    <tr>\n",
       "      <th>2</th>\n",
       "      <td>Lion</td>\n",
       "      <td>2016</td>\n",
       "      <td>12.0</td>\n",
       "      <td>51.738905</td>\n",
       "      <td>Dev Patel</td>\n",
       "      <td>Nicole Kidman</td>\n",
       "      <td>Rooney Mara</td>\n",
       "      <td>33000</td>\n",
       "      <td>96000.0</td>\n",
       "      <td>9800.0</td>\n",
       "      <td>...</td>\n",
       "      <td>7.9</td>\n",
       "      <td>8.2</td>\n",
       "      <td>8.0</td>\n",
       "      <td>7.9</td>\n",
       "      <td>8.4</td>\n",
       "      <td>7.1</td>\n",
       "      <td>8.1</td>\n",
       "      <td>8.0</td>\n",
       "      <td>PG-13</td>\n",
       "      <td>Australia</td>\n",
       "    </tr>\n",
       "    <tr>\n",
       "      <th>3</th>\n",
       "      <td>Arrival</td>\n",
       "      <td>2016</td>\n",
       "      <td>47.0</td>\n",
       "      <td>100.546139</td>\n",
       "      <td>Amy Adams</td>\n",
       "      <td>Jeremy Renner</td>\n",
       "      <td>Forest Whitaker</td>\n",
       "      <td>35000</td>\n",
       "      <td>5300.0</td>\n",
       "      <td>NaN</td>\n",
       "      <td>...</td>\n",
       "      <td>7.8</td>\n",
       "      <td>7.8</td>\n",
       "      <td>7.6</td>\n",
       "      <td>7.6</td>\n",
       "      <td>7.7</td>\n",
       "      <td>7.3</td>\n",
       "      <td>8.0</td>\n",
       "      <td>7.9</td>\n",
       "      <td>PG-13</td>\n",
       "      <td>USA</td>\n",
       "    </tr>\n",
       "    <tr>\n",
       "      <th>4</th>\n",
       "      <td>Manchester by the Sea</td>\n",
       "      <td>2016</td>\n",
       "      <td>9.0</td>\n",
       "      <td>47.695371</td>\n",
       "      <td>Casey Affleck</td>\n",
       "      <td>Michelle Williams</td>\n",
       "      <td>Kyle Chandler</td>\n",
       "      <td>518</td>\n",
       "      <td>71000.0</td>\n",
       "      <td>3300.0</td>\n",
       "      <td>...</td>\n",
       "      <td>7.7</td>\n",
       "      <td>7.7</td>\n",
       "      <td>7.6</td>\n",
       "      <td>7.6</td>\n",
       "      <td>7.6</td>\n",
       "      <td>7.1</td>\n",
       "      <td>7.9</td>\n",
       "      <td>7.8</td>\n",
       "      <td>R</td>\n",
       "      <td>USA</td>\n",
       "    </tr>\n",
       "  </tbody>\n",
       "</table>\n",
       "<p>5 rows × 62 columns</p>\n",
       "</div>"
      ],
      "text/plain": [
       "                   Title  title_year  budget       Gross      actor_1_name  \\\n",
       "0             La La Land        2016    30.0  151.101803      Ryan Gosling   \n",
       "1               Zootopia        2016   150.0  341.268248  Ginnifer Goodwin   \n",
       "2                   Lion        2016    12.0   51.738905         Dev Patel   \n",
       "3                Arrival        2016    47.0  100.546139         Amy Adams   \n",
       "4  Manchester by the Sea        2016     9.0   47.695371     Casey Affleck   \n",
       "\n",
       "         actor_2_name     actor_3_name  actor_1_facebook_likes  \\\n",
       "0          Emma Stone       Amiée Conn                   14000   \n",
       "1       Jason Bateman       Idris Elba                    2800   \n",
       "2       Nicole Kidman      Rooney Mara                   33000   \n",
       "3       Jeremy Renner  Forest Whitaker                   35000   \n",
       "4  Michelle Williams     Kyle Chandler                     518   \n",
       "\n",
       "   actor_2_facebook_likes  actor_3_facebook_likes  ...  Votes3044M Votes3044F  \\\n",
       "0                 19000.0                     NaN  ...         7.9        7.8   \n",
       "1                 28000.0                 27000.0  ...         7.8        8.1   \n",
       "2                 96000.0                  9800.0  ...         7.9        8.2   \n",
       "3                  5300.0                     NaN  ...         7.8        7.8   \n",
       "4                 71000.0                  3300.0  ...         7.7        7.7   \n",
       "\n",
       "  Votes45A Votes45AM  Votes45AF  Votes1000  VotesUS  VotesnUS  content_rating  \\\n",
       "0      7.6       7.6        7.5        7.1      8.3       8.1           PG-13   \n",
       "1      7.8       7.8        8.1        7.6      8.0       8.0              PG   \n",
       "2      8.0       7.9        8.4        7.1      8.1       8.0           PG-13   \n",
       "3      7.6       7.6        7.7        7.3      8.0       7.9           PG-13   \n",
       "4      7.6       7.6        7.6        7.1      7.9       7.8               R   \n",
       "\n",
       "     Country  \n",
       "0        USA  \n",
       "1        USA  \n",
       "2  Australia  \n",
       "3        USA  \n",
       "4        USA  \n",
       "\n",
       "[5 rows x 62 columns]"
      ]
     },
     "execution_count": 59,
     "metadata": {},
     "output_type": "execute_result"
    }
   ],
   "source": [
    "movies.head()"
   ]
  },
  {
   "cell_type": "markdown",
   "metadata": {
    "application/vnd.databricks.v1+cell": {
     "cellMetadata": {
      "byteLimit": 2048000,
      "rowLimit": 10000
     },
     "inputWidgets": {},
     "nuid": "61614000-bf86-473f-9e1e-81cc9fe8228c",
     "showTitle": false,
     "tableResultSettingsMap": {},
     "title": ""
    }
   },
   "source": [
    "-  ###  Subtask 2.2: Let's Talk Profit!\n",
    "\n",
    "    1. Create a new column called `profit` which contains the difference of the two columns: `gross` and `budget`.\n",
    "    2. Sort the dataframe using the `profit` column as reference.\n",
    "    3. Extract the top ten profiting movies in descending order and store them in a new dataframe - `top10`.\n",
    "    4. Plot a scatter or a joint plot between the columns `budget` and `profit` and write a few words on what you observed.\n",
    "    5. Extract the movies with a negative profit and store them in a new dataframe - `neg_profit`"
   ]
  },
  {
   "cell_type": "code",
   "execution_count": 0,
   "metadata": {
    "application/vnd.databricks.v1+cell": {
     "cellMetadata": {
      "byteLimit": 2048000,
      "rowLimit": 10000
     },
     "inputWidgets": {},
     "nuid": "6f2b4c8a-9457-4b59-99ad-50473cf345aa",
     "showTitle": false,
     "tableResultSettingsMap": {},
     "title": ""
    }
   },
   "outputs": [
    {
     "output_type": "stream",
     "name": "stdout",
     "output_type": "stream",
     "text": [
      "+--------------------+----------+------+------------------+\n|               Title|     gross|budget|            profit|\n+--------------------+----------+------+------------------+\n|          La La Land|151.101803|  30.0|121.10180299999999|\n|            Zootopia|341.268248| 150.0|191.26824800000003|\n|                Lion| 51.738905|  12.0|         39.738905|\n|             Arrival|100.546139|  47.0|         53.546139|\n|Manchester by the...| 47.695371|   9.0|         38.695371|\n+--------------------+----------+------+------------------+\nonly showing top 5 rows\n\n"
     ]
    }
   ],
   "source": [
    "# Create the new column named 'profit' by subtracting the 'budget' column from the 'gross' column\n",
    "from pyspark.sql.functions import col\n",
    "\n",
    "# Create a new column 'profit'\n",
    "movies = movies.withColumn(\"profit\", col(\"gross\") - col(\"budget\"))\n",
    "\n",
    "# Show updated DataFrame with profit\n",
    "movies.select(\"Title\", \"gross\", \"budget\", \"profit\").show(5)\n",
    "\n"
   ]
  },
  {
   "cell_type": "code",
   "execution_count": 0,
   "metadata": {
    "application/vnd.databricks.v1+cell": {
     "cellMetadata": {
      "byteLimit": 2048000,
      "rowLimit": 10000
     },
     "inputWidgets": {},
     "nuid": "602938d1-f4cc-49bc-a88f-f2cd47a34ce0",
     "showTitle": false,
     "tableResultSettingsMap": {},
     "title": ""
    }
   },
   "outputs": [],
   "source": [
    "# Sort the dataframe with the 'profit' column as reference using the 'sort_values' function. Make sure to set the argument\n",
    "# Sort the DataFrame by the 'profit' column in descending order\n",
    "sorted_movies = movies.sort(\"profit\", ascending=False)\n",
    "\n",
    "\n"
   ]
  },
  {
   "cell_type": "code",
   "execution_count": 0,
   "metadata": {
    "application/vnd.databricks.v1+cell": {
     "cellMetadata": {
      "byteLimit": 2048000,
      "rowLimit": 10000
     },
     "inputWidgets": {},
     "nuid": "1d80ed35-efcd-4b7c-ac03-53b7ed816cc0",
     "showTitle": false,
     "tableResultSettingsMap": {},
     "title": ""
    }
   },
   "outputs": [
    {
     "output_type": "display_data",
     "data": {
      "text/html": [
       "<div>\n",
       "<style scoped>\n",
       "    .dataframe tbody tr th:only-of-type {\n",
       "        vertical-align: middle;\n",
       "    }\n",
       "\n",
       "    .dataframe tbody tr th {\n",
       "        vertical-align: top;\n",
       "    }\n",
       "\n",
       "    .dataframe thead th {\n",
       "        text-align: right;\n",
       "    }\n",
       "</style>\n",
       "<table border=\"1\" class=\"dataframe\">\n",
       "  <thead>\n",
       "    <tr style=\"text-align: right;\">\n",
       "      <th></th>\n",
       "      <th>Title</th>\n",
       "      <th>gross</th>\n",
       "      <th>budget</th>\n",
       "      <th>profit</th>\n",
       "    </tr>\n",
       "  </thead>\n",
       "  <tbody>\n",
       "    <tr>\n",
       "      <th>0</th>\n",
       "      <td>Star Wars: Episode VII - The Force Awakens</td>\n",
       "      <td>936.662225</td>\n",
       "      <td>245.0</td>\n",
       "      <td>691.662225</td>\n",
       "    </tr>\n",
       "    <tr>\n",
       "      <th>1</th>\n",
       "      <td>The Avengers</td>\n",
       "      <td>623.279547</td>\n",
       "      <td>220.0</td>\n",
       "      <td>403.279547</td>\n",
       "    </tr>\n",
       "    <tr>\n",
       "      <th>2</th>\n",
       "      <td>Deadpool</td>\n",
       "      <td>363.024263</td>\n",
       "      <td>58.0</td>\n",
       "      <td>305.024263</td>\n",
       "    </tr>\n",
       "    <tr>\n",
       "      <th>3</th>\n",
       "      <td>The Hunger Games: Catching Fire</td>\n",
       "      <td>424.645577</td>\n",
       "      <td>130.0</td>\n",
       "      <td>294.645577</td>\n",
       "    </tr>\n",
       "    <tr>\n",
       "      <th>4</th>\n",
       "      <td>Toy Story 3</td>\n",
       "      <td>414.984497</td>\n",
       "      <td>200.0</td>\n",
       "      <td>214.984497</td>\n",
       "    </tr>\n",
       "    <tr>\n",
       "      <th>5</th>\n",
       "      <td>The Dark Knight Rises</td>\n",
       "      <td>448.130642</td>\n",
       "      <td>250.0</td>\n",
       "      <td>198.130642</td>\n",
       "    </tr>\n",
       "    <tr>\n",
       "      <th>6</th>\n",
       "      <td>The Lego Movie</td>\n",
       "      <td>257.756197</td>\n",
       "      <td>60.0</td>\n",
       "      <td>197.756197</td>\n",
       "    </tr>\n",
       "    <tr>\n",
       "      <th>7</th>\n",
       "      <td>Zootopia</td>\n",
       "      <td>341.268248</td>\n",
       "      <td>150.0</td>\n",
       "      <td>191.268248</td>\n",
       "    </tr>\n",
       "    <tr>\n",
       "      <th>8</th>\n",
       "      <td>Despicable Me</td>\n",
       "      <td>251.501645</td>\n",
       "      <td>69.0</td>\n",
       "      <td>182.501645</td>\n",
       "    </tr>\n",
       "    <tr>\n",
       "      <th>9</th>\n",
       "      <td>Inside Out</td>\n",
       "      <td>356.454367</td>\n",
       "      <td>175.0</td>\n",
       "      <td>181.454367</td>\n",
       "    </tr>\n",
       "  </tbody>\n",
       "</table>\n",
       "</div>"
      ]
     },
     "metadata": {
      "application/vnd.databricks.v1+output": {
       "addedWidgets": {},
       "arguments": {},
       "data": "<div>\n<style scoped>\n    .dataframe tbody tr th:only-of-type {\n        vertical-align: middle;\n    }\n\n    .dataframe tbody tr th {\n        vertical-align: top;\n    }\n\n    .dataframe thead th {\n        text-align: right;\n    }\n</style>\n<table border=\"1\" class=\"dataframe\">\n  <thead>\n    <tr style=\"text-align: right;\">\n      <th></th>\n      <th>Title</th>\n      <th>gross</th>\n      <th>budget</th>\n      <th>profit</th>\n    </tr>\n  </thead>\n  <tbody>\n    <tr>\n      <th>0</th>\n      <td>Star Wars: Episode VII - The Force Awakens</td>\n      <td>936.662225</td>\n      <td>245.0</td>\n      <td>691.662225</td>\n    </tr>\n    <tr>\n      <th>1</th>\n      <td>The Avengers</td>\n      <td>623.279547</td>\n      <td>220.0</td>\n      <td>403.279547</td>\n    </tr>\n    <tr>\n      <th>2</th>\n      <td>Deadpool</td>\n      <td>363.024263</td>\n      <td>58.0</td>\n      <td>305.024263</td>\n    </tr>\n    <tr>\n      <th>3</th>\n      <td>The Hunger Games: Catching Fire</td>\n      <td>424.645577</td>\n      <td>130.0</td>\n      <td>294.645577</td>\n    </tr>\n    <tr>\n      <th>4</th>\n      <td>Toy Story 3</td>\n      <td>414.984497</td>\n      <td>200.0</td>\n      <td>214.984497</td>\n    </tr>\n    <tr>\n      <th>5</th>\n      <td>The Dark Knight Rises</td>\n      <td>448.130642</td>\n      <td>250.0</td>\n      <td>198.130642</td>\n    </tr>\n    <tr>\n      <th>6</th>\n      <td>The Lego Movie</td>\n      <td>257.756197</td>\n      <td>60.0</td>\n      <td>197.756197</td>\n    </tr>\n    <tr>\n      <th>7</th>\n      <td>Zootopia</td>\n      <td>341.268248</td>\n      <td>150.0</td>\n      <td>191.268248</td>\n    </tr>\n    <tr>\n      <th>8</th>\n      <td>Despicable Me</td>\n      <td>251.501645</td>\n      <td>69.0</td>\n      <td>182.501645</td>\n    </tr>\n    <tr>\n      <th>9</th>\n      <td>Inside Out</td>\n      <td>356.454367</td>\n      <td>175.0</td>\n      <td>181.454367</td>\n    </tr>\n  </tbody>\n</table>\n</div>",
       "datasetInfos": [],
       "metadata": {},
       "removedWidgets": [],
       "textData": null,
       "type": "htmlSandbox"
      }
     },
     "output_type": "display_data"
    }
   ],
   "source": [
    "# Get the top 10 profitable movies by using position based indexing. Specify the rows till 10 (0-9)\n",
    "# Get the top 10 profitable movies (rows 0-9)\n",
    "# Convert to Pandas DataFrame for position-based indexing\n",
    "sorted_movies_pandas = sorted_movies.toPandas()\n",
    "\n",
    "top10_pandas = sorted_movies_pandas.iloc[0:10]\n",
    "\n",
    "# Display the top 10 profitable movies\n",
    "top10_pandas[['Title', 'gross', 'budget', 'profit']]\n",
    "\n",
    "\n"
   ]
  },
  {
   "cell_type": "code",
   "execution_count": 0,
   "metadata": {
    "application/vnd.databricks.v1+cell": {
     "cellMetadata": {
      "byteLimit": 2048000,
      "rowLimit": 10000
     },
     "inputWidgets": {},
     "nuid": "0c4f81b8-ead6-4959-ae72-abdfd007368e",
     "showTitle": false,
     "tableResultSettingsMap": {},
     "title": ""
    }
   },
   "outputs": [
    {
     "output_type": "display_data",
     "data": {
      "image/png": "[encoded data removed]"
     },
     "metadata": {
      "application/vnd.databricks.v1+output": {
       "addedWidgets": {},
       "arguments": {},
       "data": "data:image/png;base64,iVBORw0KGgoAAAANSUhEUgAAAY0AAAEWCAYAAACaBstRAAAAOXRFWHRTb2Z0d2FyZQBNYXRwbG90bGliIHZlcnNpb24zLjUuMSwgaHR0cHM6Ly9tYXRwbG90bGliLm9yZy/YYfK9AAAACXBIWXMAAAsTAAALEwEAmpwYAAAqKUlEQVR4nO3de5hcVZnv8e/budAh90snaZJ0LpIhEJQQ+2AcQR0iCDk4QY6C6IHooNFnYIKH8RnB0Ufn6JmBmSNOIh40EJyAF8jghYxyohhQcE5AGoxACJAQEpKYSyeEXO3c6j1/7FWd6k51967uqtq7q36f5+mnqvbeVbV2V9V+93rX2muZuyMiIhJHTdIFEBGR3kNBQ0REYlPQEBGR2BQ0REQkNgUNERGJTUFDRERiU9AQyWFmvzazTyZdjiRY5LtmtsfMfmdmF5jZy0mXS9JFQUN6NTPbaGZ/MrMD4WD3czObkIJyfdzMflum9zke9n+fma02s8u6+XLnAxcB4939PHd/wt3PyHmvjWb2vqIUXHotBQ2pBB9w90FAPbAD+GbC5Sm3VWH/hwFLgGVmNrz9RmbWt4vXmQhsdPeDxS+iVAoFDakY7t4CPAiclV3WPt3UvgZgZheZ2UtmttfM7gAsZ10fM/u6me0ys9fM7AYz8+zB18yGmtkSM9tmZlvN7GvhOWcC3wbeGWoAb7Yvq5ldZWZN7Zb9DzNbHu7PMbMXzWx/eO3Pxdj/DHAPMAB4i5l9xcweNLPvmdk+4ONmdpqZLTezN8xsvZl9KrzfdcDdOWX+BzN7r5ltCevvAxqA/wjr/66r8khlUtCQimFmpwJXAU/G3H4U8GPgi8Ao4FXgXTmbfAq4FJgBzAQub/cS/wYcA04HzgUuBj7p7muBzxBqAO4+LM/b/wdwhplNzVn2UeAH4f4S4NPuPhg4G3g0xv70BT4JHADWhcVziQLpMOD7wP3AFuA04EPAP5rZhe6+pF2Zv5z72u5+DfA6oVbn7v/cVXmkMiloSCX4aTib30uUk/+XmM+bA6xx9wfd/Sjwr8D2nPVXAgvdfYu77wFuza4wszHh+Z9194PuvhP4BvCROG/s7oeAh4Crw+tNBaYBy8MmR4GzzGyIu+9x92c7eblZYf+3h9f7oLvvDetWuftPQy1kFFFQ/Ly7t7j7aqLaxbVxyiwCChpSGS4PZ/O1wA3Ab8xsbIznnQZszj7waPTOzR2tb3d/ItAP2GZmb4aD9neA0QWU+weEoEFUy/hpCCYA/40oKG0ys9+Y2Ts7eZ0n3X2Yu49y91nu/qsOynwa8Ia7789ZtgkYV0CZpcopaEjFcPfj7v5j4DhRTyCAg8CpOZvlBpNtQGtPKzOz3Mdh/ficx7nrNgOHgVHhgD3M3Ye4+/RscWIU+RGgzsxmEAWPbGoKd3/a3ecSBaGfAstivF4+ueX4IzDCzAbnLGsAtnbjtaRKKWhIxQjXGcwFhgNrw+LVwBVmdqqZnQ5cl/OUnwPTzeyK0B6wgLZBZRlwo5mNM7NhwOezK9x9G/BL4OtmNsTMaszsLWb2nrDJDmC8mfXvqLwhJfbvROm0EURBBDPrb2YfM7OhYZt9QKY7/5N277cZ+H/AP5lZrZm9jej/8b2YL7EDmNLTckjvpqAhleA/zOwA0cH1fwHz3H1NWPcN4AjRAW8pUWMwAO6+C/gwUVvFbmAq8J85r3sXUWB4Dvg98DBRw/fxsP5aoD/wIrCHqMG5Pqx7FFgDbDezXZ2U/QfA+4B/d/djOcuvATaGXk+fAT4W5x8Rw9XAJKJax0+AL7dLZ3Xmn4AvhnRcl725pDKZJmESicfMLgW+7e4Tky6LSFJU0xDpgJkNCNdL9DWzccCXic7ORaqWahoiHQjXffyGqCvsn4jaQG50932JFkwkQQoaIiISm9JTIiISW1cDmPVqo0aN8kmTJiVdDBGRXuWZZ57Z5e51+dZVdNCYNGkSTU1NXW8oIiKtzGxTR+uUnhIRkdgUNEREJDYFDRERiS2xoGFmZ4SpKbN/+8zss2Y2wsweMbN14XZ42N7MbFGYOOY5M5uZVNlFRKpVYkHD3V929xnuPgN4O3CI6Grbm4GV7j4VWBkeQzQZztTwNx+4s+yFFhGpcmlJT80GXnX3TUQzjS0Ny5dyYra0ucC9HnkSGGZm9Se9kohIL5TJOBuaD7Dq1V1saD5AJpPOC6/T0uX2I8APw/0xYdhpiGYiGxPuj6PthDJbwrJtOcsws/lENREaGhpKVV4RkaLJZJwVa7Zz07LVtBzNUNuvhtuvnMEl08dSU2Ndv0AZJV7TCPMN/CXRvAJthJnUCgq37r7Y3RvdvbGuLu+1KSIiqbJx98HWgAHQcjTDTctWs3H3wYRLdrLEgwZRW8Wz7r4jPN6RTTuF251h+Vbazpw2nvgzjomIpNaOfS2tASOr5WiGnftbEipRx9IQNK7mRGoKYDkwL9yfBzyUs/za0ItqFrA3J40lItJrjRlSS22/tofj2n41jB5cm1CJOpZo0DCzgcBFwI9zFt8KXGRm64hmNLs1LH8Y2ACsJ5pR7a/LWFQRkZKZNHIgt185ozVwZNs0Jo0cmHDJTlbRQ6M3Nja6xp4Skd4gk3E27j7Izv0tjB5cy6SRAxNrBDezZ9y9Md+6tPSeEhGpajU1xpS6QUypG5R0UTqVhjYNERHpJRQ0REQkNgUNERGJTUFDRERiU9AQEZHYFDRERCQ2BQ0REYlNQUNERGJT0BARkdgUNEREJDYFDRERiU1BQ0REYlPQEBGR2BQ0REQkNgUNERGJLemZ+4aZ2YNm9pKZrTWzd5rZCDN7xMzWhdvhYVszs0Vmtt7MnjOzmUmWXUSkGiVd01gIrHD3acA5wFrgZmClu08FVobHAJcCU8PffODO8hdXRKS6JRY0zGwo8G5gCYC7H3H3N4G5wNKw2VLg8nB/LnCvR54EhplZfVkLLSJS5ZKsaUwGmoHvmtnvzexuMxsIjHH3bWGb7cCYcH8csDnn+VvCsjbMbL6ZNZlZU3NzcwmLLyJSfZIMGn2BmcCd7n4ucJATqSgA3N0BL+RF3X2xuze6e2NdXV3RCisiIskGjS3AFnd/Kjx+kCiI7MimncLtzrB+KzAh5/njwzIRESmTxIKGu28HNpvZGWHRbOBFYDkwLyybBzwU7i8Hrg29qGYBe3PSWCIiUgZ9E37/vwG+b2b9gQ3AJ4gC2TIzuw7YBFwZtn0YmAOsBw6FbUVEpIwSDRruvhpozLNqdp5tHbi+1GUSEZGOJX2dhoiI9CIKGiIiEpuChoiIxKagISIisSloiIhIbAoaIiISm4KGiIjEpqAhIiKxKWiIiEhsChoiIhKbgoaIiMSmoCEiIrEpaIiISGwKGiIiEpuChoiIxKagISIisSUaNMxso5k9b2arzawpLBthZo+Y2bpwOzwsNzNbZGbrzew5M5uZZNlFRKpRGmoaf+HuM9w9O4PfzcBKd58KrAyPAS4Fpoa/+cCdZS+piEiVS0PQaG8usDTcXwpcnrP8Xo88CQwzs/oEyiciUrWSDhoO/NLMnjGz+WHZGHffFu5vB8aE++OAzTnP3RKWtWFm882sycyampubS1VuEZGq1Dfh9z/f3bea2WjgETN7KXelu7uZeSEv6O6LgcUAjY2NBT1XREQ6l2hNw923htudwE+A84Ad2bRTuN0ZNt8KTMh5+viwTEREyiSxoGFmA81scPY+cDHwArAcmBc2mwc8FO4vB64NvahmAXtz0lgiIlIGSaanxgA/MbNsOX7g7ivM7GlgmZldB2wCrgzbPwzMAdYDh4BPlL/IIiLVLbGg4e4bgHPyLN8NzM6z3IHry1A0ERHpQNK9p0REpBdR0BARkdgUNEREJDYFDRERiU1BQ0REYlPQEBGR2BQ0REQkNgUNERGJTUFDRERiU9AQEZHYFDRERCQ2BQ0REYlNQUNERGJT0BARkdgUNEREJDYFDRERiS3xoGFmfczs92b2s/B4spk9ZWbrzewBM+sflp8SHq8P6yclWnARqViZjLOh+QCrXt3FhuYDZDKedJFSI/GgAdwIrM15fBvwDXc/HdgDXBeWXwfsCcu/EbYTESmqTMZZsWY7cxY9wdV3PcWcRU+wYs12BY4g0aBhZuOB/wrcHR4bcCHwYNhkKXB5uD83PCasnx22FxEpmo27D3LTstW0HM0A0HI0w03LVrNx98GES5YOSdc0/hX4OyATHo8E3nT3Y+HxFmBcuD8O2AwQ1u8N27dhZvPNrMnMmpqbm0tYdBGpRDv2tbQGjKyWoxl27m9JqETpkljQMLPLgJ3u/kwxX9fdF7t7o7s31tXVFfOlRaQKjBlSS22/tofG2n41jB5cm1CJ0iXJmsa7gL80s43A/URpqYXAMDPrG7YZD2wN97cCEwDC+qHA7nIWWEQq36SRA7n9yhmtgaO2Xw23XzmDSSMHJlyydOjb9Sal4e63ALcAmNl7gc+5+8fM7N+BDxEFknnAQ+Epy8PjVWH9o+6ulikRKaqaGuOS6WOZtuACdu5vYfTgWiaNHEhNjZpQIcGg0YnPA/eb2deA3wNLwvIlwH1mth54A/hIQuUTkQpXU2NMqRvElLpBSRcldVIRNNz918Cvw/0NwHl5tmkBPlzWgomISBtJ954SEZFeREFDRERiU9AQEZHYFDRERCQ2BQ0REYlNQUNERGJT0BARkdgUNEREJDYFDRERiU1BQ0REYosVNMxsZZxlIiJS2Tode8rMaoFTgVFmNhzIDvM4hBOTI4mISJXoasDCTwOfBU4Dns1Zvg+4o0RlEhGRlOo0aLj7QmChmf2Nu3+zTGUSEZGU6io9daG7PwpsNbMr2q939x+XrGQiIpI6XaWn3g08CnwgzzoHFDQqVCbjbNx9kB37WhgzRDOXiUikq6CxJ9wucfffFvONQyP748ApoRwPuvuXzWwy0VSvI4FngGvc/YiZnQLcC7ydaG7wq9x9YzHLJJFMxlmxZjs3LVtNy9FM6xzJl0wfq8AhUuW66nL7iXC7qATvfRi40N3PAWYAl5jZLOA24BvufjpR0LoubH8dsCcs/0bYTkpg4+6DrQEDoOVohpuWrWbj7oMJl0xEktZV0FhrZuuAM8zsuZy/583suZ68sUcOhIf9wp8DFwIPhuVLgcvD/bnhMWH9bDPTaW8J7NjX0howslqOZti5vyWhElWGTMbZ0HyAVa/uYkPzATIZT7pIIgXrqvfU1WY2FvgF8JfFfnMz60OUgjod+BbwKvCmux8Lm2zhxPUg44DNoVzHzGwvUQprV7HLVe3GDKmltl9Nm8BR26+G0YNrEyxV76aUn1SKLq8Id/ftIYW0DRgc/v7o7pt6+ubuftzdZwDjgfOAaT19TTObb2ZNZtbU3Nzc05erSpNGDuT2K2dQ2y/6emQPcJNGDky4ZL2XUn5SKbpqCAfAzN5D1Ai9keiq8AlmNs/dHy9GIdz9TTN7DHgnMMzM+obaxnhga9hsKzAB2GJmfYGhRA3i7V9rMbAYoLGxUfX/bqipMS6ZPpZpCy5g5/4WRg9W76me6izlN6VuUEKlEilc3AELbwcudvf3uPu7gfcTNUZ3m5nVmdmwcH8AcBGwFngM+FDYbB7wULi/PDwmrH/U3RUUSqSmxphSN4hZU0YxpW6QAkYPZVN+uZTyk94obtDo5+4vZx+4+ytEDdc9UQ88FhrUnwYecfefAZ8HbjKz9URtFkvC9kuAkWH5TcDNPXx/kbJRyk8qhcU5WTez7wLHge+FRR8D+rj7X5WwbD3W2NjoTU1NSRdDBDhxwaRSfpJ2ZvaMuzfmWxerTQP4DHA9sCA8fgL4P0Uom0jVyKb81IYhvVmXQSN0i/2Du08jatsQEZEqFafL7XHgZTNrKEN5REQkxeKmp4YDa8zsd0Brx3J3L/oFfyIikl5xg8aXSloKERHpFeJM9/oZomE+nica7fZYZ88REZHK1VWbxlKgkShgXAp8veQlEhGR1OoqPXWWu78VwMyWAL8rfZFERCStuqppHM3eUVpKRES6qmmcY2b7wn0DBoTHRjQlxpCSlk5ERFKlq/k0+pSrICIikn5xBywUERFR0BARkfjiXtwnIpIa2RGDd+xrYcwQjRhcTgoaItKraL71ZCk9JSK9iuZbT1ZiQcPMJpjZY2b2opmtMbMbw/IRZvaIma0Lt8PDcjOzRWa23syeM7OZSZVdRJLT2XzrUnpJ1jSOAX/r7mcBs4DrzewsomlcV7r7VGAlJ6Z1vRSYGv7mA3eWv8jVJ5NxNjQfYNWru9jQfIBMRtOyS7Kqbb71tP0GE2vTcPdtwLZwf7+ZrQXGAXOB94bNlgK/Jpo3fC5wr0fz0z5pZsPMrD68jpSAcseSRtn51tt/LytxvvU0/gZT0RBuZpOAc4GngDE5gWA7MCbcHwdsznnalrBMQaNEOsodT1twgaYsTaFq6VFUU2NcMn0s0xZcUPHzrafxN5h40DCzQcCPgM+6+z6zEx+8u7uZFVQXM7P5ROkrGho02WBPdJY7VtBIlzSekZZStcy3nsbfYKK9p8ysH1HA+L67/zgs3mFm9WF9PbAzLN8KTMh5+viwrA13X+zuje7eWFdXV7rCV4FCc8dpy71Wk6R6FOkzL600tt8k2XvKgCXAWne/PWfVcmBeuD8PeChn+bWhF9UsYK/aM0ormzvOfmk7yx1nz3TnLHqCq+96ijmLnmDFmu06iJRJEj2K9JmXXiG/wXKxqF05gTc2Ox94gmiCp+y3/QtE7RrLgAZgE3Clu78RgswdwCXAIeAT7t7U2Xs0NjZ6U1Onm0gXsnnyrnLHG5oPMGfRE20OXLX9ang44faPasnzJ/H/T+tnXmni/gaLycyecffGfOuS7D31W6Ih1vOZnWd7B64vaaHkJHFzx2nMvVZTnj+JHkVp/MwrUdrabxJvCJfKkM29tj/rTDL3msaeJ6WSRI+iNH7mUnoaRkSKIo2512q7cjh7Rjpryiim1A0qasDI1+Cdxs9cSk81DSmKNPad15lwcXSW5kvbZ16J0tYul1hDeDmoIby6VVObRimpwTs5SX2HU9kQLlJqaaz99EZq8E5OGtvlFDQSlLZqZyVKW8+TUirV90lpvuSkMWAraCREqRMpplJ+n6ppgMC0SWPAVptGQpQnlmIq9fcpiQvMRG0akqN9tbN+aC1XzBzPKzv2A3T5o1RqS3KVOo1RTWm+NElju5yCRkJyq531Q2u5ZtZEFj26LtbZhFJb0l530hg68egd0hawdXFfQnIvjLpi5vjWgAFdj1CqOZKlvUIvtNNgg9JdqmkUUSFnbrnVzld27C8oVZXGHhWSrELTGKXuyqlaTOVS0CiS7qSMstVOoKBUVRp7VPRmlXKAKySNUcoTD6VPK5vSUz2QOx7P81v3ctuKtd1KGRWaqtKYP8VTrWmaUk7uo/RpZVNNo5vynU0tuHAq9z25iW17owHxcs/cOjub7SxV1f512m+flh4VvVUar7gth1Jee6H0aWVT0OimfAebRY+u47rzp/Ctx9YDJ87c4lTX86WqsvKdAZazR0WlpG/yqdYDXClPPJQ+rWxKT3VTRwebPuE/mnvmVkh1PW2pp0pP36RxDuZyKdVQ6uX4Dmtu8uQkWtMws3uAy4Cd7n52WDYCeACYBGwkmu51T5judSEwh2i614+7+7NJlBs6PpuaPW00f/6WkW3O3Ao5m01b6qnS0zcaIqP4Sv0dVkN7spJOT/0b0bzf9+YsuxlY6e63mtnN4fHngUuBqeHvHcCd4TYRuQeb4af258ON4/mz0YMZdEo/3jpuWJsvb6HV9TRdzFPp6Zu0BelKUcrvcKWfyKRdokHD3R83s0ntFs8F3hvuLwV+TRQ05gL3hrnCnzSzYWZW7+7bylTcNrIHm7NuvIBnX3+TL/zk+Q7PepI4my1WO0Q15KfTFKTTKk3tWpV+IpN2Sdc08hmTEwi2A2PC/XHA5pzttoRlbYKGmc0H5gM0NDSUtKA1NUbGaQ0YkP+sp5Rns/l+zEDRqu+TRg7kjo+ey3Nb9pJx6GPw1vFDlb6pImlLB1XDiUyapbohPNQqCmrhcvfF7t7o7o11dXUlKtkJceehLkWjY0eN1K+/Udx+8keOOYsf38Adj67nO49v4MixdDQ6qjG0PNJ23UXaOotUmzTWNHZk005mVg/sDMu3AhNythsfliUqe9Yz/NT+XDFzPGbR2fjYIaU/6+nox7z0E+cVrfqe1vxx2s5+K1na0kFqh0pWGoPGcmAecGu4fShn+Q1mdj9RA/jepNozcmXTN+t2HGDhyhNDf5wxdggNI4r7RW6fitp98HDeH/OhI8eKVn1P2wEjK63BrBKlMR2kdqjkJJqeMrMfAquAM8xsi5ldRxQsLjKzdcD7wmOAh4ENwHrgLuCvEyjySWpqjMkjB7UGDChN9T1fKuqPb7YwceSANtvV9quhYUTxqu9pvY4hblpQek7pIMmVdO+pqztYNTvPtg5cX9oSdc/O/d07Gy+kR0q+M+vP/+g5Fl/TyPz7mtqkaCaPGsjkUQOLUn1P63UMaTz7rRT5vpdKB0lWGtNTvU53J8ApJCff0Zl1vz7Gwx38mItRfU9r/jhuMEtTV9HeoLPvpdJBAgoaRdGds/FCc/IdBaYxQ2pL/mNOY/44TjBTY3nhNu4+yG0r1nLd+VOw8C+6bcVapo0dnKrPX5KjoFEE3TkbL7SBuaMr0D3jbNx1gG17Oz6TrtSz7a6CmRrLC7f74GGuamxoM5/Lggun8sbBw/qfCaCgUTSFno13Z2iRjq5Av3H2VO5dtYk9h46cdCYd92y7EgNLWnt+pVn/PjU80PR6m5rGA02v867TRyZbMEmNVF/cV8m60yOloyvQF65cxxUzx+fttRXnwqwkR7It5QV6ae351V6aLlI8cjzDVY0NLPltdDHn3U9s4KrGBo4cz3T9ZKkKqmkkpH1Ka+yQWo5n4KnXdnd6pt/R2XP2rLD9mXScs+2k0jilbnNIa8+vXGlrd+nfp+akmSMXPbqOB+bPKntZJJ0UNAqUm8YZPbiWPjWc1J4QN9WTTWlNGjkw9oGjo7SW+4n7uWfScdJgSaVxSh2s0trzK1fa2l0OHTme97tw5HiGDc0HSpa+rMT0aKVS0Igh9wt97LjzxYeeZ9PuP+VtT7j4zDH8cu2ONgHgjo+ey+SRg9i5P39w2bj7IC9v38fwU/uzbW9LpweOfGfP2TLkO5OOc7ad1DUP5QhWaez5lStt7S75vgsTRw7gj2+2cM2S35WkNtSd2lZSQUbBTUGjS13NBb5w5YkpXm9bsZbThkbTu/7DB6az6+BhfvHCdtbtOMANP/h9mx9EvuCS+7pxJ2kaM7iW/S1HmTxqIPVDBzC9fkibL3Gcs+2k0ji6QK/71/iU6sCV77vw1blvbb2AFIpfGyq0tpVUSi9tqcSkmHvljgza2NjoTU1NPXqNDc0HmLPoCVqOZqgfWssVM8fTpwamjh7MXY+/ygV/NpqG4QPYdfAwdQP7s/vQ0TZjUH35A9P59m/Ws2n3n1pfs7ZfDQ/Mn8VVi5886WCRDUC1/Wp4uIsfZTHP0LLLy5nG0Y+w8P9BOf5n7b8LO/a1cPVdT5203f3z38GsKaN6/H6rXt1V0Ovn/iaz4vxeeiqp902CmT3j7o351qmm0YFMxnlt10HW7dzPv3zoHHYfaOHUfn3YsreFjMPWPYf4xLsmc0tO19cvXXYW9z/9epsAs23vn7j50jPZuOsgB48cB+BHz2xprU3kyjZoxz3TL/YZWrnTOL2hzaHUCv0flKMNJJNx9rcc5c1DRxnQry+nDSttjbDQ2lZSKb20pRKToqCRR76D642zpzL01P48tHprm/aM3HaInzy7mf8592x27DtM/ZBaFq58maZNe1u3/dEzW9hz6Ag3zp7K+OED8v5QLjh9FB+aOa5HPak6+hKX8oDT3ZRJ2tscyqGQ/0GpD1zHjmX46R+28sWfvtD63f/a5WfznWtm8un7ni1J+rLQ9GhSaU2lUyMKGnnkO7guXLmO+e+ewmVvG8e3HltPy9EM9z/9OrfMOZNXduxn+IB+jBjYn0/f98yJ1NRl0zlybBPPbd3Xpu1j4cp1XHTmmLw/lLc3DOfX63aeNFPehWeMid2TKvdLnHswrzFrDXJZxTjgpDnNVGkNl6U+cK3Ztrc1YED0/fjiT1/ggU/N6nCMs54qtLaVVBtcb+jCXQ4KGnnsPni4zRWx2XRSxmldVj+0lqsaG/i7B//Q+gX6wqXTuOEvTqflWPSD+/bj6/nbi6ex4Ie/P+lail0HD+f9obz+xkHW7TjA4sc3tKnlnF43iEmjuu5Jlfsl7qjGdO+qTa2BoxgHnHJ2Gy0kCKQ5mHVXqQ9cHaVNt+9r4ZyG4SWrERZS20oqral0akRBo51Mxvnjmy0s+e2Jg/aCC6fyQNPr1BhkL4y9Yub4NsMtDAhXHt8RaiHZ57lHT8h3LUW+H8qOfYdPmptj4cp1zGwYflLQ6OpL3FmNadHK9UU74JQr11toEEjbNRDFUOoDV/3Q/GnTsUPTlYJJKq2pdKqCxkk27j7I7Y+8fNLYOzdfcibHMhn+9y9fBmBobR/+6s8ns/vQEfrW1DBx5EDcnb+58HS+9+TrbNvbwqJH13HPxxtZMPt0Gkacyo59LTROHMqC2WewY190pt/+B3/wyLG8B+BDR47lLW9nX+KODubnThjG/fPfUbQDTrlyvYUGgUptuOzoMy9GKm56/RC+dvnZJ7VpTK8fWsxdkF6s1wUNM7sEWAj0Ae5291u7eEpBOhrlc3BtH2ZNHsP004ayc38LtX37sGrD7jZppAUXTmVZ02aumTWRFS9s4+LpY2nefwQDvv7LV9hz6AhfnXs2X8q5OLD9mfLEEQPzHoAbRnR/1r32rzVx5MCiHjTLlestNAhUU8NlsVJxffvWcPk545g6ehDb97Ywdmgt0+uH0revhqmTSK/6JphZH+BbwKXAWcDVZnZWMd8jd+yd+qG1XHf+FFqOHWdAv76tZ3izpozi8LHMSWmkRY+u47K3jeOBpte56rwG7nhsPTfev5rvPL6Ba2ZNZPip/fnSQy9w2dvGtT6n/eCBk0flH8hw8qjCD8DlmqYzmzJ5eMEF3D//HTy84IKStBsUOgBhNU1TGmdgyrj69q3hnAnDef/Z9ZwzYbgChrTR22oa5wHr3X0DgJndD8wFXizWG2TH3qkfWss1sya2BpDFj29ovZL79T2H2H3wMJ+8YEprIzmcuM7isreN46s/e/GkgJLtPWU5x9L2Z8rFzFmXs+GuHLneQms01dRwWampOEmf3hY0xgGbcx5vAd6Ru4GZzQfmAzQ0NBT8Btmz2Stmjj9ptM/bVqzl6PFobu72Q38AfLhxPOOGDmBgbd+8XVuzF+5lG8Trh9by4cbxHDpynA3NB1oPaHEOwIUOilgJB47uBIFK2v/OpG04EqlcvS1odMndFwOLIRpGpNDnZ89mX9q+76Qzt8veNq41YMCJGsSNs6cCtBk+JF/X1hqDr11+Nt98dB31Q2u59p0T2zwnbg66EruSxlUtQaBQhdbCqvk7JD3T25KVW4EJOY/Hh2VFkz2bnT1tzEn58z415E0BnD1uaN5ush9uHA9EAeMfP/hWrjh3HJefM47vfvw8/vWqGSc9J24Oupj5a6kMhbYr6Tsk3dXbgsbTwFQzm2xm/YGPAMuL/SY1NcZbxw09qRH1v0wckbch9ujxTKddWx9ecAGXzxjHpFGD6Nu3hil1g8i4d5iD7kpn+WupXrkdNabUDer2HPUinelV6Sl3P2ZmNwC/IOpye4+7rynFe+XLnzcMPzVvCqCjbrKddW3tSXfQcnYlVd67MlVTd2QpLg2NXqB8Q4gD3RqivLs55XLlo5X3rlz6bKUznQ2NrqBRJN2Zj6Inc1iUY/6Lapo/oBolMYeK9A6aT6MMutOrpyc9gcrRi0h9/yubeqJJd/S2hnApo0KvwBaRyqegIR2qpmE4RCQepaekQ9U0DIeIxKOgIZ1S3ltEciloiIhUkFJfW6WgISJSIcpx/Y0awkVEKkQ5xhRT0BARqRDlGFNM6SkRKRqNVZascowpppqGJC6TcTY0H2DVq7vY0HyATKZyh7apZNl8+pxFT3D1XU8xZ9ETrFizXZ9nGZXj2iqNPSWJ0sB5lUNjlaVDMcYU62zsKdU0JFGaDKhyaI6OdChkXpVuvX5RX02kQDrQVA6NVVYdFDQkUTrQ9A5x2p00Vll1SKT3lJl9GPgKcCZwnrs35ay7BbgOOA4scPdfhOWXAAuJZuy7291vLXe5pfiyB5r2bRo60KRH3HYnjVVWHRJpCDezM4EM8B3gc9mgYWZnAT8EzgNOA34F/Fl42ivARcAWornCr3b3Fzt7HzWE9w6aDCjd1MBdfVI3CZO7rwUwO+nAMBe4390PA6+Z2XqiAAKw3t03hOfdH7btNGhI76BBEdNNk3FJrrS1aYwDNuc83hKWdbT8JGY238yazKypubm5ZAUVqRZqd5JcJQsaZvYrM3shz9/cUr0ngLsvdvdGd2+sq6sr5VuJVAU1cEuukqWn3P193XjaVmBCzuPxYRmdLBeRElIDt+RK29hTy4EfmNntRA3hU4HfAQZMNbPJRMHiI8BHEyulSJVRu5NkJdXl9oPAN4E64Odmttrd3+/ua8xsGVED9zHgenc/Hp5zA/ALoi6397j7miTKLiJSzTT2lIiItKGxp0REpCgUNEREJDYFDRERia2i2zTMrBnYVMBTRgG7SlSctKmmfYXq2l/ta2Uq575OdPe8F7pVdNAolJk1ddT4U2mqaV+huvZX+1qZ0rKvSk+JiEhsChoiIhKbgkZbi5MuQBlV075Cde2v9rUypWJf1aYhIiKxqaYhIiKxKWiIiEhsChqBmV1iZi+b2Xozuznp8hSbmW00s+fNbLWZZafXHWFmj5jZunA7POlydoeZ3WNmO83shZxleffNIovC5/ycmc1MruSF62Bfv2JmW8Nnu9rM5uSsuyXs68tm9v5kSt09ZjbBzB4zsxfNbI2Z3RiWV9xn28m+pu+zdfeq/yMaOfdVYArQH/gDcFbS5SryPm4ERrVb9s/AzeH+zcBtSZezm/v2bmAm8EJX+wbMAf4v0XD7s4Cnki5/Efb1K8Dn8mx7VvgunwJMDt/xPknvQwH7Wg/MDPcHA6+Efaq4z7aTfU3dZ6uaRuQ8whzk7n4EyM5BXunmAkvD/aXA5ckVpfvc/XHgjXaLO9q3ucC9HnkSGGZm9WUpaBF0sK8dmQvc7+6H3f01YD3Rd71XcPdt7v5suL8fWEs0zXPFfbad7GtHEvtsFTQisecg78Uc+KWZPWNm88OyMe6+LdzfDoxJpmgl0dG+VepnfUNIydyTk2asmH01s0nAucBTVPhn225fIWWfrYJG9Tjf3WcClwLXm9m7c1d6VOetyP7XlbxvwZ3AW4AZwDbg64mWpsjMbBDwI+Cz7r4vd12lfbZ59jV1n62CRqSzuckrgrtvDbc7gZ8QVWV3ZKvv4XZnciUsuo72reI+a3ff4e7H3T0D3MWJNEWv31cz60d0EP2+u/84LK7Izzbfvqbxs1XQiDxNmIPczPoTzUG+POEyFY2ZDTSzwdn7wMXAC0T7OC9sNg94KJkSlkRH+7YcuDb0tJkF7M1JdfRK7fL2HyT6bCHa14+Y2SlmNhmYCvyu3OXrLjMzYAmw1t1vz1lVcZ9tR/uays826V4Dafkj6nnxClEvhL9PujxF3rcpRD0t/gCsye4fMBJYCawDfgWMSLqs3dy/HxJV3Y8S5Xav62jfiHrWfCt8zs8DjUmXvwj7el/Yl+eIDib1Odv/fdjXl4FLky5/gft6PlHq6TlgdfibU4mfbSf7mrrPVsOIiIhIbEpPiYhIbAoaIiISm4KGiIjEpqAhIiKxKWiIiEhsChoi3WBmx8Ooo38ws2fN7M8LfP57zexnPXj/L3T3uSI9oaAh0j1/cvcZ7n4OcAvwT2V+fwUNSYSChkjPDQH2wMk1CDO7w8w+Hu5fYmYvmdmzwBU529SFeSHWmNndZrbJzEaFdf/dzH4XajXfMbM+ZnYrMCAs+345d1REQUOke7IH7ZeAu4GvdraxmdUSjR30AeDtwNic1V8GHnX36cCDQEN4zpnAVcC73H0GcBz4mLvfzImazseKu1sineubdAFEeqk/hQM5ZvZO4F4zO7uT7acBr7n7uvCc7wHZIerPJxpXCHdfYWZ7wvLZRAHm6WhoIgZQWYNKSi+koCHSQ+6+KqST6oBjtK3B1/bgpQ1Y6u639KR8IsWk9JRID5nZNKIpg3cDm4Czwuijw4hqCwAvAZPM7C3h8dU5L/GfwJXhtS4GshPtrAQ+ZGajw7oRZjYxrDsahtIWKSvVNES6Z4CZrQ73DZjn7seBzWa2jGgI69eA3wO4e0uYMfHnZnYIeIJoLmiAfwB+aGbXAKuIZqPb7+67zOyLRDMu1hCNbHs9UWBaDDxnZs+qXUPKSaPciiTMzE4Bjrv7sdA+cme2vUQkbVTTEEleA7As1CaOAJ9KuDwiHVJNQ0REYlNDuIiIxKagISIisSloiIhIbAoaIiISm4KGiIjE9v8B77QFH6fwf8MAAAAASUVORK5CYII=\n",
       "datasetInfos": [],
       "metadata": {},
       "removedWidgets": [],
       "type": "image"
      }
     },
     "output_type": "display_data"
    }
   ],
   "source": [
    "#Plot profit vs budget using scatterplot\n",
    "\n",
    "# Convert to Pandas DataFrame for plotting\n",
    "movies_pandas = sorted_movies.toPandas()\n",
    "\n",
    "# Plot using seaborn or matplotlib\n",
    "import seaborn as sns\n",
    "import matplotlib.pyplot as plt\n",
    "\n",
    "sns.scatterplot(x='budget', y='profit', data=movies_pandas)\n",
    "plt.title('Budget vs Profit')\n",
    "plt.xlabel('Budget')\n",
    "plt.ylabel('Profit')\n",
    "plt.show()\n",
    "\n"
   ]
  },
  {
   "cell_type": "markdown",
   "metadata": {
    "application/vnd.databricks.v1+cell": {
     "cellMetadata": {
      "byteLimit": 2048000,
      "rowLimit": 10000
     },
     "inputWidgets": {},
     "nuid": "bdb5bfbc-1370-4bcd-9e22-e67b0843dff4",
     "showTitle": false,
     "tableResultSettingsMap": {},
     "title": ""
    }
   },
   "source": [
    "The dataset contains the 100 best performing movies from the year 2010 to 2016. However scatter plot tells a different story. You can notice that there are some movies with negative profit. Although good movies do incur losses, but there appear to be quite a few movie with losses. What can be the reason behind this? Lets have a closer look at this by finding the movies with negative profit."
   ]
  },
  {
   "cell_type": "code",
   "execution_count": 0,
   "metadata": {
    "application/vnd.databricks.v1+cell": {
     "cellMetadata": {
      "byteLimit": 2048000,
      "rowLimit": 10000
     },
     "inputWidgets": {},
     "nuid": "e62de634-6276-4cb3-9c07-4a8707b2e14d",
     "showTitle": false,
     "tableResultSettingsMap": {},
     "title": ""
    }
   },
   "outputs": [
    {
     "output_type": "stream",
     "name": "stdout",
     "output_type": "stream",
     "text": [
      "+--------------------+----------+------+-------------------+\n|               Title|     gross|budget|             profit|\n+--------------------+----------+------+-------------------+\n|             Tangled|200.807262| 260.0| -59.19273799999999|\n|    Edge of Tomorrow|100.189501| 178.0|         -77.810499|\n|                Hugo| 73.820094| 170.0|         -96.179906|\n|  X-Men: First Class|146.405371| 160.0|-13.594628999999998|\n|   The Little Prince|  1.339152|  81.2|         -79.860848|\n|Scott Pilgrim vs....|  31.49427|  60.0|          -28.50573|\n|                Rush| 26.903709|  38.0|         -11.096291|\n|             Warrior| 13.651662|  25.0|         -11.348338|\n|             Flipped|  1.752214|  14.0|         -12.247786|\n|               Amour|  0.225377|   8.9|          -8.674623|\n|Tucker and Dale v...|  0.223838|   5.0|          -4.776162|\n+--------------------+----------+------+-------------------+\n\n"
     ]
    }
   ],
   "source": [
    "#Find the movies with negative profit\n",
    "\n",
    "# Filter movies with negative profit\n",
    "neg_profit = movies.filter(col(\"profit\") < 0)\n",
    "\n",
    "# Show the movies with negative profit\n",
    "neg_profit.select(\"Title\", \"gross\", \"budget\", \"profit\").show()\n",
    "\n",
    "\n"
   ]
  },
  {
   "cell_type": "markdown",
   "metadata": {
    "application/vnd.databricks.v1+cell": {
     "cellMetadata": {
      "byteLimit": 2048000,
      "rowLimit": 10000
     },
     "inputWidgets": {},
     "nuid": "95302c99-8846-4033-968b-f274946f7210",
     "showTitle": false,
     "tableResultSettingsMap": {},
     "title": ""
    }
   },
   "source": [
    "**`Checkpoint 1:`** Can you spot the movie `Tangled` in the dataset? You may be aware of the movie 'Tangled'. Although its one of the highest grossing movies of all time, it has negative profit as per this result. If you cross check the gross values of this movie (link: https://www.imdb.com/title/tt0398286/), you can see that the gross in the dataset accounts only for the domestic gross and not the worldwide gross. This is true for may other movies also in the list."
   ]
  },
  {
   "cell_type": "markdown",
   "metadata": {
    "application/vnd.databricks.v1+cell": {
     "cellMetadata": {
      "byteLimit": 2048000,
      "rowLimit": 10000
     },
     "inputWidgets": {},
     "nuid": "1dcadab9-217d-4dab-856b-f56e8154da36",
     "showTitle": false,
     "tableResultSettingsMap": {},
     "title": ""
    }
   },
   "source": [
    "- ### Subtask 2.3: The General Audience and the Critics\n",
    "\n",
    "You might have noticed the column `MetaCritic` in this dataset. This is a very popular website where an average score is determined through the scores given by the top-rated critics. Second, you also have another column `IMDb_rating` which tells you the IMDb rating of a movie. This rating is determined by taking the average of hundred-thousands of ratings from the general audience. \n",
    "\n",
    "As a part of this subtask, you are required to find out the highest rated movies which have been liked by critics and audiences alike.\n",
    "1. Firstly you will notice that the `MetaCritic` score is on a scale of `100` whereas the `IMDb_rating` is on a scale of 10. First convert the `MetaCritic` column to a scale of 10.\n",
    "2. Now, to find out the movies which have been liked by both critics and audiences alike and also have a high rating overall, you need to -\n",
    "    - Create a new column `Avg_rating` which will have the average of the `MetaCritic` and `Rating` columns\n",
    "    - Retain only the movies in which the absolute difference(using abs() function) between the `IMDb_rating` and `Metacritic` columns is less than 0.5. Refer to this link to know how abs() funtion works - https://www.geeksforgeeks.org/abs-in-python/ .\n",
    "    - Sort these values in a descending order of `Avg_rating` and retain only the movies with a rating equal to higher than `8` and store these movies in a new dataframe `UniversalAcclaim`.\n",
    "    "
   ]
  },
  {
   "cell_type": "code",
   "execution_count": 0,
   "metadata": {
    "application/vnd.databricks.v1+cell": {
     "cellMetadata": {
      "byteLimit": 2048000,
      "rowLimit": 10000
     },
     "inputWidgets": {},
     "nuid": "66eeafbf-5396-407b-834e-bce83a76398f",
     "showTitle": false,
     "tableResultSettingsMap": {},
     "title": ""
    }
   },
   "outputs": [
    {
     "output_type": "stream",
     "name": "stdout",
     "output_type": "stream",
     "text": [
      "+--------------------+----------+-----------------+\n|               Title|MetaCritic|MetaCritic_scaled|\n+--------------------+----------+-----------------+\n|          La La Land|        93|              9.3|\n|            Zootopia|        78|              7.8|\n|                Lion|        69|              6.9|\n|             Arrival|        81|              8.1|\n|Manchester by the...|        96|              9.6|\n+--------------------+----------+-----------------+\nonly showing top 5 rows\n\n"
     ]
    }
   ],
   "source": [
    "# Change the scale of MetaCritic column from 100 to 10\n",
    "\n",
    "from pyspark.sql.functions import col\n",
    "\n",
    "# Convert the MetaCritic score from 100 to 10\n",
    "movies = movies.withColumn(\"MetaCritic_scaled\", col(\"MetaCritic\") / 10)\n",
    "\n",
    "# Show the updated DataFrame with the scaled MetaCritic score\n",
    "movies.select(\"Title\", \"MetaCritic\", \"MetaCritic_scaled\").show(5)\n",
    "\n",
    "\n"
   ]
  },
  {
   "cell_type": "code",
   "execution_count": 0,
   "metadata": {
    "application/vnd.databricks.v1+cell": {
     "cellMetadata": {
      "byteLimit": 2048000,
      "rowLimit": 10000
     },
     "inputWidgets": {},
     "nuid": "e57ba7b5-464f-4b09-8d03-8ea7a7d7e452",
     "showTitle": false,
     "tableResultSettingsMap": {},
     "title": ""
    }
   },
   "outputs": [],
   "source": [
    "# Find the average ratings including MetaCritic and IMDb_rating\n",
    "\n",
    "# Create the 'Avg_rating' column as the average of MetaCritic_scaled and IMDb_rating\n",
    "movies = movies.withColumn(\"Avg_rating\", (col(\"MetaCritic_scaled\") + col(\"IMDb_rating\")) / 2)\n",
    "\n"
   ]
  },
  {
   "cell_type": "code",
   "execution_count": 0,
   "metadata": {
    "application/vnd.databricks.v1+cell": {
     "cellMetadata": {
      "byteLimit": 2048000,
      "rowLimit": 10000
     },
     "inputWidgets": {},
     "nuid": "07116855-a1a8-42ed-b8cd-13842acf1c4c",
     "showTitle": false,
     "tableResultSettingsMap": {},
     "title": ""
    }
   },
   "outputs": [
    {
     "output_type": "stream",
     "name": "stdout",
     "output_type": "stream",
     "text": [
      "+--------------------+-----------+-----------------+----------+\n|               Title|IMDb_rating|MetaCritic_scaled|Avg_rating|\n+--------------------+-----------+-----------------+----------+\n|             Boyhood|        7.9|             10.0|      8.95|\n|    12 Years a Slave|        8.1|              9.6|      8.85|\n|          Inside Out|        8.2|              9.4|       8.8|\n|          La La Land|        8.2|              9.3|      8.75|\n|Manchester by the...|        7.9|              9.6|      8.75|\n|         Toy Story 3|        8.3|              9.2|      8.75|\n|             Gravity|        7.8|              9.6|       8.7|\n|           Spotlight|        8.1|              9.3|       8.7|\n|               Amour|        7.9|              9.4|      8.65|\n|            Whiplash|        8.5|              8.8|      8.65|\n|     Before Midnight|        7.9|              9.4|      8.65|\n|  The Social Network|        7.7|              9.5|       8.6|\n|  Mad Max: Fury Road|        8.1|              9.0|      8.55|\n|                 Her|        8.0|              9.0|       8.5|\n|The Grand Budapes...|        8.1|              8.8|      8.45|\n|   The King's Speech|        8.0|              8.8|       8.4|\n|          The Artist|        7.9|              8.9|       8.4|\n|Birdman or (The U...|        7.8|              8.8|       8.3|\n|  Hell or High Water|        7.7|              8.8|      8.25|\n|    Django Unchained|        8.4|              8.1|      8.25|\n+--------------------+-----------+-----------------+----------+\nonly showing top 20 rows\n\n"
     ]
    }
   ],
   "source": [
    "#Sort in descending order of average rating\n",
    "# Sort by 'Avg_rating' in descending order\n",
    "sorted_movies = movies.sort(\"Avg_rating\", ascending=False)\n",
    "\n",
    "# Show the sorted DataFrame\n",
    "sorted_movies.select(\"Title\", \"IMDb_rating\", \"MetaCritic_scaled\", \"Avg_rating\").show()\n",
    "\n"
   ]
  },
  {
   "cell_type": "code",
   "execution_count": 0,
   "metadata": {
    "application/vnd.databricks.v1+cell": {
     "cellMetadata": {
      "byteLimit": 2048000,
      "rowLimit": 10000
     },
     "inputWidgets": {},
     "nuid": "4f11c7c7-ee8c-4413-9561-e3b326517880",
     "showTitle": false,
     "tableResultSettingsMap": {},
     "title": ""
    }
   },
   "outputs": [],
   "source": [
    "# Find the movies with metacritic-rating < 0.5 and also with the average rating of > 8\n",
    "\n",
    "from pyspark.sql.functions import abs\n",
    "\n",
    "# Filter movies where the absolute difference between IMDb_rating and MetaCritic_scaled is less than 0.5\n",
    "filtered_movies = movies.filter(abs(col(\"IMDb_rating\") - col(\"MetaCritic_scaled\")) < 0.5)\n",
    "\n"
   ]
  },
  {
   "cell_type": "markdown",
   "metadata": {
    "application/vnd.databricks.v1+cell": {
     "cellMetadata": {
      "byteLimit": 2048000,
      "rowLimit": 10000
     },
     "inputWidgets": {},
     "nuid": "1e7f26b9-334c-4c72-9406-42365ae14596",
     "showTitle": false,
     "tableResultSettingsMap": {},
     "title": ""
    }
   },
   "source": [
    "**`Checkpoint 2:`** Can you spot a `Star Wars` movie in your final dataset?"
   ]
  },
  {
   "cell_type": "markdown",
   "metadata": {
    "application/vnd.databricks.v1+cell": {
     "cellMetadata": {
      "byteLimit": 2048000,
      "rowLimit": 10000
     },
     "inputWidgets": {},
     "nuid": "1eed842e-d09f-4e0a-8c1c-f15d29b08f76",
     "showTitle": false,
     "tableResultSettingsMap": {},
     "title": ""
    }
   },
   "source": [
    "- ### Subtask 2.4: Find the Most Popular Trios - I\n",
    "\n",
    "You're a producer looking to make a blockbuster movie. There will primarily be three lead roles in your movie and you wish to cast the most popular actors for it. Now, since you don't want to take a risk, you will cast a trio which has already acted in together in a movie before. The metric that you've chosen to check the popularity is the Facebook likes of each of these actors.\n",
    "\n",
    "The dataframe has three columns to help you out for the same, viz. `actor_1_facebook_likes`, `actor_2_facebook_likes`, and `actor_3_facebook_likes`. Your objective is to find the trios which has the most number of Facebook likes combined. That is, the sum of `actor_1_facebook_likes`, `actor_2_facebook_likes` and `actor_3_facebook_likes` should be maximum.\n",
    "Find out the top 5 popular trios, and output their names in a list.\n"
   ]
  },
  {
   "cell_type": "code",
   "execution_count": 0,
   "metadata": {
    "application/vnd.databricks.v1+cell": {
     "cellMetadata": {
      "byteLimit": 2048000,
      "rowLimit": 10000
     },
     "inputWidgets": {},
     "nuid": "885c4051-5fdc-4106-90a3-03c848693bd6",
     "showTitle": false,
     "tableResultSettingsMap": {},
     "title": ""
    }
   },
   "outputs": [
    {
     "output_type": "stream",
     "name": "stdout",
     "output_type": "stream",
     "text": [
      "+--------------+----------+------+----------+--------------------+----------------+---------------+----------------------+----------------------+----------------------+-----------+-------+---------+-------+----------+-------+--------+--------+--------+--------+--------+--------+--------+--------+--------+--------+----------+------------+---------+----------+----------+----------+-----------+-----------+----------+-----------+-----------+---------+----------+----------+----------+--------+---------+------+------+--------+---------+---------+---------+----------+----------+---------+----------+----------+--------+---------+---------+---------+-------+--------+--------------+-------+------------------+-----------------+----------+\n|         Title|title_year|budget|     gross|        actor_1_name|    actor_2_name|   actor_3_name|actor_1_facebook_likes|actor_2_facebook_likes|actor_3_facebook_likes|IMDb_rating|genre_1|  genre_2|genre_3|MetaCritic|Runtime|CVotes10|CVotes09|CVotes08|CVotes07|CVotes06|CVotes05|CVotes04|CVotes03|CVotes02|CVotes01|CVotesMale|CVotesFemale|CVotesU18|CVotesU18M|CVotesU18F|CVotes1829|CVotes1829M|CVotes1829F|CVotes3044|CVotes3044M|CVotes3044F|CVotes45A|CVotes45AM|CVotes45AF|CVotes1000|CVotesUS|CVotesnUS|VotesM|VotesF|VotesU18|VotesU18M|VotesU18F|Votes1829|Votes1829M|Votes1829F|Votes3044|Votes3044M|Votes3044F|Votes45A|Votes45AM|Votes45AF|Votes1000|VotesUS|VotesnUS|content_rating|Country|            profit|MetaCritic_scaled|Avg_rating|\n+--------------+----------+------+----------+--------------------+----------------+---------------+----------------------+----------------------+----------------------+-----------+-------+---------+-------+----------+-------+--------+--------+--------+--------+--------+--------+--------+--------+--------+--------+----------+------------+---------+----------+----------+----------+-----------+-----------+----------+-----------+-----------+---------+----------+----------+----------+--------+---------+------+------+--------+---------+---------+---------+----------+----------+---------+----------+----------+--------+---------+---------+---------+-------+--------+--------------+-------+------------------+-----------------+----------+\n|    La La Land|      2016|  30.0|151.101803|        Ryan Gosling|      Emma Stone|     Amiée Conn|                 14000|                 19000|                  null|        8.2| Comedy|    Drama|  Music|        93|    128|   74245|   71191|   64640|   38831|   17377|    8044|    3998|    2839|    2407|    6802|    157693|       56713|     2675|      1784|       868|    113008|      78998|      32730|     66058|      50835|      14165|    15765|     12148|      3302|       454|   33360|   117987|   8.2|   8.1|     8.9|      9.0|      8.7|      8.4|       8.4|       8.2|      7.9|       7.9|       7.8|     7.6|      7.6|      7.5|      7.1|    8.3|     8.1|         PG-13|    USA|121.10180299999999|              9.3|      8.75|\n|       Arrival|      2016|  47.0|100.546139|           Amy Adams|   Jeremy Renner|Forest Whitaker|                 35000|                  5300|                  null|        8.0|  Drama|  Mystery| Sci-Fi|        81|    116|   55533|   87850|  109536|   65440|   26913|   10556|    5057|    3083|    2194|    4734|    237437|       46272|     1943|      1544|       376|    126301|     101741|      23163|    111985|      95005|      15227|    24027|     20118|      3440|       537|   42062|   163774|   7.9|   8.0|     8.6|      8.6|      8.4|      8.2|       8.2|       8.1|      7.8|       7.8|       7.8|     7.6|      7.6|      7.7|      7.3|    8.0|     7.9|         PG-13|    USA|         53.546139|              8.1|      8.05|\n|Doctor Strange|      2016| 165.0| 232.64192|Benedict Cumberbatch|Chiwetel Ejiofor| Rachel McAdams|                 19000|                  null|                 46000|        7.6| Action|Adventure|Fantasy|        72|    115|   38952|   51465|  102744|   83322|   32430|   10744|    3786|    1854|    1038|    2667|    202386|       42203|     2526|      1970|       540|    117060|      93330|      22484|     87961|      74305|      12327|    17122|     14163|      2629|       545|   36644|   133095|   7.5|   7.8|     8.0|      8.0|      8.3|      7.6|       7.6|       7.8|      7.4|       7.4|       7.7|     7.5|      7.4|      7.8|      7.1|    7.6|     7.4|         PG-13|    USA|          67.64192|              7.2|       7.4|\n+--------------+----------+------+----------+--------------------+----------------+---------------+----------------------+----------------------+----------------------+-----------+-------+---------+-------+----------+-------+--------+--------+--------+--------+--------+--------+--------+--------+--------+--------+----------+------------+---------+----------+----------+----------+-----------+-----------+----------+-----------+-----------+---------+----------+----------+----------+--------+---------+------+------+--------+---------+---------+---------+----------+----------+---------+----------+----------+--------+---------+---------+---------+-------+--------+--------------+-------+------------------+-----------------+----------+\n\n"
     ]
    }
   ],
   "source": [
    "from pyspark.sql.functions import col\n",
    "\n",
    "# Check if there are any NaN or Null values in the 'actor_x_facebook_likes' columns\n",
    "nan_check = movies.filter(\n",
    "    col(\"actor_1_facebook_likes\").isNull() | \n",
    "    col(\"actor_2_facebook_likes\").isNull() | \n",
    "    col(\"actor_3_facebook_likes\").isNull()\n",
    ")\n",
    "\n",
    "# Show rows where any of the 'actor_x_facebook_likes' columns are NaN/Null\n",
    "nan_check.show()\n"
   ]
  },
  {
   "cell_type": "code",
   "execution_count": 0,
   "metadata": {
    "application/vnd.databricks.v1+cell": {
     "cellMetadata": {
      "byteLimit": 2048000,
      "rowLimit": 10000
     },
     "inputWidgets": {},
     "nuid": "d6e72600-dbf7-4773-8924-582c5a7513ca",
     "showTitle": false,
     "tableResultSettingsMap": {},
     "title": ""
    }
   },
   "outputs": [
    {
     "output_type": "stream",
     "name": "stdout",
     "output_type": "stream",
     "text": [
      "+----------------------+----------------------+----------------------+\n|actor_1_facebook_likes|actor_2_facebook_likes|actor_3_facebook_likes|\n+----------------------+----------------------+----------------------+\n|                 14000|                 19000|                     0|\n|                  2800|                 28000|                 27000|\n|                 33000|                 96000|                  9800|\n|                 35000|                  5300|                     0|\n|                   518|                 71000|                  3300|\n+----------------------+----------------------+----------------------+\nonly showing top 5 rows\n\n"
     ]
    }
   ],
   "source": [
    "# Write your code here\n",
    "from pyspark.sql.functions import col, coalesce, lit\n",
    "\n",
    "# Replace NaN/Null values with 0 for the 'actor_x_facebook_likes' columns\n",
    "movies = movies.withColumn(\"actor_1_facebook_likes\", coalesce(col(\"actor_1_facebook_likes\"), lit(0))) \\\n",
    "               .withColumn(\"actor_2_facebook_likes\", coalesce(col(\"actor_2_facebook_likes\"), lit(0))) \\\n",
    "               .withColumn(\"actor_3_facebook_likes\", coalesce(col(\"actor_3_facebook_likes\"), lit(0)))\n",
    "\n",
    "# Show the first 5 rows to check if the NaN/Null values have been handled\n",
    "movies.select(\"actor_1_facebook_likes\", \"actor_2_facebook_likes\", \"actor_3_facebook_likes\").show(5)\n",
    "\n"
   ]
  },
  {
   "cell_type": "code",
   "execution_count": 0,
   "metadata": {
    "application/vnd.databricks.v1+cell": {
     "cellMetadata": {
      "byteLimit": 2048000,
      "rowLimit": 10000
     },
     "inputWidgets": {},
     "nuid": "67abdd1e-7176-4403-8d0e-c2b31e3bb8ed",
     "showTitle": false,
     "tableResultSettingsMap": {},
     "title": ""
    }
   },
   "outputs": [
    {
     "output_type": "execute_result",
     "data": {
      "text/html": [
       "<div>\n",
       "<style scoped>\n",
       "    .dataframe tbody tr th:only-of-type {\n",
       "        vertical-align: middle;\n",
       "    }\n",
       "\n",
       "    .dataframe tbody tr th {\n",
       "        vertical-align: top;\n",
       "    }\n",
       "\n",
       "    .dataframe thead th {\n",
       "        text-align: right;\n",
       "    }\n",
       "</style>\n",
       "<table border=\"1\" class=\"dataframe\">\n",
       "  <thead>\n",
       "    <tr style=\"text-align: right;\">\n",
       "      <th></th>\n",
       "      <th>Title</th>\n",
       "      <th>title_year</th>\n",
       "      <th>budget</th>\n",
       "      <th>Gross</th>\n",
       "      <th>actor_1_name</th>\n",
       "      <th>actor_2_name</th>\n",
       "      <th>actor_3_name</th>\n",
       "      <th>actor_1_facebook_likes</th>\n",
       "      <th>actor_2_facebook_likes</th>\n",
       "      <th>actor_3_facebook_likes</th>\n",
       "      <th>...</th>\n",
       "      <th>Votes45A</th>\n",
       "      <th>Votes45AM</th>\n",
       "      <th>Votes45AF</th>\n",
       "      <th>Votes1000</th>\n",
       "      <th>VotesUS</th>\n",
       "      <th>VotesnUS</th>\n",
       "      <th>content_rating</th>\n",
       "      <th>Country</th>\n",
       "      <th>profit</th>\n",
       "      <th>Avg_rating</th>\n",
       "    </tr>\n",
       "  </thead>\n",
       "  <tbody>\n",
       "    <tr>\n",
       "      <th>0</th>\n",
       "      <td>La La Land</td>\n",
       "      <td>2016</td>\n",
       "      <td>30.0</td>\n",
       "      <td>151.101803</td>\n",
       "      <td>Ryan Gosling</td>\n",
       "      <td>Emma Stone</td>\n",
       "      <td>Amiée Conn</td>\n",
       "      <td>14000</td>\n",
       "      <td>19000.0</td>\n",
       "      <td>0.0</td>\n",
       "      <td>...</td>\n",
       "      <td>7.6</td>\n",
       "      <td>7.6</td>\n",
       "      <td>7.5</td>\n",
       "      <td>7.1</td>\n",
       "      <td>8.3</td>\n",
       "      <td>8.1</td>\n",
       "      <td>PG-13</td>\n",
       "      <td>USA</td>\n",
       "      <td>121.101803</td>\n",
       "      <td>8.75</td>\n",
       "    </tr>\n",
       "    <tr>\n",
       "      <th>1</th>\n",
       "      <td>Zootopia</td>\n",
       "      <td>2016</td>\n",
       "      <td>150.0</td>\n",
       "      <td>341.268248</td>\n",
       "      <td>Ginnifer Goodwin</td>\n",
       "      <td>Jason Bateman</td>\n",
       "      <td>Idris Elba</td>\n",
       "      <td>2800</td>\n",
       "      <td>28000.0</td>\n",
       "      <td>27000.0</td>\n",
       "      <td>...</td>\n",
       "      <td>7.8</td>\n",
       "      <td>7.8</td>\n",
       "      <td>8.1</td>\n",
       "      <td>7.6</td>\n",
       "      <td>8.0</td>\n",
       "      <td>8.0</td>\n",
       "      <td>PG</td>\n",
       "      <td>USA</td>\n",
       "      <td>191.268248</td>\n",
       "      <td>7.95</td>\n",
       "    </tr>\n",
       "    <tr>\n",
       "      <th>2</th>\n",
       "      <td>Lion</td>\n",
       "      <td>2016</td>\n",
       "      <td>12.0</td>\n",
       "      <td>51.738905</td>\n",
       "      <td>Dev Patel</td>\n",
       "      <td>Nicole Kidman</td>\n",
       "      <td>Rooney Mara</td>\n",
       "      <td>33000</td>\n",
       "      <td>96000.0</td>\n",
       "      <td>9800.0</td>\n",
       "      <td>...</td>\n",
       "      <td>8.0</td>\n",
       "      <td>7.9</td>\n",
       "      <td>8.4</td>\n",
       "      <td>7.1</td>\n",
       "      <td>8.1</td>\n",
       "      <td>8.0</td>\n",
       "      <td>PG-13</td>\n",
       "      <td>Australia</td>\n",
       "      <td>39.738905</td>\n",
       "      <td>7.50</td>\n",
       "    </tr>\n",
       "    <tr>\n",
       "      <th>3</th>\n",
       "      <td>Arrival</td>\n",
       "      <td>2016</td>\n",
       "      <td>47.0</td>\n",
       "      <td>100.546139</td>\n",
       "      <td>Amy Adams</td>\n",
       "      <td>Jeremy Renner</td>\n",
       "      <td>Forest Whitaker</td>\n",
       "      <td>35000</td>\n",
       "      <td>5300.0</td>\n",
       "      <td>0.0</td>\n",
       "      <td>...</td>\n",
       "      <td>7.6</td>\n",
       "      <td>7.6</td>\n",
       "      <td>7.7</td>\n",
       "      <td>7.3</td>\n",
       "      <td>8.0</td>\n",
       "      <td>7.9</td>\n",
       "      <td>PG-13</td>\n",
       "      <td>USA</td>\n",
       "      <td>53.546139</td>\n",
       "      <td>8.05</td>\n",
       "    </tr>\n",
       "    <tr>\n",
       "      <th>4</th>\n",
       "      <td>Manchester by the Sea</td>\n",
       "      <td>2016</td>\n",
       "      <td>9.0</td>\n",
       "      <td>47.695371</td>\n",
       "      <td>Casey Affleck</td>\n",
       "      <td>Michelle Williams</td>\n",
       "      <td>Kyle Chandler</td>\n",
       "      <td>518</td>\n",
       "      <td>71000.0</td>\n",
       "      <td>3300.0</td>\n",
       "      <td>...</td>\n",
       "      <td>7.6</td>\n",
       "      <td>7.6</td>\n",
       "      <td>7.6</td>\n",
       "      <td>7.1</td>\n",
       "      <td>7.9</td>\n",
       "      <td>7.8</td>\n",
       "      <td>R</td>\n",
       "      <td>USA</td>\n",
       "      <td>38.695371</td>\n",
       "      <td>8.75</td>\n",
       "    </tr>\n",
       "  </tbody>\n",
       "</table>\n",
       "<p>5 rows × 64 columns</p>\n",
       "</div>"
      ],
      "text/plain": [
       "                   Title  title_year  budget       Gross      actor_1_name  \\\n",
       "0             La La Land        2016    30.0  151.101803      Ryan Gosling   \n",
       "1               Zootopia        2016   150.0  341.268248  Ginnifer Goodwin   \n",
       "2                   Lion        2016    12.0   51.738905         Dev Patel   \n",
       "3                Arrival        2016    47.0  100.546139         Amy Adams   \n",
       "4  Manchester by the Sea        2016     9.0   47.695371     Casey Affleck   \n",
       "\n",
       "         actor_2_name     actor_3_name  actor_1_facebook_likes  \\\n",
       "0          Emma Stone       Amiée Conn                   14000   \n",
       "1       Jason Bateman       Idris Elba                    2800   \n",
       "2       Nicole Kidman      Rooney Mara                   33000   \n",
       "3       Jeremy Renner  Forest Whitaker                   35000   \n",
       "4  Michelle Williams     Kyle Chandler                     518   \n",
       "\n",
       "   actor_2_facebook_likes  actor_3_facebook_likes  ...  Votes45A Votes45AM  \\\n",
       "0                 19000.0                     0.0  ...       7.6       7.6   \n",
       "1                 28000.0                 27000.0  ...       7.8       7.8   \n",
       "2                 96000.0                  9800.0  ...       8.0       7.9   \n",
       "3                  5300.0                     0.0  ...       7.6       7.6   \n",
       "4                 71000.0                  3300.0  ...       7.6       7.6   \n",
       "\n",
       "  Votes45AF Votes1000  VotesUS  VotesnUS  content_rating    Country  \\\n",
       "0       7.5       7.1      8.3       8.1           PG-13        USA   \n",
       "1       8.1       7.6      8.0       8.0              PG        USA   \n",
       "2       8.4       7.1      8.1       8.0           PG-13  Australia   \n",
       "3       7.7       7.3      8.0       7.9           PG-13        USA   \n",
       "4       7.6       7.1      7.9       7.8               R        USA   \n",
       "\n",
       "       profit  Avg_rating  \n",
       "0  121.101803        8.75  \n",
       "1  191.268248        7.95  \n",
       "2   39.738905        7.50  \n",
       "3   53.546139        8.05  \n",
       "4   38.695371        8.75  \n",
       "\n",
       "[5 rows x 64 columns]"
      ]
     },
     "execution_count": 71,
     "metadata": {},
     "output_type": "execute_result"
    }
   ],
   "source": [
    "movies.head()"
   ]
  },
  {
   "cell_type": "code",
   "execution_count": 0,
   "metadata": {
    "application/vnd.databricks.v1+cell": {
     "cellMetadata": {
      "byteLimit": 2048000,
      "rowLimit": 10000
     },
     "inputWidgets": {},
     "nuid": "297cd789-4960-4cf4-8100-f7bfd91e37eb",
     "showTitle": false,
     "tableResultSettingsMap": {},
     "title": ""
    }
   },
   "outputs": [
    {
     "output_type": "stream",
     "name": "stdout",
     "output_type": "stream",
     "text": [
      "+--------------------+----------------------+----------------------+----------------------+-----------------------+\n|               Title|actor_1_facebook_likes|actor_2_facebook_likes|actor_3_facebook_likes|facebook_likes_combined|\n+--------------------+----------------------+----------------------+----------------------+-----------------------+\n|          La La Land|                 14000|                 19000|                     0|                  33000|\n|            Zootopia|                  2800|                 28000|                 27000|                  57800|\n|                Lion|                 33000|                 96000|                  9800|                 138800|\n|             Arrival|                 35000|                  5300|                     0|                  40300|\n|Manchester by the...|                   518|                 71000|                  3300|                  74818|\n+--------------------+----------------------+----------------------+----------------------+-----------------------+\nonly showing top 5 rows\n\n+--------------------+-----------------+------------------+--------------------+-----------------------+\n|               Title|     actor_1_name|      actor_2_name|        actor_3_name|facebook_likes_combined|\n+--------------------+-----------------+------------------+--------------------+-----------------------+\n|                Lion|        Dev Patel|     Nicole Kidman|         Rooney Mara|                 138800|\n|           Inception|Leonardo DiCaprio|         Tom Hardy|Joseph Gordon-Levitt|                  79000|\n|X-Men: Days of Fu...|Jennifer Lawrence|    Peter Dinklage|        Hugh Jackman|                  76000|\n|Manchester by the...|    Casey Affleck|Michelle Williams |       Kyle Chandler|                  74818|\n|The Dark Knight R...|        Tom Hardy|    Christian Bale|Joseph Gordon-Levitt|                  73000|\n+--------------------+-----------------+------------------+--------------------+-----------------------+\n\n"
     ]
    }
   ],
   "source": [
    "from pyspark.sql.functions import col, coalesce, lit\n",
    "\n",
    "# Replace NaN/Null values with 0 for the 'actor_x_facebook_likes' columns and sum the values\n",
    "movies = movies.withColumn(\"actor_1_facebook_likes\", coalesce(col(\"actor_1_facebook_likes\"), lit(0))) \\\n",
    "               .withColumn(\"actor_2_facebook_likes\", coalesce(col(\"actor_2_facebook_likes\"), lit(0))) \\\n",
    "               .withColumn(\"actor_3_facebook_likes\", coalesce(col(\"actor_3_facebook_likes\"), lit(0))) \\\n",
    "               .withColumn(\"facebook_likes_combined\", \n",
    "                           col(\"actor_1_facebook_likes\") + \n",
    "                           col(\"actor_2_facebook_likes\") + \n",
    "                           col(\"actor_3_facebook_likes\"))\n",
    "\n",
    "# Show the first 5 rows to check if the NaN/Null values have been handled and the combined likes column is added\n",
    "movies.select(\"Title\", \"actor_1_facebook_likes\", \"actor_2_facebook_likes\", \"actor_3_facebook_likes\", \"facebook_likes_combined\").show(5)\n",
    "\n",
    "# Sort by 'facebook_likes_combined' in descending order and get the top 5 trios\n",
    "top5_trios = movies.sort(\"facebook_likes_combined\", ascending=False).limit(5)\n",
    "\n",
    "# Show the top 5 trios with the highest combined Facebook likes\n",
    "top5_trios.select(\"Title\", \"actor_1_name\", \"actor_2_name\", \"actor_3_name\", \"facebook_likes_combined\").show()\n"
   ]
  },
  {
   "cell_type": "code",
   "execution_count": 0,
   "metadata": {
    "application/vnd.databricks.v1+cell": {
     "cellMetadata": {
      "byteLimit": 2048000,
      "rowLimit": 10000
     },
     "inputWidgets": {},
     "nuid": "e1ea5fb0-a54d-4de1-859a-b0da712864c0",
     "showTitle": false,
     "tableResultSettingsMap": {},
     "title": ""
    }
   },
   "outputs": [
    {
     "output_type": "stream",
     "name": "stdout",
     "output_type": "stream",
     "text": [
      "+--------------------+-----------------+------------------+--------------------+-----------------------+\n|               Title|     actor_1_name|      actor_2_name|        actor_3_name|facebook_likes_combined|\n+--------------------+-----------------+------------------+--------------------+-----------------------+\n|                Lion|        Dev Patel|     Nicole Kidman|         Rooney Mara|                 138800|\n|           Inception|Leonardo DiCaprio|         Tom Hardy|Joseph Gordon-Levitt|                  79000|\n|X-Men: Days of Fu...|Jennifer Lawrence|    Peter Dinklage|        Hugh Jackman|                  76000|\n|Manchester by the...|    Casey Affleck|Michelle Williams |       Kyle Chandler|                  74818|\n|The Dark Knight R...|        Tom Hardy|    Christian Bale|Joseph Gordon-Levitt|                  73000|\n+--------------------+-----------------+------------------+--------------------+-----------------------+\n\n"
     ]
    }
   ],
   "source": [
    "# Sort by 'facebook_likes_combined' in descending order and get the top 5 trios\n",
    "top5_trios = movies.sort(\"facebook_likes_combined\", ascending=False).limit(5)\n",
    "\n",
    "# Show the top 5 trios with the highest combined Facebook likes\n",
    "top5_trios.select(\"Title\", \"actor_1_name\", \"actor_2_name\", \"actor_3_name\", \"facebook_likes_combined\").show()\n"
   ]
  },
  {
   "cell_type": "markdown",
   "metadata": {
    "application/vnd.databricks.v1+cell": {
     "cellMetadata": {
      "byteLimit": 2048000,
      "rowLimit": 10000
     },
     "inputWidgets": {},
     "nuid": "5a2e581d-6ffe-4df4-87bc-e5ca6d1ee468",
     "showTitle": false,
     "tableResultSettingsMap": {},
     "title": ""
    }
   },
   "source": [
    "- ### Subtask 2.5: Find the Most Popular Trios - II\n",
    "\n",
    "In the previous subtask you found the popular trio based on the total number of facebook likes. Let's add a small condition to it and make sure that all three actors are popular. The condition is **none of the three actors' Facebook likes should be less than half of the other two**. For example, the following is a valid combo:\n",
    "- actor_1_facebook_likes: 70000\n",
    "- actor_2_facebook_likes: 40000\n",
    "- actor_3_facebook_likes: 50000\n",
    "\n",
    "But the below one is not:\n",
    "- actor_1_facebook_likes: 70000\n",
    "- actor_2_facebook_likes: 40000\n",
    "- actor_3_facebook_likes: 30000\n",
    "\n",
    "since in this case, `actor_3_facebook_likes` is 30000, which is less than half of `actor_1_facebook_likes`.\n",
    "\n",
    "Having this condition ensures that you aren't getting any unpopular actor in your trio (since the total likes calculated in the previous question doesn't tell anything about the individual popularities of each actor in the trio.).\n",
    "\n",
    "You can do a manual inspection of the top 5 popular trios you have found in the previous subtask and check how many of those trios satisfy this condition. Also, which is the most popular trio after applying the condition above?"
   ]
  },
  {
   "cell_type": "markdown",
   "metadata": {
    "application/vnd.databricks.v1+cell": {
     "cellMetadata": {
      "byteLimit": 2048000,
      "rowLimit": 10000
     },
     "inputWidgets": {},
     "nuid": "dffe1d5a-8e33-4fdf-904e-8890ff52c102",
     "showTitle": false,
     "tableResultSettingsMap": {},
     "title": ""
    }
   },
   "source": [
    "**Write your answers below.**\n",
    "\n",
    "- **`No. of trios that satisfy the above condition:`** **2**\n",
    "\n",
    "- **`Most popular trio after applying the condition:`** **Leonardo DiCaprio\tTom Hardy\tJoseph Gordon-Levitt**"
   ]
  },
  {
   "cell_type": "markdown",
   "metadata": {
    "application/vnd.databricks.v1+cell": {
     "cellMetadata": {
      "byteLimit": 2048000,
      "rowLimit": 10000
     },
     "inputWidgets": {},
     "nuid": "82518beb-8a5f-4e22-89a9-e15e6318a400",
     "showTitle": false,
     "tableResultSettingsMap": {},
     "title": ""
    }
   },
   "source": [
    "Even though you are finding this out by a natural inspection of the dataframe, can you also achieve this through some *if-else* statements to incorporate this. You can try this out on your own time after you are done with the assignment."
   ]
  },
  {
   "cell_type": "code",
   "execution_count": 0,
   "metadata": {
    "application/vnd.databricks.v1+cell": {
     "cellMetadata": {
      "byteLimit": 2048000,
      "rowLimit": 10000
     },
     "inputWidgets": {},
     "nuid": "368cb34a-ab2b-4647-b672-191953c0c2b3",
     "showTitle": false,
     "tableResultSettingsMap": {},
     "title": ""
    }
   },
   "outputs": [
    {
     "output_type": "stream",
     "name": "stdout",
     "output_type": "stream",
     "text": [
      "+--------------------+-----------------+------------------+--------------------+-----------------------+\n|               Title|     actor_1_name|      actor_2_name|        actor_3_name|facebook_likes_combined|\n+--------------------+-----------------+------------------+--------------------+-----------------------+\n|           Inception|Leonardo DiCaprio|         Tom Hardy|Joseph Gordon-Levitt|                  79000|\n|X-Men: Days of Fu...|Jennifer Lawrence|    Peter Dinklage|        Hugh Jackman|                  76000|\n|The Dark Knight R...|        Tom Hardy|    Christian Bale|Joseph Gordon-Levitt|                  73000|\n|        The Avengers|  Chris Hemsworth| Robert Downey Jr.|  Scarlett Johansson|                  66000|\n|Captain America: ...|Robert Downey Jr.|Scarlett Johansson|         Chris Evans|                  51000|\n+--------------------+-----------------+------------------+--------------------+-----------------------+\n\nNumber of trios that satisfy the condition: 20\n"
     ]
    }
   ],
   "source": [
    "# No. of trios that satisfy the above condition. Display Most popular trio after applying the condition\n",
    "\n",
    "from pyspark.sql.functions import col\n",
    "\n",
    "# Filter trios based on the condition that no actor's Facebook likes are less than half of the other two\n",
    "valid_trios = movies.filter(\n",
    "    (col(\"actor_1_facebook_likes\") >= 0.5 * col(\"actor_2_facebook_likes\")) & \n",
    "    (col(\"actor_1_facebook_likes\") >= 0.5 * col(\"actor_3_facebook_likes\")) &\n",
    "    (col(\"actor_2_facebook_likes\") >= 0.5 * col(\"actor_1_facebook_likes\")) & \n",
    "    (col(\"actor_2_facebook_likes\") >= 0.5 * col(\"actor_3_facebook_likes\")) &\n",
    "    (col(\"actor_3_facebook_likes\") >= 0.5 * col(\"actor_1_facebook_likes\")) & \n",
    "    (col(\"actor_3_facebook_likes\") >= 0.5 * col(\"actor_2_facebook_likes\"))\n",
    ")\n",
    "\n",
    "# Calculate the combined Facebook likes for valid trios\n",
    "valid_trios = valid_trios.withColumn(\"facebook_likes_combined\", \n",
    "                                     col(\"actor_1_facebook_likes\") + \n",
    "                                     col(\"actor_2_facebook_likes\") + \n",
    "                                     col(\"actor_3_facebook_likes\"))\n",
    "\n",
    "# Sort by 'facebook_likes_combined' in descending order and get the top trio\n",
    "top_valid_trios = valid_trios.sort(\"facebook_likes_combined\", ascending=False).limit(5)\n",
    "\n",
    "# Show the top valid trios\n",
    "top_valid_trios.select(\"Title\", \"actor_1_name\", \"actor_2_name\", \"actor_3_name\", \"facebook_likes_combined\").show()\n",
    "\n",
    "# Count the number of valid trios\n",
    "valid_trios_count = valid_trios.count()\n",
    "print(f\"Number of trios that satisfy the condition: {valid_trios_count}\")\n",
    "\n"
   ]
  },
  {
   "cell_type": "markdown",
   "metadata": {
    "application/vnd.databricks.v1+cell": {
     "cellMetadata": {
      "byteLimit": 2048000,
      "rowLimit": 10000
     },
     "inputWidgets": {},
     "nuid": "85fba268-b642-46da-aa4a-ec357cb34ad4",
     "showTitle": false,
     "tableResultSettingsMap": {},
     "title": ""
    }
   },
   "source": [
    "- ### Subtask 2.6: Runtime Analysis\n",
    "\n",
    "There is a column named `Runtime` in the dataframe which primarily shows the length of the movie. It might be intersting to see how this variable this distributed. Plot a `histogram` or `distplot` of seaborn to find the `Runtime` range most of the movies fall into."
   ]
  },
  {
   "cell_type": "code",
   "execution_count": 0,
   "metadata": {
    "application/vnd.databricks.v1+cell": {
     "cellMetadata": {
      "byteLimit": 2048000,
      "rowLimit": 10000
     },
     "inputWidgets": {},
     "nuid": "f100b38b-55d3-4f63-b546-36c5d228598f",
     "showTitle": false,
     "tableResultSettingsMap": {},
     "title": ""
    }
   },
   "outputs": [
    {
     "output_type": "display_data",
     "data": {
      "image/png": "[encoded data removed]",
      "text/plain": [
       "<Figure size 432x288 with 1 Axes>"
      ]
     },
     "metadata": {},
     "output_type": "display_data"
    }
   ],
   "source": [
    "# Runtime histogram/density plot\n",
    "sns.distplot(movies[\"Runtime\"])\n",
    "plt.show()"
   ]
  },
  {
   "cell_type": "markdown",
   "metadata": {
    "application/vnd.databricks.v1+cell": {
     "cellMetadata": {
      "byteLimit": 2048000,
      "rowLimit": 10000
     },
     "inputWidgets": {},
     "nuid": "eef06219-96bf-4556-8bf4-59e0f0ea11ea",
     "showTitle": false,
     "tableResultSettingsMap": {},
     "title": ""
    }
   },
   "source": [
    "**`Checkpoint 3:`** Most of the movies appear to be sharply 2 hour-long."
   ]
  },
  {
   "cell_type": "markdown",
   "metadata": {
    "application/vnd.databricks.v1+cell": {
     "cellMetadata": {
      "byteLimit": 2048000,
      "rowLimit": 10000
     },
     "inputWidgets": {},
     "nuid": "6b48da2d-81f2-47fa-8679-e6095108450d",
     "showTitle": false,
     "tableResultSettingsMap": {},
     "title": ""
    }
   },
   "source": [
    "- ### Subtask 2.7: R-Rated Movies\n",
    "\n",
    "Although R rated movies are restricted movies for the under 18 age group, still there are vote counts from that age group. Among all the R rated movies that have been voted by the under-18 age group, find the top 10 movies that have the highest number of votes i.e.`CVotesU18` from the `movies` dataframe. Store these in a dataframe named `PopularR`."
   ]
  },
  {
   "cell_type": "code",
   "execution_count": 0,
   "metadata": {
    "application/vnd.databricks.v1+cell": {
     "cellMetadata": {
      "byteLimit": 2048000,
      "rowLimit": 10000
     },
     "inputWidgets": {},
     "nuid": "3aa1c06e-0065-4bac-b91c-6774feaf5357",
     "showTitle": false,
     "tableResultSettingsMap": {},
     "title": ""
    }
   },
   "outputs": [
    {
     "output_type": "stream",
     "name": "stdout",
     "output_type": "stream",
     "text": [
      "+--------------------+---------+\n|               Title|CVotesU18|\n+--------------------+---------+\n|        Interstellar|     5735|\n|           Inception|     5678|\n|Guardians of the ...|     5154|\n|        The Avengers|     4953|\n|The Dark Knight R...|     4726|\n|Star Wars: Episod...|     4722|\n|            Deadpool|     4598|\n|Captain America: ...|     3765|\n|The Hunger Games:...|     3650|\n|The Wolf of Wall ...|     3622|\n+--------------------+---------+\n\n"
     ]
    }
   ],
   "source": [
    "# find the top 10 movies that have the highest number of votes i.e.CVotesU18\n",
    "# Sort by CVotesU18 in descending order and get the top 10 movies\n",
    "top_10_movies_by_votes = movies.sort(\"CVotesU18\", ascending=False).limit(10)\n",
    "\n",
    "# Show the top 10 movies with the highest CVotesU18\n",
    "top_10_movies_by_votes.select(\"Title\", \"CVotesU18\").show()\n",
    "\n",
    "\n",
    "\n"
   ]
  },
  {
   "cell_type": "markdown",
   "metadata": {
    "application/vnd.databricks.v1+cell": {
     "cellMetadata": {
      "byteLimit": 2048000,
      "rowLimit": 10000
     },
     "inputWidgets": {},
     "nuid": "2cf39b76-7263-4db0-9145-0041d9a7196a",
     "showTitle": false,
     "tableResultSettingsMap": {},
     "title": ""
    }
   },
   "source": [
    "**`Checkpoint 4:`** Are these kids watching `Deadpool` a lot?  **Yes**"
   ]
  },
  {
   "cell_type": "markdown",
   "metadata": {
    "application/vnd.databricks.v1+cell": {
     "cellMetadata": {
      "byteLimit": 2048000,
      "rowLimit": 10000
     },
     "inputWidgets": {},
     "nuid": "fc9a3ab1-a2fd-4da9-9b1a-633ee47994ed",
     "showTitle": false,
     "tableResultSettingsMap": {},
     "title": ""
    }
   },
   "source": [
    "## Task 3 : Demographic analysis\n",
    "\n",
    "If you take a look at the last columns in the dataframe, most of these are related to demographics of the voters (in the last subtask, i.e., 2.8, you made use one of these columns - CVotesU18). We also have three genre columns indicating the genres of a particular movie. We will extensively use these columns for the third and the final stage of our assignment wherein we will analyse the voters across all demographics and also see how these vary across various genres. So without further ado, let's get started with `demographic analysis`."
   ]
  },
  {
   "cell_type": "markdown",
   "metadata": {
    "application/vnd.databricks.v1+cell": {
     "cellMetadata": {
      "byteLimit": 2048000,
      "rowLimit": 10000
     },
     "inputWidgets": {},
     "nuid": "b1415562-baf9-408b-914e-0f14042133ba",
     "showTitle": false,
     "tableResultSettingsMap": {},
     "title": ""
    }
   },
   "source": [
    "-  ###  Subtask 3.1 Combine the Dataframe by Genres\n",
    "\n",
    "There are 3 columns in the dataframe - `genre_1`, `genre_2`, and `genre_3`. As a part of this subtask, you need to aggregate a few values over these 3 columns. \n",
    "1. First create a new dataframe `df_by_genre` that contains `genre_1`, `genre_2`, and `genre_3` and all the columns related to **CVotes/Votes** from the `movies` data frame. There are 47 columns to be extracted in total.\n",
    "2. Now, Add a column called `cnt` to the dataframe `df_by_genre` and initialize it to one. You will realise the use of this column by the end of this subtask.\n",
    "3. First group the dataframe `df_by_genre` by `genre_1` and find the sum of all the numeric columns such as `cnt`, columns related to CVotes and Votes columns and store it in a dataframe `df_by_g1`.\n",
    "4. Perform the same operation for `genre_2` and `genre_3` and store it dataframes `df_by_g2` and `df_by_g3` respectively. \n",
    "5. Now that you have 3 dataframes performed by grouping over `genre_1`, `genre_2`, and `genre_3` separately, it's time to combine them. For this, add the three dataframes and store it in a new dataframe `df_add`, so that the corresponding values of Votes/CVotes get added for each genre.There is a function called `add()` in pandas which lets you do this. You can refer to this link to see how this function works. https://pandas.pydata.org/pandas-docs/version/0.23.4/generated/pandas.DataFrame.add.html\n",
    "6. The column `cnt` on aggregation has basically kept the track of the number of occurences of each genre.Subset the genres that have atleast 10 movies into a new dataframe `genre_top10` based on the `cnt` column value.\n",
    "7. Now, take the mean of all the numeric columns by dividing them with the column value `cnt` and store it back to the same dataframe. We will be using this dataframe for further analysis in this task unless it is explicitly mentioned to use the dataframe `movies`.\n",
    "8. Since the number of votes can't be a fraction, type cast all the CVotes related columns to integers. Also, round off all the Votes related columns upto two digits after the decimal point.\n"
   ]
  },
  {
   "cell_type": "code",
   "execution_count": 0,
   "metadata": {
    "application/vnd.databricks.v1+cell": {
     "cellMetadata": {
      "byteLimit": 2048000,
      "rowLimit": 10000
     },
     "inputWidgets": {},
     "nuid": "2b58077c-82d3-4e45-aa59-1e1492a7b0b9",
     "showTitle": false,
     "tableResultSettingsMap": {},
     "title": ""
    }
   },
   "outputs": [
    {
     "output_type": "stream",
     "name": "stdout",
     "output_type": "stream",
     "text": [
      "+---------+---------+-------+--------+--------+--------+--------+--------+--------+--------+--------+--------+--------+----------+------------+---------+----------+----------+----------+-----------+-----------+----------+-----------+-----------+---------+----------+----------+----------+--------+---------+------+------+--------+---------+---------+---------+----------+----------+---------+----------+----------+--------+---------+---------+---+\n|  genre_1|  genre_2|genre_3|CVotes10|CVotes09|CVotes08|CVotes07|CVotes06|CVotes05|CVotes04|CVotes03|CVotes02|CVotes01|CVotesMale|CVotesFemale|CVotesU18|CVotesU18M|CVotesU18F|CVotes1829|CVotes1829M|CVotes1829F|CVotes3044|CVotes3044M|CVotes3044F|CVotes45A|CVotes45AM|CVotes45AF|CVotes1000|CVotesUS|CVotesnUS|VotesM|VotesF|VotesU18|VotesU18M|VotesU18F|Votes1829|Votes1829M|Votes1829F|Votes3044|Votes3044M|Votes3044F|Votes45A|Votes45AM|Votes45AF|cnt|\n+---------+---------+-------+--------+--------+--------+--------+--------+--------+--------+--------+--------+--------+----------+------------+---------+----------+----------+----------+-----------+-----------+----------+-----------+-----------+---------+----------+----------+----------+--------+---------+------+------+--------+---------+---------+---------+----------+----------+---------+----------+----------+--------+---------+---------+---+\n|   Comedy|    Drama|  Music|   74245|   71191|   64640|   38831|   17377|    8044|    3998|    2839|    2407|    6802|    157693|       56713|     2675|      1784|       868|    113008|      78998|      32730|     66058|      50835|      14165|    15765|     12148|      3302|       454|   33360|   117987|   8.2|   8.1|     8.9|      9.0|      8.7|      8.4|       8.4|       8.2|      7.9|       7.9|       7.8|     7.6|      7.6|      7.5|  1|\n|Animation|Adventure| Comedy|   53626|   70912|  102352|   57261|   16719|    4539|    1467|     733|     496|    1386|    176202|       52345|     2362|      1641|       706|    119637|      87499|      30813|     75474|      61358|      13034|    12353|      9959|      2151|       518|   35975|   122844|   8.0|   8.3|     8.4|      8.3|      8.7|      8.2|       8.1|       8.4|      7.8|       7.8|       8.1|     7.8|      7.8|      8.1|  1|\n|Biography|    Drama|   null|   23325|   29830|   40564|   20296|    5842|    1669|     558|     309|     182|     493|     68921|       24977|      702|       477|       220|     42962|      29729|      12780|     34297|      26384|       7413|     9054|      6714|      2184|       298|   13478|    53931|   8.0|   8.4|     8.3|      8.2|      8.7|      8.1|       8.0|       8.4|      8.0|       7.9|       8.2|     8.0|      7.9|      8.4|  1|\n|    Drama|  Mystery| Sci-Fi|   55533|   87850|  109536|   65440|   26913|   10556|    5057|    3083|    2194|    4734|    237437|       46272|     1943|      1544|       376|    126301|     101741|      23163|    111985|      95005|      15227|    24027|     20118|      3440|       537|   42062|   163774|   7.9|   8.0|     8.6|      8.6|      8.4|      8.2|       8.2|       8.1|      7.8|       7.8|       7.8|     7.6|      7.6|      7.7|  1|\n|    Drama|     null|   null|   18191|   33532|   46596|   29626|   11879|    4539|    1976|    1233|     888|    1834|     92452|       22834|      855|       681|       166|     55475|      43467|      11378|     40645|      32983|       7053|    11361|      8862|      2306|       402|   20287|    65837|   7.9|   7.7|     8.5|      8.5|      8.1|      8.0|       8.1|       7.8|      7.7|       7.7|       7.7|     7.6|      7.6|      7.6|  1|\n+---------+---------+-------+--------+--------+--------+--------+--------+--------+--------+--------+--------+--------+----------+------------+---------+----------+----------+----------+-----------+-----------+----------+-----------+-----------+---------+----------+----------+----------+--------+---------+------+------+--------+---------+---------+---------+----------+----------+---------+----------+----------+--------+---------+---------+---+\nonly showing top 5 rows\n\n"
     ]
    }
   ],
   "source": [
    "from pyspark.sql import functions as F\n",
    "\n",
    "# List of relevant vote columns based on the dataset\n",
    "cvotes_columns = ['CVotes10', 'CVotes09', 'CVotes08', 'CVotes07', 'CVotes06', 'CVotes05', 'CVotes04', 'CVotes03', 'CVotes02', 'CVotes01', \n",
    "                  'CVotesMale', 'CVotesFemale', 'CVotesU18', 'CVotesU18M', 'CVotesU18F', 'CVotes1829', 'CVotes1829M', 'CVotes1829F', 'CVotes3044', \n",
    "                  'CVotes3044M', 'CVotes3044F', 'CVotes45A', 'CVotes45AM', 'CVotes45AF', 'CVotes1000', 'CVotesUS', 'CVotesnUS', 'VotesM', 'VotesF',\n",
    "                  'VotesU18', 'VotesU18M', 'VotesU18F', 'Votes1829', 'Votes1829M', 'Votes1829F', 'Votes3044', 'Votes3044M', 'Votes3044F', 'Votes45A', \n",
    "                  'Votes45AM', 'Votes45AF']\n",
    "\n",
    "# Select the genre columns and vote columns, adding a count column\n",
    "df_by_genre = movies.select(\"genre_1\", \"genre_2\", \"genre_3\", *cvotes_columns)\n",
    "\n",
    "# Add a 'cnt' column with a constant value of 1\n",
    "df_by_genre = df_by_genre.withColumn(\"cnt\", F.lit(1))\n",
    "\n",
    "# Show the first few rows to verify\n",
    "df_by_genre.show(5)\n"
   ]
  },
  {
   "cell_type": "code",
   "execution_count": 0,
   "metadata": {
    "application/vnd.databricks.v1+cell": {
     "cellMetadata": {
      "byteLimit": 2048000,
      "rowLimit": 10000
     },
     "inputWidgets": {},
     "nuid": "dad78ed7-386a-472b-b7d4-84123bddd625",
     "showTitle": false,
     "tableResultSettingsMap": {},
     "title": ""
    }
   },
   "outputs": [
    {
     "output_type": "stream",
     "name": "stdout",
     "output_type": "stream",
     "text": [
      "+---------+---------+-------+--------+--------+--------+--------+--------+--------+--------+--------+--------+--------+----------+------------+---------+----------+----------+----------+-----------+-----------+----------+-----------+-----------+---------+----------+----------+----------+--------+---------+------+------+--------+---------+---------+---------+----------+----------+---------+----------+----------+--------+---------+---------+---+\n|  genre_1|  genre_2|genre_3|CVotes10|CVotes09|CVotes08|CVotes07|CVotes06|CVotes05|CVotes04|CVotes03|CVotes02|CVotes01|CVotesMale|CVotesFemale|CVotesU18|CVotesU18M|CVotesU18F|CVotes1829|CVotes1829M|CVotes1829F|CVotes3044|CVotes3044M|CVotes3044F|CVotes45A|CVotes45AM|CVotes45AF|CVotes1000|CVotesUS|CVotesnUS|VotesM|VotesF|VotesU18|VotesU18M|VotesU18F|Votes1829|Votes1829M|Votes1829F|Votes3044|Votes3044M|Votes3044F|Votes45A|Votes45AM|Votes45AF|cnt|\n+---------+---------+-------+--------+--------+--------+--------+--------+--------+--------+--------+--------+--------+----------+------------+---------+----------+----------+----------+-----------+-----------+----------+-----------+-----------+---------+----------+----------+----------+--------+---------+------+------+--------+---------+---------+---------+----------+----------+---------+----------+----------+--------+---------+---------+---+\n|   Comedy|    Drama|  Music|   74245|   71191|   64640|   38831|   17377|    8044|    3998|    2839|    2407|    6802|    157693|       56713|     2675|      1784|       868|    113008|      78998|      32730|     66058|      50835|      14165|    15765|     12148|      3302|       454|   33360|   117987|   8.2|   8.1|     8.9|      9.0|      8.7|      8.4|       8.4|       8.2|      7.9|       7.9|       7.8|     7.6|      7.6|      7.5|  1|\n|Animation|Adventure| Comedy|   53626|   70912|  102352|   57261|   16719|    4539|    1467|     733|     496|    1386|    176202|       52345|     2362|      1641|       706|    119637|      87499|      30813|     75474|      61358|      13034|    12353|      9959|      2151|       518|   35975|   122844|   8.0|   8.3|     8.4|      8.3|      8.7|      8.2|       8.1|       8.4|      7.8|       7.8|       8.1|     7.8|      7.8|      8.1|  1|\n|Biography|    Drama|   null|   23325|   29830|   40564|   20296|    5842|    1669|     558|     309|     182|     493|     68921|       24977|      702|       477|       220|     42962|      29729|      12780|     34297|      26384|       7413|     9054|      6714|      2184|       298|   13478|    53931|   8.0|   8.4|     8.3|      8.2|      8.7|      8.1|       8.0|       8.4|      8.0|       7.9|       8.2|     8.0|      7.9|      8.4|  1|\n|    Drama|  Mystery| Sci-Fi|   55533|   87850|  109536|   65440|   26913|   10556|    5057|    3083|    2194|    4734|    237437|       46272|     1943|      1544|       376|    126301|     101741|      23163|    111985|      95005|      15227|    24027|     20118|      3440|       537|   42062|   163774|   7.9|   8.0|     8.6|      8.6|      8.4|      8.2|       8.2|       8.1|      7.8|       7.8|       7.8|     7.6|      7.6|      7.7|  1|\n|    Drama|     null|   null|   18191|   33532|   46596|   29626|   11879|    4539|    1976|    1233|     888|    1834|     92452|       22834|      855|       681|       166|     55475|      43467|      11378|     40645|      32983|       7053|    11361|      8862|      2306|       402|   20287|    65837|   7.9|   7.7|     8.5|      8.5|      8.1|      8.0|       8.1|       7.8|      7.7|       7.7|       7.7|     7.6|      7.6|      7.6|  1|\n+---------+---------+-------+--------+--------+--------+--------+--------+--------+--------+--------+--------+--------+----------+------------+---------+----------+----------+----------+-----------+-----------+----------+-----------+-----------+---------+----------+----------+----------+--------+---------+------+------+--------+---------+---------+---------+----------+----------+---------+----------+----------+--------+---------+---------+---+\nonly showing top 5 rows\n\n"
     ]
    }
   ],
   "source": [
    "# Create a column cnt and initialize it to 1\n",
    "\n",
    "from pyspark.sql import functions as F\n",
    "\n",
    "# Create the 'cnt' column and initialize it to 1\n",
    "df_by_genre = df_by_genre.withColumn(\"cnt\", F.lit(1))\n",
    "\n",
    "# Show the updated dataframe to verify\n",
    "df_by_genre.show(5)\n",
    "\n"
   ]
  },
  {
   "cell_type": "code",
   "execution_count": 0,
   "metadata": {
    "application/vnd.databricks.v1+cell": {
     "cellMetadata": {
      "byteLimit": 2048000,
      "rowLimit": 10000
     },
     "inputWidgets": {},
     "nuid": "e76d5b89-1fa3-462e-a8d2-39cd65dcfafb",
     "showTitle": false,
     "tableResultSettingsMap": {},
     "title": ""
    }
   },
   "outputs": [],
   "source": [
    "# Group the movies by individual genres\n",
    "\n",
    "df_by_g1 = df_by_genre.groupby(\"genre_1\").sum()\n",
    "df_by_g2 = df_by_genre.groupby(\"genre_2\").sum()\n",
    "df_by_g3 = df_by_genre.groupby(\"genre_3\").sum()"
   ]
  },
  {
   "cell_type": "code",
   "execution_count": 0,
   "metadata": {
    "application/vnd.databricks.v1+cell": {
     "cellMetadata": {
      "byteLimit": 2048000,
      "rowLimit": 10000
     },
     "inputWidgets": {},
     "nuid": "2d897125-f904-4c3d-b023-45a14624b163",
     "showTitle": false,
     "tableResultSettingsMap": {},
     "title": ""
    }
   },
   "outputs": [
    {
     "output_type": "stream",
     "name": "stdout",
     "output_type": "stream",
     "text": [
      "+---------+-------+-------+-------------+-------------+-------------+-------------+-------------+-------------+-------------+-------------+-------------+-------------+---------------+-----------------+--------------+---------------+---------------+---------------+----------------+----------------+---------------+----------------+----------------+--------------+---------------+---------------+---------------+-------------+--------------+------------------+------------------+-----------------+------------------+-----------------+-----------------+------------------+-----------------+-----------------+---------------+-----------------+------------------+-----------------+-----------------+--------+\n|  genre_1|genre_2|genre_3|sum(CVotes10)|sum(CVotes09)|sum(CVotes08)|sum(CVotes07)|sum(CVotes06)|sum(CVotes05)|sum(CVotes04)|sum(CVotes03)|sum(CVotes02)|sum(CVotes01)|sum(CVotesMale)|sum(CVotesFemale)|sum(CVotesU18)|sum(CVotesU18M)|sum(CVotesU18F)|sum(CVotes1829)|sum(CVotes1829M)|sum(CVotes1829F)|sum(CVotes3044)|sum(CVotes3044M)|sum(CVotes3044F)|sum(CVotes45A)|sum(CVotes45AM)|sum(CVotes45AF)|sum(CVotes1000)|sum(CVotesUS)|sum(CVotesnUS)|       sum(VotesM)|       sum(VotesF)|    sum(VotesU18)|    sum(VotesU18M)|   sum(VotesU18F)|   sum(Votes1829)|   sum(Votes1829M)|  sum(Votes1829F)|   sum(Votes3044)|sum(Votes3044M)|  sum(Votes3044F)|     sum(Votes45A)|   sum(Votes45AM)|   sum(Votes45AF)|sum(cnt)|\n+---------+-------+-------+-------------+-------------+-------------+-------------+-------------+-------------+-------------+-------------+-------------+-------------+---------------+-----------------+--------------+---------------+---------------+---------------+----------------+----------------+---------------+----------------+----------------+--------------+---------------+---------------+---------------+-------------+--------------+------------------+------------------+-----------------+------------------+-----------------+-----------------+------------------+-----------------+-----------------+---------------+-----------------+------------------+-----------------+-----------------+--------+\n|    Crime|   null|   null|       383290|       690221|      1083469|       627593|       206756|        71460|        30336|        17190|        11757|        25839|        2143407|           441492|          8514|           6761|           1673|        1230337|          987306|          230777|        1026490|          865073|          147390|        193931|         158846|          31602|           5565|       429386|       1508967|              70.8|              69.8|             74.2|              74.4|             72.5|             71.8|              72.0|             70.2|             69.4|           69.7|             68.8|              68.7|68.60000000000001|             69.6|       9|\n|Adventure|   null|   null|      1058779|      1179818|      1560541|       966275|       365486|       136985|        58559|        33174|        22018|        48100|        3535070|           802902|         23513|          18128|           5195|        2153334|         1685453|          446466|        1585917|         1323556|          239846|        325640|         266247|          53656|           8099|       659263|       2463964| 94.10000000000001|              95.4|98.39999999999999|              98.0|98.10000000000001|96.00000000000001|              96.2|96.39999999999999|             92.7|           92.6|             93.5|              92.0|             91.6|93.80000000000001|      12|\n|    Drama|   null|   null|      1080725|      1494053|      1827363|      1078966|       417205|       163874|        75525|        45846|        32068|        71464|        3893193|          1164256|         25270|          16858|           8163|        2508620|         1824930|          657691|        1849944|         1484457|          338271|        385802|         305887|          72980|          10201|       784109|       2871738|141.70000000000002|142.00000000000003|            149.1|148.39999999999998|            147.8|            144.7|144.69999999999996|            143.5|            139.3|          139.0|            139.7|137.70000000000002|            137.2|            138.7|      18|\n|  Mystery|   null|   null|       150405|       230844|       278844|       132349|        45167|        15615|         7061|         3780|         2662|         4703|         570554|           136360|          2321|           1811|            494|         364786|          283316|           78332|         263273|          217923|           42222|         43235|          35277|           7256|            840|       108244|        419648|               8.1|               8.2|              8.6|               8.6|              8.8|              8.4|               8.4|              8.4|              7.9|            7.9|              8.0|               7.5|              7.4|              7.6|       1|\n|Animation|   null|   null|       681562|       798227|      1153214|       722782|       251076|        83069|        30718|        15733|        10026|        25193|        2282985|           724844|         23835|          16354|           7307|        1588630|         1140646|          432464|        1043387|          834069|          195268|        179365|         142636|          33699|           6364|       524406|       1654665| 86.39999999999999|              89.3|             88.9| 87.69999999999999|90.70000000000002|88.50000000000001| 87.89999999999999|90.19999999999999|85.39999999999999|           84.9|87.80000000000001|              84.5|84.10000000000001|             86.7|      11|\n+---------+-------+-------+-------------+-------------+-------------+-------------+-------------+-------------+-------------+-------------+-------------+-------------+---------------+-----------------+--------------+---------------+---------------+---------------+----------------+----------------+---------------+----------------+----------------+--------------+---------------+---------------+---------------+-------------+--------------+------------------+------------------+-----------------+------------------+-----------------+-----------------+------------------+-----------------+-----------------+---------------+-----------------+------------------+-----------------+-----------------+--------+\nonly showing top 5 rows\n\n"
     ]
    }
   ],
   "source": [
    "# Add the grouped data frames and store it in a new data frame\n",
    "from pyspark.sql import functions as F\n",
    "\n",
    "# Perform union on the dataframes\n",
    "df_combined = df_by_g1.unionByName(df_by_g2, allowMissingColumns=True).unionByName(df_by_g3, allowMissingColumns=True)\n",
    "\n",
    "# Group by the genres and sum the numeric columns\n",
    "df_add = df_combined.groupBy('genre_1', 'genre_2', 'genre_3').agg(\n",
    "    *[F.sum(c).alias(c) for c in df_combined.columns if c not in ['genre_1', 'genre_2', 'genre_3']]\n",
    ")\n",
    "\n",
    "# Show the result to verify\n",
    "df_add.show(5)\n",
    "\n"
   ]
  },
  {
   "cell_type": "code",
   "execution_count": 0,
   "metadata": {
    "application/vnd.databricks.v1+cell": {
     "cellMetadata": {
      "byteLimit": 2048000,
      "rowLimit": 10000
     },
     "inputWidgets": {},
     "nuid": "4f972689-d6a0-4dba-9629-7ed4b075dda5",
     "showTitle": false,
     "tableResultSettingsMap": {},
     "title": ""
    }
   },
   "outputs": [
    {
     "output_type": "stream",
     "name": "stdout",
     "output_type": "stream",
     "text": [
      "+-------+-------+-------+---+\n|genre_1|genre_2|genre_3|cnt|\n+-------+-------+-------+---+\n+-------+-------+-------+---+\n\n"
     ]
    }
   ],
   "source": [
    "# Get and display genres with atleast 10 occurences\n",
    "# Group by the genre columns and count the occurrences\n",
    "df_genre_counts = df_add.groupBy('genre_1', 'genre_2', 'genre_3').agg(\n",
    "    F.count('*').alias('cnt')\n",
    ")\n",
    "\n",
    "# Filter the genres with at least 10 occurrences\n",
    "df_genres_10_or_more = df_genre_counts.filter(df_genre_counts.cnt >= 10)\n",
    "\n",
    "# Show the result\n",
    "df_genres_10_or_more.show()\n",
    "\n"
   ]
  },
  {
   "cell_type": "code",
   "execution_count": 0,
   "metadata": {
    "application/vnd.databricks.v1+cell": {
     "cellMetadata": {
      "byteLimit": 2048000,
      "rowLimit": 10000
     },
     "inputWidgets": {},
     "nuid": "dbf03dce-507a-4b38-bc47-afa449708404",
     "showTitle": false,
     "tableResultSettingsMap": {},
     "title": ""
    }
   },
   "outputs": [
    {
     "output_type": "execute_result",
     "data": {
      "text/html": [
       "<div>\n",
       "<style scoped>\n",
       "    .dataframe tbody tr th:only-of-type {\n",
       "        vertical-align: middle;\n",
       "    }\n",
       "\n",
       "    .dataframe tbody tr th {\n",
       "        vertical-align: top;\n",
       "    }\n",
       "\n",
       "    .dataframe thead th {\n",
       "        text-align: right;\n",
       "    }\n",
       "</style>\n",
       "<table border=\"1\" class=\"dataframe\">\n",
       "  <thead>\n",
       "    <tr style=\"text-align: right;\">\n",
       "      <th></th>\n",
       "      <th>CVotes10</th>\n",
       "      <th>CVotes09</th>\n",
       "      <th>CVotes08</th>\n",
       "      <th>CVotes07</th>\n",
       "      <th>CVotes06</th>\n",
       "      <th>CVotes05</th>\n",
       "      <th>CVotes04</th>\n",
       "      <th>CVotes03</th>\n",
       "      <th>CVotes02</th>\n",
       "      <th>CVotes01</th>\n",
       "      <th>...</th>\n",
       "      <th>Votes3044</th>\n",
       "      <th>Votes3044M</th>\n",
       "      <th>Votes3044F</th>\n",
       "      <th>Votes45A</th>\n",
       "      <th>Votes45AM</th>\n",
       "      <th>Votes45AF</th>\n",
       "      <th>Votes1000</th>\n",
       "      <th>VotesUS</th>\n",
       "      <th>VotesnUS</th>\n",
       "      <th>cnt</th>\n",
       "    </tr>\n",
       "  </thead>\n",
       "  <tbody>\n",
       "    <tr>\n",
       "      <th>Drama</th>\n",
       "      <td>3404438.0</td>\n",
       "      <td>4935375.0</td>\n",
       "      <td>7107053.0</td>\n",
       "      <td>4319700.0</td>\n",
       "      <td>1529356.0</td>\n",
       "      <td>552312.0</td>\n",
       "      <td>235475.0</td>\n",
       "      <td>135126.0</td>\n",
       "      <td>94185.0</td>\n",
       "      <td>211308.0</td>\n",
       "      <td>...</td>\n",
       "      <td>501.3</td>\n",
       "      <td>501.1</td>\n",
       "      <td>501.8</td>\n",
       "      <td>496.8</td>\n",
       "      <td>495.3</td>\n",
       "      <td>503.2</td>\n",
       "      <td>469.5</td>\n",
       "      <td>515.9</td>\n",
       "      <td>506.0</td>\n",
       "      <td>65.0</td>\n",
       "    </tr>\n",
       "    <tr>\n",
       "      <th>Adventure</th>\n",
       "      <td>3594659.0</td>\n",
       "      <td>4014192.0</td>\n",
       "      <td>5262328.0</td>\n",
       "      <td>3281981.0</td>\n",
       "      <td>1212075.0</td>\n",
       "      <td>438970.0</td>\n",
       "      <td>183070.0</td>\n",
       "      <td>103318.0</td>\n",
       "      <td>69737.0</td>\n",
       "      <td>173858.0</td>\n",
       "      <td>...</td>\n",
       "      <td>294.6</td>\n",
       "      <td>293.7</td>\n",
       "      <td>299.2</td>\n",
       "      <td>291.7</td>\n",
       "      <td>290.4</td>\n",
       "      <td>298.0</td>\n",
       "      <td>280.6</td>\n",
       "      <td>303.5</td>\n",
       "      <td>296.2</td>\n",
       "      <td>38.0</td>\n",
       "    </tr>\n",
       "    <tr>\n",
       "      <th>Action</th>\n",
       "      <td>3166467.0</td>\n",
       "      <td>3547429.0</td>\n",
       "      <td>4677755.0</td>\n",
       "      <td>2922126.0</td>\n",
       "      <td>1075354.0</td>\n",
       "      <td>393484.0</td>\n",
       "      <td>166970.0</td>\n",
       "      <td>95004.0</td>\n",
       "      <td>65573.0</td>\n",
       "      <td>171247.0</td>\n",
       "      <td>...</td>\n",
       "      <td>240.0</td>\n",
       "      <td>239.5</td>\n",
       "      <td>241.8</td>\n",
       "      <td>237.0</td>\n",
       "      <td>236.4</td>\n",
       "      <td>240.4</td>\n",
       "      <td>226.2</td>\n",
       "      <td>247.6</td>\n",
       "      <td>240.6</td>\n",
       "      <td>31.0</td>\n",
       "    </tr>\n",
       "    <tr>\n",
       "      <th>Comedy</th>\n",
       "      <td>1383616.0</td>\n",
       "      <td>1774987.0</td>\n",
       "      <td>2506851.0</td>\n",
       "      <td>1591069.0</td>\n",
       "      <td>600287.0</td>\n",
       "      <td>226852.0</td>\n",
       "      <td>97469.0</td>\n",
       "      <td>56218.0</td>\n",
       "      <td>39391.0</td>\n",
       "      <td>88367.0</td>\n",
       "      <td>...</td>\n",
       "      <td>177.4</td>\n",
       "      <td>177.4</td>\n",
       "      <td>178.3</td>\n",
       "      <td>175.0</td>\n",
       "      <td>174.7</td>\n",
       "      <td>177.1</td>\n",
       "      <td>165.4</td>\n",
       "      <td>182.6</td>\n",
       "      <td>178.9</td>\n",
       "      <td>23.0</td>\n",
       "    </tr>\n",
       "    <tr>\n",
       "      <th>Biography</th>\n",
       "      <td>852003.0</td>\n",
       "      <td>1401608.0</td>\n",
       "      <td>2231078.0</td>\n",
       "      <td>1332980.0</td>\n",
       "      <td>425595.0</td>\n",
       "      <td>138648.0</td>\n",
       "      <td>53718.0</td>\n",
       "      <td>29510.0</td>\n",
       "      <td>20613.0</td>\n",
       "      <td>51297.0</td>\n",
       "      <td>...</td>\n",
       "      <td>139.1</td>\n",
       "      <td>138.9</td>\n",
       "      <td>139.8</td>\n",
       "      <td>138.5</td>\n",
       "      <td>137.9</td>\n",
       "      <td>141.7</td>\n",
       "      <td>130.1</td>\n",
       "      <td>142.7</td>\n",
       "      <td>139.9</td>\n",
       "      <td>18.0</td>\n",
       "    </tr>\n",
       "    <tr>\n",
       "      <th>Sci-Fi</th>\n",
       "      <td>2325284.0</td>\n",
       "      <td>2530855.0</td>\n",
       "      <td>3002994.0</td>\n",
       "      <td>1802098.0</td>\n",
       "      <td>671811.0</td>\n",
       "      <td>254175.0</td>\n",
       "      <td>111925.0</td>\n",
       "      <td>65904.0</td>\n",
       "      <td>46171.0</td>\n",
       "      <td>114435.0</td>\n",
       "      <td>...</td>\n",
       "      <td>133.6</td>\n",
       "      <td>133.5</td>\n",
       "      <td>133.2</td>\n",
       "      <td>131.1</td>\n",
       "      <td>130.8</td>\n",
       "      <td>131.5</td>\n",
       "      <td>127.9</td>\n",
       "      <td>137.5</td>\n",
       "      <td>134.0</td>\n",
       "      <td>17.0</td>\n",
       "    </tr>\n",
       "    <tr>\n",
       "      <th>Romance</th>\n",
       "      <td>549959.0</td>\n",
       "      <td>689492.0</td>\n",
       "      <td>1069280.0</td>\n",
       "      <td>712841.0</td>\n",
       "      <td>281289.0</td>\n",
       "      <td>110901.0</td>\n",
       "      <td>48913.0</td>\n",
       "      <td>27698.0</td>\n",
       "      <td>19200.0</td>\n",
       "      <td>40075.0</td>\n",
       "      <td>...</td>\n",
       "      <td>98.9</td>\n",
       "      <td>98.9</td>\n",
       "      <td>99.6</td>\n",
       "      <td>97.8</td>\n",
       "      <td>97.5</td>\n",
       "      <td>98.9</td>\n",
       "      <td>89.9</td>\n",
       "      <td>101.8</td>\n",
       "      <td>100.1</td>\n",
       "      <td>13.0</td>\n",
       "    </tr>\n",
       "    <tr>\n",
       "      <th>Thriller</th>\n",
       "      <td>1081701.0</td>\n",
       "      <td>1465491.0</td>\n",
       "      <td>1993378.0</td>\n",
       "      <td>1175799.0</td>\n",
       "      <td>416046.0</td>\n",
       "      <td>149953.0</td>\n",
       "      <td>65281.0</td>\n",
       "      <td>37940.0</td>\n",
       "      <td>25767.0</td>\n",
       "      <td>57630.0</td>\n",
       "      <td>...</td>\n",
       "      <td>100.6</td>\n",
       "      <td>100.7</td>\n",
       "      <td>100.1</td>\n",
       "      <td>99.6</td>\n",
       "      <td>99.3</td>\n",
       "      <td>100.7</td>\n",
       "      <td>96.2</td>\n",
       "      <td>103.1</td>\n",
       "      <td>101.5</td>\n",
       "      <td>13.0</td>\n",
       "    </tr>\n",
       "    <tr>\n",
       "      <th>Animation</th>\n",
       "      <td>681562.0</td>\n",
       "      <td>798227.0</td>\n",
       "      <td>1153214.0</td>\n",
       "      <td>722782.0</td>\n",
       "      <td>251076.0</td>\n",
       "      <td>83069.0</td>\n",
       "      <td>30718.0</td>\n",
       "      <td>15733.0</td>\n",
       "      <td>10026.0</td>\n",
       "      <td>25193.0</td>\n",
       "      <td>...</td>\n",
       "      <td>85.4</td>\n",
       "      <td>84.9</td>\n",
       "      <td>87.8</td>\n",
       "      <td>84.5</td>\n",
       "      <td>84.1</td>\n",
       "      <td>86.7</td>\n",
       "      <td>80.0</td>\n",
       "      <td>87.6</td>\n",
       "      <td>86.1</td>\n",
       "      <td>11.0</td>\n",
       "    </tr>\n",
       "    <tr>\n",
       "      <th>Crime</th>\n",
       "      <td>574526.0</td>\n",
       "      <td>967118.0</td>\n",
       "      <td>1419495.0</td>\n",
       "      <td>821390.0</td>\n",
       "      <td>278391.0</td>\n",
       "      <td>98690.0</td>\n",
       "      <td>42271.0</td>\n",
       "      <td>24713.0</td>\n",
       "      <td>16985.0</td>\n",
       "      <td>37217.0</td>\n",
       "      <td>...</td>\n",
       "      <td>84.9</td>\n",
       "      <td>85.4</td>\n",
       "      <td>83.7</td>\n",
       "      <td>83.9</td>\n",
       "      <td>83.8</td>\n",
       "      <td>84.5</td>\n",
       "      <td>81.3</td>\n",
       "      <td>87.8</td>\n",
       "      <td>85.8</td>\n",
       "      <td>11.0</td>\n",
       "    </tr>\n",
       "  </tbody>\n",
       "</table>\n",
       "<p>10 rows × 45 columns</p>\n",
       "</div>"
      ],
      "text/plain": [
       "            CVotes10   CVotes09   CVotes08   CVotes07   CVotes06  CVotes05  \\\n",
       "Drama      3404438.0  4935375.0  7107053.0  4319700.0  1529356.0  552312.0   \n",
       "Adventure  3594659.0  4014192.0  5262328.0  3281981.0  1212075.0  438970.0   \n",
       "Action     3166467.0  3547429.0  4677755.0  2922126.0  1075354.0  393484.0   \n",
       "Comedy     1383616.0  1774987.0  2506851.0  1591069.0   600287.0  226852.0   \n",
       "Biography   852003.0  1401608.0  2231078.0  1332980.0   425595.0  138648.0   \n",
       "Sci-Fi     2325284.0  2530855.0  3002994.0  1802098.0   671811.0  254175.0   \n",
       "Romance     549959.0   689492.0  1069280.0   712841.0   281289.0  110901.0   \n",
       "Thriller   1081701.0  1465491.0  1993378.0  1175799.0   416046.0  149953.0   \n",
       "Animation   681562.0   798227.0  1153214.0   722782.0   251076.0   83069.0   \n",
       "Crime       574526.0   967118.0  1419495.0   821390.0   278391.0   98690.0   \n",
       "\n",
       "           CVotes04  CVotes03  CVotes02  CVotes01  ...  Votes3044  Votes3044M  \\\n",
       "Drama      235475.0  135126.0   94185.0  211308.0  ...      501.3       501.1   \n",
       "Adventure  183070.0  103318.0   69737.0  173858.0  ...      294.6       293.7   \n",
       "Action     166970.0   95004.0   65573.0  171247.0  ...      240.0       239.5   \n",
       "Comedy      97469.0   56218.0   39391.0   88367.0  ...      177.4       177.4   \n",
       "Biography   53718.0   29510.0   20613.0   51297.0  ...      139.1       138.9   \n",
       "Sci-Fi     111925.0   65904.0   46171.0  114435.0  ...      133.6       133.5   \n",
       "Romance     48913.0   27698.0   19200.0   40075.0  ...       98.9        98.9   \n",
       "Thriller    65281.0   37940.0   25767.0   57630.0  ...      100.6       100.7   \n",
       "Animation   30718.0   15733.0   10026.0   25193.0  ...       85.4        84.9   \n",
       "Crime       42271.0   24713.0   16985.0   37217.0  ...       84.9        85.4   \n",
       "\n",
       "           Votes3044F  Votes45A  Votes45AM  Votes45AF  Votes1000  VotesUS  \\\n",
       "Drama           501.8     496.8      495.3      503.2      469.5    515.9   \n",
       "Adventure       299.2     291.7      290.4      298.0      280.6    303.5   \n",
       "Action          241.8     237.0      236.4      240.4      226.2    247.6   \n",
       "Comedy          178.3     175.0      174.7      177.1      165.4    182.6   \n",
       "Biography       139.8     138.5      137.9      141.7      130.1    142.7   \n",
       "Sci-Fi          133.2     131.1      130.8      131.5      127.9    137.5   \n",
       "Romance          99.6      97.8       97.5       98.9       89.9    101.8   \n",
       "Thriller        100.1      99.6       99.3      100.7       96.2    103.1   \n",
       "Animation        87.8      84.5       84.1       86.7       80.0     87.6   \n",
       "Crime            83.7      83.9       83.8       84.5       81.3     87.8   \n",
       "\n",
       "           VotesnUS   cnt  \n",
       "Drama         506.0  65.0  \n",
       "Adventure     296.2  38.0  \n",
       "Action        240.6  31.0  \n",
       "Comedy        178.9  23.0  \n",
       "Biography     139.9  18.0  \n",
       "Sci-Fi        134.0  17.0  \n",
       "Romance       100.1  13.0  \n",
       "Thriller      101.5  13.0  \n",
       "Animation      86.1  11.0  \n",
       "Crime          85.8  11.0  \n",
       "\n",
       "[10 rows x 45 columns]"
      ]
     },
     "execution_count": 82,
     "metadata": {},
     "output_type": "execute_result"
    }
   ],
   "source": [
    "genre_top10"
   ]
  },
  {
   "cell_type": "code",
   "execution_count": 0,
   "metadata": {
    "application/vnd.databricks.v1+cell": {
     "cellMetadata": {
      "byteLimit": 2048000,
      "rowLimit": 10000
     },
     "inputWidgets": {},
     "nuid": "bfacbb01-c612-41c4-ae2b-5f5da6d3b429",
     "showTitle": false,
     "tableResultSettingsMap": {},
     "title": ""
    }
   },
   "outputs": [
    {
     "output_type": "stream",
     "name": "stdout",
     "output_type": "stream",
     "text": [
      "+---------+---------+-------+---+\n|  genre_1|  genre_2|genre_3|cnt|\n+---------+---------+-------+---+\n|    Crime|     null|   null|  1|\n|Adventure|     null|   null|  1|\n|    Drama|     null|   null|  1|\n|  Mystery|     null|   null|  1|\n|Animation|     null|   null|  1|\n|Biography|     null|   null|  1|\n|   Comedy|     null|   null|  1|\n|   Action|     null|   null|  1|\n|     null|    Crime|   null|  1|\n|     null|  Romance|   null|  1|\n|     null| Thriller|   null|  1|\n|     null|Adventure|   null|  1|\n|     null|     null|   null|  1|\n|     null|    Drama|   null|  1|\n|     null|      War|   null|  1|\n|     null|   Family|   null|  1|\n|     null|  Fantasy|   null|  1|\n|     null|  History|   null|  1|\n|     null|  Mystery|   null|  1|\n|     null|  Musical|   null|  1|\n+---------+---------+-------+---+\nonly showing top 20 rows\n\n"
     ]
    }
   ],
   "source": [
    "# Assuming your original dataframe is df_add\n",
    "# First, we need to group by the genre columns and count occurrences for each genre\n",
    "df_with_cnt = df_add.groupBy('genre_1', 'genre_2', 'genre_3').count().withColumnRenamed('count', 'cnt')\n",
    "\n",
    "# Show the new dataframe with the cnt column\n",
    "df_with_cnt.show()\n"
   ]
  },
  {
   "cell_type": "code",
   "execution_count": 0,
   "metadata": {
    "application/vnd.databricks.v1+cell": {
     "cellMetadata": {
      "byteLimit": 2048000,
      "rowLimit": 10000
     },
     "inputWidgets": {},
     "nuid": "d7acd7a8-3ce1-427f-9247-9d74e6b3b482",
     "showTitle": false,
     "tableResultSettingsMap": {},
     "title": ""
    }
   },
   "outputs": [
    {
     "output_type": "execute_result",
     "data": {
      "text/html": [
       "<div>\n",
       "<style scoped>\n",
       "    .dataframe tbody tr th:only-of-type {\n",
       "        vertical-align: middle;\n",
       "    }\n",
       "\n",
       "    .dataframe tbody tr th {\n",
       "        vertical-align: top;\n",
       "    }\n",
       "\n",
       "    .dataframe thead th {\n",
       "        text-align: right;\n",
       "    }\n",
       "</style>\n",
       "<table border=\"1\" class=\"dataframe\">\n",
       "  <thead>\n",
       "    <tr style=\"text-align: right;\">\n",
       "      <th></th>\n",
       "      <th>CVotes10</th>\n",
       "      <th>CVotes09</th>\n",
       "      <th>CVotes08</th>\n",
       "      <th>CVotes07</th>\n",
       "      <th>CVotes06</th>\n",
       "      <th>CVotes05</th>\n",
       "      <th>CVotes04</th>\n",
       "      <th>CVotes03</th>\n",
       "      <th>CVotes02</th>\n",
       "      <th>CVotes01</th>\n",
       "      <th>...</th>\n",
       "      <th>Votes3044</th>\n",
       "      <th>Votes3044M</th>\n",
       "      <th>Votes3044F</th>\n",
       "      <th>Votes45A</th>\n",
       "      <th>Votes45AM</th>\n",
       "      <th>Votes45AF</th>\n",
       "      <th>Votes1000</th>\n",
       "      <th>VotesUS</th>\n",
       "      <th>VotesnUS</th>\n",
       "      <th>cnt</th>\n",
       "    </tr>\n",
       "  </thead>\n",
       "  <tbody>\n",
       "    <tr>\n",
       "      <th>Drama</th>\n",
       "      <td>52375.969231</td>\n",
       "      <td>75928.846154</td>\n",
       "      <td>109339.276923</td>\n",
       "      <td>66456.923077</td>\n",
       "      <td>23528.553846</td>\n",
       "      <td>8497.107692</td>\n",
       "      <td>3622.692308</td>\n",
       "      <td>2078.861538</td>\n",
       "      <td>1449.000000</td>\n",
       "      <td>3250.892308</td>\n",
       "      <td>...</td>\n",
       "      <td>7.712308</td>\n",
       "      <td>7.709231</td>\n",
       "      <td>7.720000</td>\n",
       "      <td>7.643077</td>\n",
       "      <td>7.620000</td>\n",
       "      <td>7.741538</td>\n",
       "      <td>7.223077</td>\n",
       "      <td>7.936923</td>\n",
       "      <td>7.784615</td>\n",
       "      <td>65.0</td>\n",
       "    </tr>\n",
       "    <tr>\n",
       "      <th>Adventure</th>\n",
       "      <td>94596.289474</td>\n",
       "      <td>105636.631579</td>\n",
       "      <td>138482.315789</td>\n",
       "      <td>86367.921053</td>\n",
       "      <td>31896.710526</td>\n",
       "      <td>11551.842105</td>\n",
       "      <td>4817.631579</td>\n",
       "      <td>2718.894737</td>\n",
       "      <td>1835.184211</td>\n",
       "      <td>4575.210526</td>\n",
       "      <td>...</td>\n",
       "      <td>7.752632</td>\n",
       "      <td>7.728947</td>\n",
       "      <td>7.873684</td>\n",
       "      <td>7.676316</td>\n",
       "      <td>7.642105</td>\n",
       "      <td>7.842105</td>\n",
       "      <td>7.384211</td>\n",
       "      <td>7.986842</td>\n",
       "      <td>7.794737</td>\n",
       "      <td>38.0</td>\n",
       "    </tr>\n",
       "    <tr>\n",
       "      <th>Action</th>\n",
       "      <td>102144.096774</td>\n",
       "      <td>114433.193548</td>\n",
       "      <td>150895.322581</td>\n",
       "      <td>94262.129032</td>\n",
       "      <td>34688.838710</td>\n",
       "      <td>12693.032258</td>\n",
       "      <td>5386.129032</td>\n",
       "      <td>3064.645161</td>\n",
       "      <td>2115.258065</td>\n",
       "      <td>5524.096774</td>\n",
       "      <td>...</td>\n",
       "      <td>7.741935</td>\n",
       "      <td>7.725806</td>\n",
       "      <td>7.800000</td>\n",
       "      <td>7.645161</td>\n",
       "      <td>7.625806</td>\n",
       "      <td>7.754839</td>\n",
       "      <td>7.296774</td>\n",
       "      <td>7.987097</td>\n",
       "      <td>7.761290</td>\n",
       "      <td>31.0</td>\n",
       "    </tr>\n",
       "    <tr>\n",
       "      <th>Comedy</th>\n",
       "      <td>60157.217391</td>\n",
       "      <td>77173.347826</td>\n",
       "      <td>108993.521739</td>\n",
       "      <td>69176.913043</td>\n",
       "      <td>26099.434783</td>\n",
       "      <td>9863.130435</td>\n",
       "      <td>4237.782609</td>\n",
       "      <td>2444.260870</td>\n",
       "      <td>1712.652174</td>\n",
       "      <td>3842.043478</td>\n",
       "      <td>...</td>\n",
       "      <td>7.713043</td>\n",
       "      <td>7.713043</td>\n",
       "      <td>7.752174</td>\n",
       "      <td>7.608696</td>\n",
       "      <td>7.595652</td>\n",
       "      <td>7.700000</td>\n",
       "      <td>7.191304</td>\n",
       "      <td>7.939130</td>\n",
       "      <td>7.778261</td>\n",
       "      <td>23.0</td>\n",
       "    </tr>\n",
       "    <tr>\n",
       "      <th>Biography</th>\n",
       "      <td>47333.500000</td>\n",
       "      <td>77867.111111</td>\n",
       "      <td>123948.777778</td>\n",
       "      <td>74054.444444</td>\n",
       "      <td>23644.166667</td>\n",
       "      <td>7702.666667</td>\n",
       "      <td>2984.333333</td>\n",
       "      <td>1639.444444</td>\n",
       "      <td>1145.166667</td>\n",
       "      <td>2849.833333</td>\n",
       "      <td>...</td>\n",
       "      <td>7.727778</td>\n",
       "      <td>7.716667</td>\n",
       "      <td>7.766667</td>\n",
       "      <td>7.694444</td>\n",
       "      <td>7.661111</td>\n",
       "      <td>7.872222</td>\n",
       "      <td>7.227778</td>\n",
       "      <td>7.927778</td>\n",
       "      <td>7.772222</td>\n",
       "      <td>18.0</td>\n",
       "    </tr>\n",
       "    <tr>\n",
       "      <th>Sci-Fi</th>\n",
       "      <td>136781.411765</td>\n",
       "      <td>148873.823529</td>\n",
       "      <td>176646.705882</td>\n",
       "      <td>106005.764706</td>\n",
       "      <td>39518.294118</td>\n",
       "      <td>14951.470588</td>\n",
       "      <td>6583.823529</td>\n",
       "      <td>3876.705882</td>\n",
       "      <td>2715.941176</td>\n",
       "      <td>6731.470588</td>\n",
       "      <td>...</td>\n",
       "      <td>7.858824</td>\n",
       "      <td>7.852941</td>\n",
       "      <td>7.835294</td>\n",
       "      <td>7.711765</td>\n",
       "      <td>7.694118</td>\n",
       "      <td>7.735294</td>\n",
       "      <td>7.523529</td>\n",
       "      <td>8.088235</td>\n",
       "      <td>7.882353</td>\n",
       "      <td>17.0</td>\n",
       "    </tr>\n",
       "    <tr>\n",
       "      <th>Romance</th>\n",
       "      <td>42304.538462</td>\n",
       "      <td>53037.846154</td>\n",
       "      <td>82252.307692</td>\n",
       "      <td>54833.923077</td>\n",
       "      <td>21637.615385</td>\n",
       "      <td>8530.846154</td>\n",
       "      <td>3762.538462</td>\n",
       "      <td>2130.615385</td>\n",
       "      <td>1476.923077</td>\n",
       "      <td>3082.692308</td>\n",
       "      <td>...</td>\n",
       "      <td>7.607692</td>\n",
       "      <td>7.607692</td>\n",
       "      <td>7.661538</td>\n",
       "      <td>7.523077</td>\n",
       "      <td>7.500000</td>\n",
       "      <td>7.607692</td>\n",
       "      <td>6.915385</td>\n",
       "      <td>7.830769</td>\n",
       "      <td>7.700000</td>\n",
       "      <td>13.0</td>\n",
       "    </tr>\n",
       "    <tr>\n",
       "      <th>Thriller</th>\n",
       "      <td>83207.769231</td>\n",
       "      <td>112730.076923</td>\n",
       "      <td>153336.769231</td>\n",
       "      <td>90446.076923</td>\n",
       "      <td>32003.538462</td>\n",
       "      <td>11534.846154</td>\n",
       "      <td>5021.615385</td>\n",
       "      <td>2918.461538</td>\n",
       "      <td>1982.076923</td>\n",
       "      <td>4433.076923</td>\n",
       "      <td>...</td>\n",
       "      <td>7.738462</td>\n",
       "      <td>7.746154</td>\n",
       "      <td>7.700000</td>\n",
       "      <td>7.661538</td>\n",
       "      <td>7.638462</td>\n",
       "      <td>7.746154</td>\n",
       "      <td>7.400000</td>\n",
       "      <td>7.930769</td>\n",
       "      <td>7.807692</td>\n",
       "      <td>13.0</td>\n",
       "    </tr>\n",
       "    <tr>\n",
       "      <th>Animation</th>\n",
       "      <td>61960.181818</td>\n",
       "      <td>72566.090909</td>\n",
       "      <td>104837.636364</td>\n",
       "      <td>65707.454545</td>\n",
       "      <td>22825.090909</td>\n",
       "      <td>7551.727273</td>\n",
       "      <td>2792.545455</td>\n",
       "      <td>1430.272727</td>\n",
       "      <td>911.454545</td>\n",
       "      <td>2290.272727</td>\n",
       "      <td>...</td>\n",
       "      <td>7.763636</td>\n",
       "      <td>7.718182</td>\n",
       "      <td>7.981818</td>\n",
       "      <td>7.681818</td>\n",
       "      <td>7.645455</td>\n",
       "      <td>7.881818</td>\n",
       "      <td>7.272727</td>\n",
       "      <td>7.963636</td>\n",
       "      <td>7.827273</td>\n",
       "      <td>11.0</td>\n",
       "    </tr>\n",
       "    <tr>\n",
       "      <th>Crime</th>\n",
       "      <td>52229.636364</td>\n",
       "      <td>87919.818182</td>\n",
       "      <td>129045.000000</td>\n",
       "      <td>74671.818182</td>\n",
       "      <td>25308.272727</td>\n",
       "      <td>8971.818182</td>\n",
       "      <td>3842.818182</td>\n",
       "      <td>2246.636364</td>\n",
       "      <td>1544.090909</td>\n",
       "      <td>3383.363636</td>\n",
       "      <td>...</td>\n",
       "      <td>7.718182</td>\n",
       "      <td>7.763636</td>\n",
       "      <td>7.609091</td>\n",
       "      <td>7.627273</td>\n",
       "      <td>7.618182</td>\n",
       "      <td>7.681818</td>\n",
       "      <td>7.390909</td>\n",
       "      <td>7.981818</td>\n",
       "      <td>7.800000</td>\n",
       "      <td>11.0</td>\n",
       "    </tr>\n",
       "  </tbody>\n",
       "</table>\n",
       "<p>10 rows × 45 columns</p>\n",
       "</div>"
      ],
      "text/plain": [
       "                CVotes10       CVotes09       CVotes08       CVotes07  \\\n",
       "Drama       52375.969231   75928.846154  109339.276923   66456.923077   \n",
       "Adventure   94596.289474  105636.631579  138482.315789   86367.921053   \n",
       "Action     102144.096774  114433.193548  150895.322581   94262.129032   \n",
       "Comedy      60157.217391   77173.347826  108993.521739   69176.913043   \n",
       "Biography   47333.500000   77867.111111  123948.777778   74054.444444   \n",
       "Sci-Fi     136781.411765  148873.823529  176646.705882  106005.764706   \n",
       "Romance     42304.538462   53037.846154   82252.307692   54833.923077   \n",
       "Thriller    83207.769231  112730.076923  153336.769231   90446.076923   \n",
       "Animation   61960.181818   72566.090909  104837.636364   65707.454545   \n",
       "Crime       52229.636364   87919.818182  129045.000000   74671.818182   \n",
       "\n",
       "               CVotes06      CVotes05     CVotes04     CVotes03     CVotes02  \\\n",
       "Drama      23528.553846   8497.107692  3622.692308  2078.861538  1449.000000   \n",
       "Adventure  31896.710526  11551.842105  4817.631579  2718.894737  1835.184211   \n",
       "Action     34688.838710  12693.032258  5386.129032  3064.645161  2115.258065   \n",
       "Comedy     26099.434783   9863.130435  4237.782609  2444.260870  1712.652174   \n",
       "Biography  23644.166667   7702.666667  2984.333333  1639.444444  1145.166667   \n",
       "Sci-Fi     39518.294118  14951.470588  6583.823529  3876.705882  2715.941176   \n",
       "Romance    21637.615385   8530.846154  3762.538462  2130.615385  1476.923077   \n",
       "Thriller   32003.538462  11534.846154  5021.615385  2918.461538  1982.076923   \n",
       "Animation  22825.090909   7551.727273  2792.545455  1430.272727   911.454545   \n",
       "Crime      25308.272727   8971.818182  3842.818182  2246.636364  1544.090909   \n",
       "\n",
       "              CVotes01  ...  Votes3044  Votes3044M  Votes3044F  Votes45A  \\\n",
       "Drama      3250.892308  ...   7.712308    7.709231    7.720000  7.643077   \n",
       "Adventure  4575.210526  ...   7.752632    7.728947    7.873684  7.676316   \n",
       "Action     5524.096774  ...   7.741935    7.725806    7.800000  7.645161   \n",
       "Comedy     3842.043478  ...   7.713043    7.713043    7.752174  7.608696   \n",
       "Biography  2849.833333  ...   7.727778    7.716667    7.766667  7.694444   \n",
       "Sci-Fi     6731.470588  ...   7.858824    7.852941    7.835294  7.711765   \n",
       "Romance    3082.692308  ...   7.607692    7.607692    7.661538  7.523077   \n",
       "Thriller   4433.076923  ...   7.738462    7.746154    7.700000  7.661538   \n",
       "Animation  2290.272727  ...   7.763636    7.718182    7.981818  7.681818   \n",
       "Crime      3383.363636  ...   7.718182    7.763636    7.609091  7.627273   \n",
       "\n",
       "           Votes45AM  Votes45AF  Votes1000   VotesUS  VotesnUS   cnt  \n",
       "Drama       7.620000   7.741538   7.223077  7.936923  7.784615  65.0  \n",
       "Adventure   7.642105   7.842105   7.384211  7.986842  7.794737  38.0  \n",
       "Action      7.625806   7.754839   7.296774  7.987097  7.761290  31.0  \n",
       "Comedy      7.595652   7.700000   7.191304  7.939130  7.778261  23.0  \n",
       "Biography   7.661111   7.872222   7.227778  7.927778  7.772222  18.0  \n",
       "Sci-Fi      7.694118   7.735294   7.523529  8.088235  7.882353  17.0  \n",
       "Romance     7.500000   7.607692   6.915385  7.830769  7.700000  13.0  \n",
       "Thriller    7.638462   7.746154   7.400000  7.930769  7.807692  13.0  \n",
       "Animation   7.645455   7.881818   7.272727  7.963636  7.827273  11.0  \n",
       "Crime       7.618182   7.681818   7.390909  7.981818  7.800000  11.0  \n",
       "\n",
       "[10 rows x 45 columns]"
      ]
     },
     "execution_count": 84,
     "metadata": {},
     "output_type": "execute_result"
    }
   ],
   "source": [
    "genre_top10"
   ]
  },
  {
   "cell_type": "code",
   "execution_count": 0,
   "metadata": {
    "application/vnd.databricks.v1+cell": {
     "cellMetadata": {
      "byteLimit": 2048000,
      "rowLimit": 10000
     },
     "inputWidgets": {},
     "nuid": "4f334858-b276-40d4-8249-8ea573f0226e",
     "showTitle": false,
     "tableResultSettingsMap": {},
     "title": ""
    }
   },
   "outputs": [
    {
     "output_type": "stream",
     "name": "stdout",
     "output_type": "stream",
     "text": [
      "+---------+---------+-------+-------------+-------------+-------------+-------------+-------------+-------------+-------------+-------------+-------------+-------------+---------------+-----------------+--------------+---------------+---------------+---------------+----------------+----------------+---------------+----------------+----------------+--------------+---------------+---------------+---------------+-------------+--------------+-----------+-----------+-------------+--------------+--------------+--------------+---------------+---------------+--------------+---------------+---------------+-------------+--------------+--------------+--------+\n|  genre_1|  genre_2|genre_3|sum(CVotes10)|sum(CVotes09)|sum(CVotes08)|sum(CVotes07)|sum(CVotes06)|sum(CVotes05)|sum(CVotes04)|sum(CVotes03)|sum(CVotes02)|sum(CVotes01)|sum(CVotesMale)|sum(CVotesFemale)|sum(CVotesU18)|sum(CVotesU18M)|sum(CVotesU18F)|sum(CVotes1829)|sum(CVotes1829M)|sum(CVotes1829F)|sum(CVotes3044)|sum(CVotes3044M)|sum(CVotes3044F)|sum(CVotes45A)|sum(CVotes45AM)|sum(CVotes45AF)|sum(CVotes1000)|sum(CVotesUS)|sum(CVotesnUS)|sum(VotesM)|sum(VotesF)|sum(VotesU18)|sum(VotesU18M)|sum(VotesU18F)|sum(Votes1829)|sum(Votes1829M)|sum(Votes1829F)|sum(Votes3044)|sum(Votes3044M)|sum(Votes3044F)|sum(Votes45A)|sum(Votes45AM)|sum(Votes45AF)|sum(cnt)|\n+---------+---------+-------+-------------+-------------+-------------+-------------+-------------+-------------+-------------+-------------+-------------+-------------+---------------+-----------------+--------------+---------------+---------------+---------------+----------------+----------------+---------------+----------------+----------------+--------------+---------------+---------------+---------------+-------------+--------------+-----------+-----------+-------------+--------------+--------------+--------------+---------------+---------------+--------------+---------------+---------------+-------------+--------------+--------------+--------+\n|    Crime|     null|   null|       383290|       690221|      1083469|       627593|       206756|        71460|        30336|        17190|        11757|        25839|        2143407|           441492|          8514|           6761|           1673|        1230337|          987306|          230777|        1026490|          865073|          147390|        193931|         158846|          31602|           5565|       429386|       1508967|       70.8|       69.8|         74.2|          74.4|          72.5|          71.8|           72.0|           70.2|          69.4|           69.7|           68.8|         68.7|          68.6|          69.6|       9|\n|Adventure|     null|   null|      1058779|      1179818|      1560541|       966275|       365486|       136985|        58559|        33174|        22018|        48100|        3535070|           802902|         23513|          18128|           5195|        2153334|         1685453|          446466|        1585917|         1323556|          239846|        325640|         266247|          53656|           8099|       659263|       2463964|       94.1|       95.4|         98.4|          98.0|          98.1|          96.0|           96.2|           96.4|          92.7|           92.6|           93.5|         92.0|          91.6|          93.8|      12|\n|    Drama|     null|   null|      1080725|      1494053|      1827363|      1078966|       417205|       163874|        75525|        45846|        32068|        71464|        3893193|          1164256|         25270|          16858|           8163|        2508620|         1824930|          657691|        1849944|         1484457|          338271|        385802|         305887|          72980|          10201|       784109|       2871738|      141.7|      142.0|        149.1|         148.4|         147.8|         144.7|          144.7|          143.5|         139.3|          139.0|          139.7|        137.7|         137.2|         138.7|      18|\n|  Mystery|     null|   null|       150405|       230844|       278844|       132349|        45167|        15615|         7061|         3780|         2662|         4703|         570554|           136360|          2321|           1811|            494|         364786|          283316|           78332|         263273|          217923|           42222|         43235|          35277|           7256|            840|       108244|        419648|        8.1|        8.2|          8.6|           8.6|           8.8|           8.4|            8.4|            8.4|           7.9|            7.9|            8.0|          7.5|           7.4|           7.6|       1|\n|Animation|     null|   null|       681562|       798227|      1153214|       722782|       251076|        83069|        30718|        15733|        10026|        25193|        2282985|           724844|         23835|          16354|           7307|        1588630|         1140646|          432464|        1043387|          834069|          195268|        179365|         142636|          33699|           6364|       524406|       1654665|       86.4|       89.3|         88.9|          87.7|          90.7|          88.5|           87.9|           90.2|          85.4|           84.9|           87.8|         84.5|          84.1|          86.7|      11|\n|Biography|     null|   null|       666831|      1088430|      1654704|       962977|       306247|       100005|        38874|        21536|        15365|        37469|        3151311|           790809|         17284|          12914|           4210|        1953708|         1505949|          428103|        1449651|         1185900|          242976|        301036|         237968|          57899|           7620|       595106|       2261929|      102.3|      102.9|        106.7|         106.4|         106.7|         103.9|          104.1|          103.4|         100.8|          100.7|          101.3|        100.5|         100.0|         102.9|      13|\n|   Comedy|     null|   null|       371217|       496905|       770395|       518566|       205434|        81933|        35788|        20965|        15286|        33241|        1573480|           527333|          8718|           5778|           2859|        1050091|          739846|          299041|         787591|          617610|          158450|        156738|         122213|          31665|           4960|       344669|       1232105|       70.0|       70.2|         73.3|          73.1|          73.4|          71.5|           71.6|           70.8|          68.6|           68.7|           68.9|         67.7|          67.5|          68.7|       9|\n|   Action|     null|   null|      2928407|      3261919|      4247693|      2662020|       986774|       364234|       156150|        89483|        61975|       162426|        9994618|          1858890|         67450|          53291|          13665|        5736871|         4679868|         1001097|        4449857|         3815204|          572731|        831269|         696252|         120596|          18788|      1964491|       6411552|      211.8|      213.2|        221.3|         220.8|         223.5|         215.7|          215.6|          215.3|         209.1|          208.8|          210.0|        206.5|         206.0|         209.0|      27|\n|     null|    Crime|   null|        19576|        40247|        85359|        64633|        24920|         8548|         3261|         1669|          970|         1689|         178321|            21448|           730|            650|             73|          86373|           75660|            9762|          84517|           75208|            8116|         17615|          15277|           2011|            526|        30824|        118922|        7.6|        7.3|          7.8|           7.8|           7.2|           7.7|            7.7|            7.3|           7.5|            7.6|            7.2|          7.6|           7.6|           7.4|       1|\n|     null|  Romance|   null|       230425|       270702|       353326|       215355|        87701|        35226|        16298|         9448|         6708|        14889|         700737|           305369|          6335|           2788|           3477|         553528|          357066|          190571|         329629|          250582|           74143|         62396|          47996|          13226|           2448|       143979|        577792|       39.4|       39.5|         41.7|          41.4|          40.9|          40.2|           40.3|           39.9|          38.7|           38.7|           38.7|         37.9|          37.8|          37.7|       5|\n|     null| Thriller|   null|       624792|       709424|       734770|       365134|       135892|        52714|        25734|        15558|        10716|        25417|        1769604|           422507|          8159|           6417|           1682|        1119391|          867924|          241014|         816062|          673948|          131008|        134035|         109267|          22456|           2482|       355329|       1227913|       24.6|       24.6|         25.7|          25.7|          25.8|          25.2|           25.2|           25.1|          24.1|           24.1|           24.2|         22.9|          22.8|          22.9|       3|\n|     null|Adventure|   null|      2297820|      2548864|      3271725|      2055600|       758009|       272735|       113691|        64623|        44121|       116937|        7382329|          1656482|         63448|          47954|          15032|        4434739|         3467349|          923786|        3302263|         2773939|          481981|        623275|         515746|          96735|          14723|      1506234|       4846950|      172.9|      176.7|        180.5|         179.3|         183.5|         176.8|          176.2|          178.2|         171.0|          170.4|          173.9|        169.2|         168.4|         172.8|      22|\n|     null|     null|   null|      2336239|      2888659|      3573380|      2054386|       780937|       302050|       135888|        79858|        56633|       135192|        7900559|          2121751|         45881|          32923|          12575|        5039762|         3799995|         1189331|        3686415|         2997598|          636999|        712200|         565219|         134596|          17728|      1618996|       5665441|      229.3|      230.7|        240.5|         239.3|         240.3|         233.6|          233.7|          233.0|         225.9|          225.6|          227.4|        223.2|         222.3|         226.3|      29|\n|     null|    Drama|   null|      1923492|      2761237|      4112363|      2492241|       853434|       300100|       124511|        70205|        49642|       112896|        8411228|          1953473|         45330|          34336|          10581|        5037503|         3933979|         1052967|        3935375|         3267553|          612322|        793077|         640763|         138300|          21053|      1629610|       5961167|      275.1|      275.1|        287.8|         287.3|         286.6|         279.7|          280.1|          277.2|         270.2|          270.4|          270.1|        267.9|         267.1|         271.8|      35|\n|     null|      War|   null|        15911|        17607|        32570|        24461|        10274|         3848|         1387|          726|          342|          755|          59365|            29422|           481|            206|            270|          41094|           24058|           16590|          32014|           23730|            7792|         10218|           7635|           2406|            378|        10845|         52519|        7.4|        7.9|          8.0|           7.6|           8.5|           7.7|            7.6|            8.0|           7.3|            7.2|            7.7|          7.6|           7.5|           8.0|       1|\n|     null|   Family|   null|        68937|        54947|       102488|        80465|        31205|        11792|         4808|         2454|         1617|         4522|         223868|            79506|          1967|           1310|            638|         178871|          126052|           51112|          94328|           73103|           20145|         18077|          14073|           3750|            734|        56139|        180885|        7.5|        8.2|          8.1|           7.9|           8.6|           7.9|            7.7|            8.3|           7.4|            7.3|            8.1|          7.4|           7.3|           8.0|       1|\n|     null|  Fantasy|   null|       270616|       290831|       447307|       291071|       120920|        47215|        19848|        10871|         6885|        14702|         984809|           260582|          5582|           4180|           1364|         626511|          473238|          146973|         452178|          367961|           77589|         89293|          71576|          16182|           2143|       180475|        714609|       23.3|       23.8|         24.1|          24.0|          24.5|          23.8|           23.9|           24.1|          22.9|           22.9|           23.3|         23.0|          22.8|          23.7|       3|\n|     null|  History|   null|        15757|        32840|        83322|        63800|        19183|         5178|         1657|          735|          419|          878|         152707|            23978|           846|            732|            104|          76784|           64810|           11177|          70780|           61525|            8196|         18494|          15504|           2667|            545|        24273|        105678|        7.6|        7.6|          7.9|           7.9|           7.8|           7.7|            7.7|            7.6|           7.5|            7.5|            7.5|          7.7|           7.6|           7.9|       1|\n|     null|  Mystery|   null|        85313|       152619|       233474|       148176|        55575|        20135|         8863|         5034|         3359|         6916|         475036|            87432|          3097|           2443|            618|         253055|          204884|           45336|         225006|          192934|           28581|         47967|          40891|           6137|           1148|        84618|        328300|       15.7|       15.5|         16.6|          16.7|          16.2|          16.1|           16.1|           15.7|          15.4|           15.4|           15.2|         15.2|          15.2|          15.1|       2|\n|     null|  Musical|   null|        54268|        47750|        63323|        45160|        22393|        10744|         5551|         3484|         2490|         5020|         141014|            73591|           972|            502|            456|         112609|           68687|           42720|          69385|           49760|           18632|         18404|          12811|           5282|            623|        42302|        112787|        7.5|        7.9|          7.9|           7.6|           8.4|           7.8|            7.7|            8.0|           7.3|            7.2|            7.6|          7.4|           7.3|           7.7|       1|\n+---------+---------+-------+-------------+-------------+-------------+-------------+-------------+-------------+-------------+-------------+-------------+-------------+---------------+-----------------+--------------+---------------+---------------+---------------+----------------+----------------+---------------+----------------+----------------+--------------+---------------+---------------+---------------+-------------+--------------+-----------+-----------+-------------+--------------+--------------+--------------+---------------+---------------+--------------+---------------+---------------+-------------+--------------+--------------+--------+\nonly showing top 20 rows\n\n"
     ]
    }
   ],
   "source": [
    "# Rounding off the columns of Votes to two decimals\n",
    "\n",
    "from pyspark.sql import functions as F\n",
    "\n",
    "# Identify columns that contain 'Votes' in their name\n",
    "vote_columns = [col for col in df_add.columns if 'Votes' in col]\n",
    "\n",
    "# Round each of the vote columns to two decimal places\n",
    "df_rounded = df_add.select(\n",
    "    *[\n",
    "        (F.round(F.col(col), 2).alias(col) if col in vote_columns else F.col(col)) \n",
    "        for col in df_add.columns\n",
    "    ]\n",
    ")\n",
    "\n",
    "# Show the resulting dataframe with rounded vote columns\n",
    "df_rounded.show()\n",
    "\n"
   ]
  },
  {
   "cell_type": "code",
   "execution_count": 0,
   "metadata": {
    "application/vnd.databricks.v1+cell": {
     "cellMetadata": {
      "byteLimit": 2048000,
      "rowLimit": 10000
     },
     "inputWidgets": {},
     "nuid": "60c1c61a-b711-4389-abc4-ccaed13eb98a",
     "showTitle": false,
     "tableResultSettingsMap": {},
     "title": ""
    }
   },
   "outputs": [
    {
     "output_type": "stream",
     "name": "stdout",
     "output_type": "stream",
     "text": [
      "+---------+---------+-------+-------------+-------------+-------------+-------------+-------------+-------------+-------------+-------------+-------------+-------------+---------------+-----------------+--------------+---------------+---------------+---------------+----------------+----------------+---------------+----------------+----------------+--------------+---------------+---------------+---------------+-------------+--------------+------------------+------------------+------------------+------------------+------------------+------------------+------------------+------------------+------------------+------------------+------------------+------------------+------------------+------------------+--------+\n|  genre_1|  genre_2|genre_3|sum(CVotes10)|sum(CVotes09)|sum(CVotes08)|sum(CVotes07)|sum(CVotes06)|sum(CVotes05)|sum(CVotes04)|sum(CVotes03)|sum(CVotes02)|sum(CVotes01)|sum(CVotesMale)|sum(CVotesFemale)|sum(CVotesU18)|sum(CVotesU18M)|sum(CVotesU18F)|sum(CVotes1829)|sum(CVotes1829M)|sum(CVotes1829F)|sum(CVotes3044)|sum(CVotes3044M)|sum(CVotes3044F)|sum(CVotes45A)|sum(CVotes45AM)|sum(CVotes45AF)|sum(CVotes1000)|sum(CVotesUS)|sum(CVotesnUS)|       sum(VotesM)|       sum(VotesF)|     sum(VotesU18)|    sum(VotesU18M)|    sum(VotesU18F)|    sum(Votes1829)|   sum(Votes1829M)|   sum(Votes1829F)|    sum(Votes3044)|   sum(Votes3044M)|   sum(Votes3044F)|     sum(Votes45A)|    sum(Votes45AM)|    sum(Votes45AF)|sum(cnt)|\n+---------+---------+-------+-------------+-------------+-------------+-------------+-------------+-------------+-------------+-------------+-------------+-------------+---------------+-----------------+--------------+---------------+---------------+---------------+----------------+----------------+---------------+----------------+----------------+--------------+---------------+---------------+---------------+-------------+--------------+------------------+------------------+------------------+------------------+------------------+------------------+------------------+------------------+------------------+------------------+------------------+------------------+------------------+------------------+--------+\n|    Crime|     null|   null|       383290|       690221|      1083469|       627593|       206756|        71460|        30336|        17190|        11757|        25839|        2143407|           441492|          8514|           6761|           1673|        1230337|          987306|          230777|        1026490|          865073|          147390|        193931|         158846|          31602|           5565|       429386|       1508967|              70.8|              69.8|              74.2|              74.4|              72.5|              71.8|              72.0|              70.2|              69.4|              69.7|              68.8|              68.7| 68.60000000000001|              69.6|       9|\n|Adventure|     null|   null|      1058779|      1179818|      1560541|       966275|       365486|       136985|        58559|        33174|        22018|        48100|        3535070|           802902|         23513|          18128|           5195|        2153334|         1685453|          446466|        1585917|         1323556|          239846|        325640|         266247|          53656|           8099|       659263|       2463964| 94.10000000000001|              95.4| 98.39999999999999|              98.0| 98.10000000000001| 96.00000000000001|              96.2| 96.39999999999999|              92.7|              92.6|              93.5|              92.0|              91.6| 93.80000000000001|      12|\n|    Drama|     null|   null|      1080725|      1494053|      1827363|      1078966|       417205|       163874|        75525|        45846|        32068|        71464|        3893193|          1164256|         25270|          16858|           8163|        2508620|         1824930|          657691|        1849944|         1484457|          338271|        385802|         305887|          72980|          10201|       784109|       2871738|141.70000000000002|142.00000000000003|             149.1|148.39999999999998|             147.8|             144.7|144.69999999999996|             143.5|             139.3|             139.0|             139.7|137.70000000000002|             137.2|             138.7|      18|\n|  Mystery|     null|   null|       150405|       230844|       278844|       132349|        45167|        15615|         7061|         3780|         2662|         4703|         570554|           136360|          2321|           1811|            494|         364786|          283316|           78332|         263273|          217923|           42222|         43235|          35277|           7256|            840|       108244|        419648|               8.1|               8.2|               8.6|               8.6|               8.8|               8.4|               8.4|               8.4|               7.9|               7.9|               8.0|               7.5|               7.4|               7.6|       1|\n|Animation|     null|   null|       681562|       798227|      1153214|       722782|       251076|        83069|        30718|        15733|        10026|        25193|        2282985|           724844|         23835|          16354|           7307|        1588630|         1140646|          432464|        1043387|          834069|          195268|        179365|         142636|          33699|           6364|       524406|       1654665| 86.39999999999999|              89.3|              88.9| 87.69999999999999| 90.70000000000002| 88.50000000000001| 87.89999999999999| 90.19999999999999| 85.39999999999999|              84.9| 87.80000000000001|              84.5| 84.10000000000001|              86.7|      11|\n|Biography|     null|   null|       666831|      1088430|      1654704|       962977|       306247|       100005|        38874|        21536|        15365|        37469|        3151311|           790809|         17284|          12914|           4210|        1953708|         1505949|          428103|        1449651|         1185900|          242976|        301036|         237968|          57899|           7620|       595106|       2261929|102.29999999999998|             102.9|106.69999999999999|             106.4|106.69999999999999|103.89999999999998|104.09999999999997|103.39999999999999|             100.8|             100.7|             101.3|100.49999999999999|             100.0|             102.9|      13|\n|   Comedy|     null|   null|       371217|       496905|       770395|       518566|       205434|        81933|        35788|        20965|        15286|        33241|        1573480|           527333|          8718|           5778|           2859|        1050091|          739846|          299041|         787591|          617610|          158450|        156738|         122213|          31665|           4960|       344669|       1232105|              70.0|              70.2| 73.30000000000001| 73.10000000000001|              73.4|              71.5|              71.6|              70.8|              68.6|              68.7|              68.9| 67.69999999999999|              67.5|              68.7|       9|\n|   Action|     null|   null|      2928407|      3261919|      4247693|      2662020|       986774|       364234|       156150|        89483|        61975|       162426|        9994618|          1858890|         67450|          53291|          13665|        5736871|         4679868|         1001097|        4449857|         3815204|          572731|        831269|         696252|         120596|          18788|      1964491|       6411552|211.79999999999995|213.20000000000002|             221.3|220.80000000000004|             223.5|215.69999999999996|215.59999999999994|215.30000000000004|             209.1|             208.8|209.99999999999997|206.49999999999997|             206.0|209.00000000000003|      27|\n|     null|    Crime|   null|        19576|        40247|        85359|        64633|        24920|         8548|         3261|         1669|          970|         1689|         178321|            21448|           730|            650|             73|          86373|           75660|            9762|          84517|           75208|            8116|         17615|          15277|           2011|            526|        30824|        118922|               7.6|               7.3|               7.8|               7.8|               7.2|               7.7|               7.7|               7.3|               7.5|               7.6|               7.2|               7.6|               7.6|               7.4|       1|\n|     null|  Romance|   null|       230425|       270702|       353326|       215355|        87701|        35226|        16298|         9448|         6708|        14889|         700737|           305369|          6335|           2788|           3477|         553528|          357066|          190571|         329629|          250582|           74143|         62396|          47996|          13226|           2448|       143979|        577792|              39.4| 39.49999999999999|              41.7| 41.39999999999999|              40.9|40.199999999999996|              40.3|              39.9|38.699999999999996|38.699999999999996|              38.7|              37.9|37.800000000000004|              37.7|       5|\n|     null| Thriller|   null|       624792|       709424|       734770|       365134|       135892|        52714|        25734|        15558|        10716|        25417|        1769604|           422507|          8159|           6417|           1682|        1119391|          867924|          241014|         816062|          673948|          131008|        134035|         109267|          22456|           2482|       355329|       1227913|              24.6|              24.6|              25.7|25.700000000000003|25.799999999999997|25.200000000000003|25.200000000000003|              25.1|              24.1|              24.1|              24.2|              22.9|              22.8|              22.9|       3|\n|     null|Adventure|   null|      2297820|      2548864|      3271725|      2055600|       758009|       272735|       113691|        64623|        44121|       116937|        7382329|          1656482|         63448|          47954|          15032|        4434739|         3467349|          923786|        3302263|         2773939|          481981|        623275|         515746|          96735|          14723|      1506234|       4846950|             172.9|176.70000000000002|180.50000000000003|             179.3|             183.5|             176.8|176.19999999999996|178.19999999999996|             171.0|170.39999999999998|173.90000000000003|169.20000000000005|168.40000000000003|             172.8|      22|\n|     null|     null|   null|      2336239|      2888659|      3573380|      2054386|       780937|       302050|       135888|        79858|        56633|       135192|        7900559|          2121751|         45881|          32923|          12575|        5039762|         3799995|         1189331|        3686415|         2997598|          636999|        712200|         565219|         134596|          17728|      1618996|       5665441|             229.3|230.70000000000002|240.49999999999997|239.29999999999995|240.29999999999998|233.59999999999997|233.69999999999993|232.99999999999997|225.90000000000006|225.60000000000005|227.39999999999998|223.20000000000002|222.29999999999998|226.29999999999993|      29|\n|     null|    Drama|   null|      1923492|      2761237|      4112363|      2492241|       853434|       300100|       124511|        70205|        49642|       112896|        8411228|          1953473|         45330|          34336|          10581|        5037503|         3933979|         1052967|        3935375|         3267553|          612322|        793077|         640763|         138300|          21053|      1629610|       5961167|             275.1|             275.1|287.79999999999995| 287.2999999999999|             286.6|             279.7|             280.1|277.19999999999993|             270.2|270.40000000000003|270.09999999999997|267.90000000000003|             267.1|             271.8|      35|\n|     null|      War|   null|        15911|        17607|        32570|        24461|        10274|         3848|         1387|          726|          342|          755|          59365|            29422|           481|            206|            270|          41094|           24058|           16590|          32014|           23730|            7792|         10218|           7635|           2406|            378|        10845|         52519|               7.4|               7.9|               8.0|               7.6|               8.5|               7.7|               7.6|               8.0|               7.3|               7.2|               7.7|               7.6|               7.5|               8.0|       1|\n|     null|   Family|   null|        68937|        54947|       102488|        80465|        31205|        11792|         4808|         2454|         1617|         4522|         223868|            79506|          1967|           1310|            638|         178871|          126052|           51112|          94328|           73103|           20145|         18077|          14073|           3750|            734|        56139|        180885|               7.5|               8.2|               8.1|               7.9|               8.6|               7.9|               7.7|               8.3|               7.4|               7.3|               8.1|               7.4|               7.3|               8.0|       1|\n|     null|  Fantasy|   null|       270616|       290831|       447307|       291071|       120920|        47215|        19848|        10871|         6885|        14702|         984809|           260582|          5582|           4180|           1364|         626511|          473238|          146973|         452178|          367961|           77589|         89293|          71576|          16182|           2143|       180475|        714609|              23.3|23.799999999999997|              24.1|              24.0|              24.5|              23.8|              23.9|24.099999999999998|              22.9|              22.9|              23.3|              23.0|22.799999999999997|              23.7|       3|\n|     null|  History|   null|        15757|        32840|        83322|        63800|        19183|         5178|         1657|          735|          419|          878|         152707|            23978|           846|            732|            104|          76784|           64810|           11177|          70780|           61525|            8196|         18494|          15504|           2667|            545|        24273|        105678|               7.6|               7.6|               7.9|               7.9|               7.8|               7.7|               7.7|               7.6|               7.5|               7.5|               7.5|               7.7|               7.6|               7.9|       1|\n|     null|  Mystery|   null|        85313|       152619|       233474|       148176|        55575|        20135|         8863|         5034|         3359|         6916|         475036|            87432|          3097|           2443|            618|         253055|          204884|           45336|         225006|          192934|           28581|         47967|          40891|           6137|           1148|        84618|        328300|              15.7|              15.5|              16.6|              16.7|              16.2|              16.1|              16.1|              15.7|15.399999999999999|15.399999999999999|              15.2|              15.2|              15.2|15.100000000000001|       2|\n|     null|  Musical|   null|        54268|        47750|        63323|        45160|        22393|        10744|         5551|         3484|         2490|         5020|         141014|            73591|           972|            502|            456|         112609|           68687|           42720|          69385|           49760|           18632|         18404|          12811|           5282|            623|        42302|        112787|               7.5|               7.9|               7.9|               7.6|               8.4|               7.8|               7.7|               8.0|               7.3|               7.2|               7.6|               7.4|               7.3|               7.7|       1|\n+---------+---------+-------+-------------+-------------+-------------+-------------+-------------+-------------+-------------+-------------+-------------+-------------+---------------+-----------------+--------------+---------------+---------------+---------------+----------------+----------------+---------------+----------------+----------------+--------------+---------------+---------------+---------------+-------------+--------------+------------------+------------------+------------------+------------------+------------------+------------------+------------------+------------------+------------------+------------------+------------------+------------------+------------------+------------------+--------+\nonly showing top 20 rows\n\n"
     ]
    }
   ],
   "source": [
    "# Converting CVotes to int type\n",
    "from pyspark.sql import functions as F\n",
    "\n",
    "# Identify columns that contain 'CVotes' in their name\n",
    "cvote_columns = [col for col in df_add.columns if 'CVotes' in col]\n",
    "\n",
    "# Convert each of the CVotes columns to integer type\n",
    "df_cvotes_int = df_add.select(\n",
    "    *[\n",
    "        (F.col(col).cast('int').alias(col) if col in cvote_columns else F.col(col)) \n",
    "        for col in df_add.columns\n",
    "    ]\n",
    ")\n",
    "\n",
    "# Show the resulting dataframe with CVotes columns as integers\n",
    "df_cvotes_int.show()\n"
   ]
  },
  {
   "cell_type": "markdown",
   "metadata": {
    "application/vnd.databricks.v1+cell": {
     "cellMetadata": {
      "byteLimit": 2048000,
      "rowLimit": 10000
     },
     "inputWidgets": {},
     "nuid": "b6f30525-3493-491b-a47e-cd6cc3631747",
     "showTitle": false,
     "tableResultSettingsMap": {},
     "title": ""
    }
   },
   "source": [
    "If you take a look at the final dataframe that you have gotten, you will see that you now have the complete information about all the demographic (Votes- and CVotes-related) columns across the top 10 genres. We can use this dataset to extract exciting insights about the voters!"
   ]
  },
  {
   "cell_type": "markdown",
   "metadata": {
    "application/vnd.databricks.v1+cell": {
     "cellMetadata": {
      "byteLimit": 2048000,
      "rowLimit": 10000
     },
     "inputWidgets": {},
     "nuid": "756f4f61-251f-4eba-9ab5-deb365578da9",
     "showTitle": false,
     "tableResultSettingsMap": {},
     "title": ""
    }
   },
   "source": [
    "-  ###  Subtask 3.2: Genre Counts!\n",
    "\n",
    "Now let's derive some insights from this data frame. Make a bar chart plotting different genres vs cnt using seaborn."
   ]
  },
  {
   "cell_type": "code",
   "execution_count": 0,
   "metadata": {
    "application/vnd.databricks.v1+cell": {
     "cellMetadata": {
      "byteLimit": 2048000,
      "rowLimit": 10000
     },
     "inputWidgets": {},
     "nuid": "e8617c8e-1021-4aba-a436-8a9396eca563",
     "showTitle": false,
     "tableResultSettingsMap": {},
     "title": ""
    }
   },
   "outputs": [
    {
     "output_type": "display_data",
     "data": {
      "image/png": "[encoded data removed]"
     },
     "metadata": {
      "application/vnd.databricks.v1+output": {
       "addedWidgets": {},
       "arguments": {},
       "data": "data:image/png;base64,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\n",
       "datasetInfos": [],
       "metadata": {},
       "removedWidgets": [],
       "type": "image"
      }
     },
     "output_type": "display_data"
    }
   ],
   "source": [
    "# Countplot for genres\n",
    "import seaborn as sns\n",
    "import matplotlib.pyplot as plt\n",
    "\n",
    "# Assuming df_add contains a 'cnt' column that holds the count of occurrences for each genre\n",
    "# Melt the genres into a single column to make counting easier\n",
    "df_pandas = df_add.toPandas()\n",
    "genres = df_pandas[['genre_1', 'genre_2', 'genre_3']].melt(value_name='Genre')\n",
    "\n",
    "# Remove NaN values for genres (if any)\n",
    "genres = genres.dropna()\n",
    "\n",
    "# Calculate the count of occurrences of each genre\n",
    "genre_counts = genres['Genre'].value_counts().reset_index()\n",
    "genre_counts.columns = ['Genre', 'cnt']\n",
    "\n",
    "# Plot the bar chart\n",
    "plt.figure(figsize=(12, 6))\n",
    "sns.barplot(data=genre_counts, x='Genre', y='cnt', palette='viridis')\n",
    "plt.xticks(rotation=45, ha='right')\n",
    "plt.title('Genre Counts')\n",
    "plt.xlabel('Genre')\n",
    "plt.ylabel('Count')\n",
    "plt.show()\n"
   ]
  },
  {
   "cell_type": "markdown",
   "metadata": {
    "application/vnd.databricks.v1+cell": {
     "cellMetadata": {
      "byteLimit": 2048000,
      "rowLimit": 10000
     },
     "inputWidgets": {},
     "nuid": "9f7e14a5-50aa-4f17-9979-516df475ddcf",
     "showTitle": false,
     "tableResultSettingsMap": {},
     "title": ""
    }
   },
   "source": [
    "**`Checkpoint 5:`** Is the bar for `Drama` the tallest? **Yes**"
   ]
  },
  {
   "cell_type": "code",
   "execution_count": 0,
   "metadata": {
    "application/vnd.databricks.v1+cell": {
     "cellMetadata": {
      "byteLimit": 2048000,
      "rowLimit": 10000
     },
     "inputWidgets": {},
     "nuid": "c4b16e2b-8a72-4ba9-a0ea-d2b1cd7bb66e",
     "showTitle": false,
     "tableResultSettingsMap": {},
     "title": ""
    }
   },
   "outputs": [
    {
     "output_type": "stream",
     "name": "stdout",
     "output_type": "stream",
     "text": [
      "The most popular genre is 'Crime' with 3 movies.\n"
     ]
    }
   ],
   "source": [
    "# find the most popular genre\n",
    "\n",
    "# Find the most popular genre by sorting the counts and picking the first one\n",
    "most_popular_genre = genre_counts.sort_values(by='cnt', ascending=False).iloc[0]\n",
    "\n",
    "# Display the most popular genre\n",
    "print(f\"The most popular genre is '{most_popular_genre['Genre']}' with {most_popular_genre['cnt']} movies.\")\n"
   ]
  },
  {
   "cell_type": "markdown",
   "metadata": {
    "application/vnd.databricks.v1+cell": {
     "cellMetadata": {
      "byteLimit": 2048000,
      "rowLimit": 10000
     },
     "inputWidgets": {},
     "nuid": "cc62df84-f008-484c-9ab6-cd8016494acf",
     "showTitle": false,
     "tableResultSettingsMap": {},
     "title": ""
    }
   },
   "source": [
    "-  ###  Subtask 3.3: Gender and Genre\n",
    "\n",
    "If you have closely looked at the Votes- and CVotes-related columns, you might have noticed the suffixes `F` and `M` indicating Female and Male. Since we have the vote counts for both males and females, across various age groups, let's now see how the popularity of genres vary between the two genders in the dataframe. \n",
    "\n",
    "1. Make the first heatmap to see how the average number of votes of males is varying across the genres. Use seaborn heatmap for this analysis. The X-axis should contain the four age-groups for males, i.e., `CVotesU18M`,`CVotes1829M`, `CVotes3044M`, and `CVotes45AM`. The Y-axis will have the genres and the annotation in the heatmap tell the average number of votes for that age-male group. \n",
    "\n",
    "2. Make the second heatmap to see how the average number of votes of females is varying across the genres. Use seaborn heatmap for this analysis. The X-axis should contain the four age-groups for females, i.e., `CVotesU18F`,`CVotes1829F`, `CVotes3044F`, and `CVotes45AF`. The Y-axis will have the genres and the annotation in the heatmap tell the average number of votes for that age-female group. \n",
    "\n",
    "3. Make sure that you plot these heatmaps side by side using `subplots` so that you can easily compare the two genders and derive insights.\n",
    "\n",
    "4. Write your any three inferences from this plot. You can make use of the previous bar plot also here for better insights.\n",
    "Refer to this link- https://seaborn.pydata.org/generated/seaborn.heatmap.html. You might have to plot something similar to the fifth chart in this page (You have to plot two such heatmaps side by side).\n",
    "\n",
    "5. Repeat subtasks 1 to 4, but now instead of taking the CVotes-related columns, you need to do the same process for the Votes-related columns. These heatmaps will show you how the two genders have rated movies across various genres.\n",
    "\n",
    "You might need the below link for formatting your heatmap.\n",
    "https://stackoverflow.com/questions/56942670/matplotlib-seaborn-first-and-last-row-cut-in-half-of-heatmap-plot\n",
    "\n",
    "-  Note : Use `genre_top10` dataframe for this subtask"
   ]
  },
  {
   "cell_type": "code",
   "execution_count": 0,
   "metadata": {
    "application/vnd.databricks.v1+cell": {
     "cellMetadata": {
      "byteLimit": 2048000,
      "rowLimit": 10000
     },
     "inputWidgets": {},
     "nuid": "64ce479b-e353-4824-9964-29258e944d9b",
     "showTitle": false,
     "tableResultSettingsMap": {},
     "title": ""
    }
   },
   "outputs": [
    {
     "output_type": "stream",
     "name": "stdout",
     "output_type": "stream",
     "text": [
      "+---------+---------+--------+------------------+------------------+------------------+------------------+-----------------+-----------------+-----------------+-----------------+------------------+\n|  genre_1|  genre_2| genre_3|    avg_CVotesU18M|   avg_CVotes1829M|   avg_CVotes3044M|    avg_CVotes45AM|   avg_CVotesU18F|  avg_CVotes1829F|  avg_CVotes3044F|   avg_CVotes45AF|    avg_male_votes|\n+---------+---------+--------+------------------+------------------+------------------+------------------+-----------------+-----------------+-----------------+-----------------+------------------+\n|   Action| Thriller|    null|            4023.0|          425041.0|          299862.0|           46968.0|            672.0|          79826.0|          43434.0|           7741.0|          193973.5|\n|   Action|   Sci-Fi|    null|            3767.0|          343012.0|          247617.0|           44183.0|           1150.0|          85465.0|          43303.0|           9138.0|         159644.75|\n|    Drama|  Western|    null|            2726.0|          332690.0|          253253.0|           47535.0|            501.0|          74006.0|          43774.0|           8962.0|          159051.0|\n|  Mystery| Thriller|    null|            1811.0|          283316.0|          217923.0|           35277.0|            494.0|          78332.0|          42222.0|           7256.0|         134581.75|\n|Biography|   Comedy|   Crime|            2842.0|          286627.0|          189110.0|           32676.0|            757.0|          70874.0|          34712.0|           6629.0|         127813.75|\n|Adventure|    Drama|  Sci-Fi|            3569.5|          250013.0|          184682.0|           36592.5|            871.0|          54672.0|          29207.5|           6373.0|         118714.25|\n|   Action|Adventure|  Sci-Fi|2597.3333333333335|205912.33333333334|167551.88888888888|30499.222222222223|657.8888888888889|46601.11111111111|26333.88888888889|5372.888888888889|101640.19444444445|\n|    Drama|   Sci-Fi|Thriller|            1684.0|          186837.0|          171281.0|           36531.0|            468.0|          43833.0|          29467.0|           6764.0|          99083.25|\n|   Action|Adventure|Thriller|            1443.0|          175769.0|          153888.0|           34070.0|            264.0|          33140.0|          21704.0|           5793.0|           91292.5|\n|Adventure|  Fantasy|    null|            1923.5|          193671.0|          142143.0|           26652.0|            580.0|          50621.5|          25550.5|           5485.5|         91097.375|\n+---------+---------+--------+------------------+------------------+------------------+------------------+-----------------+-----------------+-----------------+-----------------+------------------+\nonly showing top 10 rows\n\n"
     ]
    },
    {
     "output_type": "display_data",
     "data": {
      "image/png": "[encoded data removed]"
     },
     "metadata": {
      "application/vnd.databricks.v1+output": {
       "addedWidgets": {},
       "arguments": {},
       "data": "data:image/png;base64,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\n",
       "datasetInfos": [],
       "metadata": {},
       "removedWidgets": [],
       "type": "image"
      }
     },
     "output_type": "display_data"
    }
   ],
   "source": [
    "# 1st set of heat maps for CVotes-related columns\n",
    "\n",
    "# Import necessary libraries\n",
    "from pyspark.sql import SparkSession\n",
    "from pyspark.sql import functions as F\n",
    "import seaborn as sns\n",
    "import matplotlib.pyplot as plt\n",
    "\n",
    "# Initialize a Spark session\n",
    "spark = SparkSession.builder.appName('MovieAnalysis').getOrCreate()\n",
    "\n",
    "# Load your movie data into a DataFrame (adjust the path to your file)\n",
    "df = spark.read.csv(\"/FileStore/tables/imdb/IMDB_Movies.csv\", header=True, inferSchema=True)\n",
    "\n",
    "# Group by genre and calculate the average vote counts for males and females\n",
    "df_genre_avg = df.groupby('genre_1', 'genre_2', 'genre_3') \\\n",
    "    .agg(\n",
    "        F.avg('CVotesU18M').alias('avg_CVotesU18M'),\n",
    "        F.avg('CVotes1829M').alias('avg_CVotes1829M'),\n",
    "        F.avg('CVotes3044M').alias('avg_CVotes3044M'),\n",
    "        F.avg('CVotes45AM').alias('avg_CVotes45AM'),\n",
    "        F.avg('CVotesU18F').alias('avg_CVotesU18F'),\n",
    "        F.avg('CVotes1829F').alias('avg_CVotes1829F'),\n",
    "        F.avg('CVotes3044F').alias('avg_CVotes3044F'),\n",
    "        F.avg('CVotes45AF').alias('avg_CVotes45AF')\n",
    "    )\n",
    "\n",
    "# Now, create a column with the average male votes (you can also choose other columns for filtering)\n",
    "df_genre_avg = df_genre_avg.withColumn(\n",
    "    'avg_male_votes', \n",
    "    (F.col('avg_CVotesU18M') + F.col('avg_CVotes1829M') + F.col('avg_CVotes3044M') + F.col('avg_CVotes45AM')) / 4\n",
    ")\n",
    "\n",
    "# Sort by the average male votes to get the top 10 genres\n",
    "df_genre_avg_sorted = df_genre_avg.orderBy('avg_male_votes', ascending=False)\n",
    "\n",
    "# Show the top 10 genres\n",
    "df_genre_avg_sorted.show(10)\n",
    "\n",
    "# Convert to Pandas DataFrame for heatmap\n",
    "df_pandas = df_genre_avg_sorted.toPandas()\n",
    "\n",
    "# Plotting heatmaps\n",
    "plt.figure(figsize=(12, 6))\n",
    "\n",
    "# Heatmap for Male Votes\n",
    "plt.subplot(1, 2, 1)\n",
    "sns.heatmap(df_pandas[['genre_1', 'avg_CVotesU18M', 'avg_CVotes1829M', 'avg_CVotes3044M', 'avg_CVotes45AM']].set_index('genre_1').transpose(),\n",
    "            annot=True, cmap=\"YlGnBu\", cbar_kws={'label': 'Avg Male Votes'})\n",
    "\n",
    "# Heatmap for Female Votes\n",
    "plt.subplot(1, 2, 2)\n",
    "sns.heatmap(df_pandas[['genre_1', 'avg_CVotesU18F', 'avg_CVotes1829F', 'avg_CVotes3044F', 'avg_CVotes45AF']].set_index('genre_1').transpose(),\n",
    "            annot=True, cmap=\"YlGnBu\", cbar_kws={'label': 'Avg Female Votes'})\n",
    "\n",
    "plt.tight_layout()\n",
    "plt.show()\n",
    "\n"
   ]
  },
  {
   "cell_type": "markdown",
   "metadata": {
    "application/vnd.databricks.v1+cell": {
     "cellMetadata": {
      "byteLimit": 2048000,
      "rowLimit": 10000
     },
     "inputWidgets": {},
     "nuid": "139dbeaf-7f94-4b34-8b49-0e850d9273b7",
     "showTitle": false,
     "tableResultSettingsMap": {},
     "title": ""
    }
   },
   "source": [
    "**`Inferences:`** A few inferences that can be seen from the heatmap above is that males have voted more than females, and Sci-Fi appears to be most popular among the 18-29 age group irrespective of their gender. What more can you infer from the two heatmaps that you have plotted? Write your three inferences/observations below:\n",
    "- **Inference 1**: Sci-Fi also appears to be the most popular category among males and females of age 30-44 and above 45 as well (also applies for males and females of age under 18)\n",
    "\n",
    "- **Inference 2**: Thriller and action seem to the second and adventure seems to be the third favourtie category among males of age 18-29 (animation seems to be the least favourite) whereas adventure seems to be the second and animation seems to be the thrid favourite category among females of age 18-29 (crime seems to be the least favourite). This implies that males of age 18-29 would rather watch any other genre of movie than animation whereas the females of age 18-29 would rather watch any other genre of movie than crime \n",
    "\n",
    "- **Inference 3**: Males of age under 18 like romantic movies the least whereas thats not the case with females under 18, who like crime movies the least.\n",
    "\n",
    "- **Inference 4**: Crime movies are generally the least favourite among females of all ages except when they turn above 45. They somehow like crime movies more than animated movies which used to be their favourite in their younger days. "
   ]
  },
  {
   "cell_type": "code",
   "execution_count": 0,
   "metadata": {
    "application/vnd.databricks.v1+cell": {
     "cellMetadata": {
      "byteLimit": 2048000,
      "rowLimit": 10000
     },
     "inputWidgets": {},
     "nuid": "480a9fd2-cbce-4018-a141-220ce57806ef",
     "showTitle": false,
     "tableResultSettingsMap": {},
     "title": ""
    }
   },
   "outputs": [
    {
     "output_type": "display_data",
     "data": {
      "image/png": "[encoded data removed]"
     },
     "metadata": {
      "application/vnd.databricks.v1+output": {
       "addedWidgets": {},
       "arguments": {},
       "data": "data:image/png;base64,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\n",
       "datasetInfos": [],
       "metadata": {},
       "removedWidgets": [],
       "type": "image"
      }
     },
     "output_type": "display_data"
    }
   ],
   "source": [
    "# 2nd set of heat maps for Votes-related columns\n",
    "# Import necessary libraries\n",
    "import seaborn as sns\n",
    "import matplotlib.pyplot as plt\n",
    "\n",
    "# Group by genre and calculate the average votes for males and females (Votes-related columns)\n",
    "df_genre_avg_votes = df.groupby('genre_1', 'genre_2', 'genre_3') \\\n",
    "    .agg(\n",
    "        F.avg('VotesU18M').alias('avg_VotesU18M'),\n",
    "        F.avg('Votes1829M').alias('avg_Votes1829M'),\n",
    "        F.avg('Votes3044M').alias('avg_Votes3044M'),\n",
    "        F.avg('Votes45AM').alias('avg_Votes45AM'),\n",
    "        F.avg('VotesU18F').alias('avg_VotesU18F'),\n",
    "        F.avg('Votes1829F').alias('avg_Votes1829F'),\n",
    "        F.avg('Votes3044F').alias('avg_Votes3044F'),\n",
    "        F.avg('Votes45AF').alias('avg_Votes45AF')\n",
    "    )\n",
    "\n",
    "# Create the 'avg_male_votes' column as an average of all male vote categories\n",
    "df_genre_avg_votes = df_genre_avg_votes.withColumn(\n",
    "    'avg_male_votes', \n",
    "    (F.col('avg_VotesU18M') + F.col('avg_Votes1829M') + F.col('avg_Votes3044M') + F.col('avg_Votes45AM')) / 4\n",
    ")\n",
    "\n",
    "# Sort by the average male votes to get the top 10 genres\n",
    "df_genre_avg_votes_sorted = df_genre_avg_votes.orderBy('avg_male_votes', ascending=False)\n",
    "\n",
    "# Convert to Pandas DataFrame for heatmap\n",
    "df_pandas_votes = df_genre_avg_votes_sorted.toPandas()\n",
    "\n",
    "# Plotting heatmaps for Votes-related columns\n",
    "plt.figure(figsize=(12, 6))\n",
    "\n",
    "# Heatmap for Male Votes\n",
    "plt.subplot(1, 2, 1)\n",
    "sns.heatmap(df_pandas_votes[['genre_1', 'avg_VotesU18M', 'avg_Votes1829M', 'avg_Votes3044M', 'avg_Votes45AM']].set_index('genre_1').transpose(),\n",
    "            annot=True, cmap=\"YlGnBu\", cbar_kws={'label': 'Avg Male Votes'})\n",
    "\n",
    "# Heatmap for Female Votes\n",
    "plt.subplot(1, 2, 2)\n",
    "sns.heatmap(df_pandas_votes[['genre_1', 'avg_VotesU18F', 'avg_Votes1829F', 'avg_Votes3044F', 'avg_Votes45AF']].set_index('genre_1').transpose(),\n",
    "            annot=True, cmap=\"YlGnBu\", cbar_kws={'label': 'Avg Female Votes'})\n",
    "\n",
    "plt.tight_layout()\n",
    "plt.show()\n",
    "\n"
   ]
  },
  {
   "cell_type": "markdown",
   "metadata": {
    "application/vnd.databricks.v1+cell": {
     "cellMetadata": {
      "byteLimit": 2048000,
      "rowLimit": 10000
     },
     "inputWidgets": {},
     "nuid": "cf53fbaf-c91d-41d9-b19b-e80d9b991b00",
     "showTitle": false,
     "tableResultSettingsMap": {},
     "title": ""
    }
   },
   "source": [
    "**`Inferences:`** Sci-Fi appears to be the highest rated genre in the age group of U18 for both males and females. Also, females in this age group have rated it a bit higher than the males in the same age group. What more can you infer from the two heatmaps that you have plotted? Write your three inferences/observations below:\n",
    "- **Inference 1**:Sci-Fi appears to be the highest rated genre in males of all age groups whereas for females, after being 18+, the highest rated genre becomes animation for all other age groups.\n",
    "\n",
    "- **Inference 2**: For males, animated movies are the least rated for age group under 18 whereas romantic movies become the least rated for all other age groups. For females, crime movies remain the least rated for all age groups except 45+ where that place is shockingly taken by romantic movies\n",
    "\n",
    "- **Inference 3**:In general, people, irrespective of age and gender like movies more when they are younger and that liking and the tendency to give higher rating decreases over time, thereby decreasing the average rating of age groups if we go from under 18 to 45+"
   ]
  },
  {
   "cell_type": "markdown",
   "metadata": {
    "application/vnd.databricks.v1+cell": {
     "cellMetadata": {
      "byteLimit": 2048000,
      "rowLimit": 10000
     },
     "inputWidgets": {},
     "nuid": "1f0b0f8f-73b0-462e-8931-c7ae82cfd424",
     "showTitle": false,
     "tableResultSettingsMap": {},
     "title": ""
    }
   },
   "source": [
    "-  ###  Subtask 3.4: US vs non-US Cross Analysis\n",
    "\n",
    "The dataset contains both the US and non-US movies. Let's analyse how both the US and the non-US voters have responded to the US and the non-US movies.\n",
    "\n",
    "1. Create a column `IFUS` in the dataframe `movies`. The column `IFUS` should contain the value \"USA\" if the `Country` of the movie is \"USA\". For all other countries other than the USA, `IFUS` should contain the value `non-USA`.\n",
    "\n",
    "\n",
    "2. Now make a boxplot that shows how the number of votes from the US people i.e. `CVotesUS` is varying for the US and non-US movies. Make use of the column `IFUS` to make this plot. Similarly, make another subplot that shows how non US voters have voted for the US and non-US movies by plotting `CVotesnUS` for both the US and non-US movies. Write any of your two inferences/observations from these plots.\n",
    "\n",
    "\n",
    "3. Again do a similar analysis but with the ratings. Make a boxplot that shows how the ratings from the US people i.e. `VotesUS` is varying for the US and non-US movies. Similarly, make another subplot that shows how `VotesnUS` is varying for the US and non-US movies. Write any of your two inferences/observations from these plots.\n",
    "\n",
    "Note : Use `movies` dataframe for this subtask. Make use of this documention to format your boxplot - https://seaborn.pydata.org/generated/seaborn.boxplot.html"
   ]
  },
  {
   "cell_type": "code",
   "execution_count": 0,
   "metadata": {
    "application/vnd.databricks.v1+cell": {
     "cellMetadata": {
      "byteLimit": 2048000,
      "rowLimit": 10000
     },
     "inputWidgets": {},
     "nuid": "2c43f1a2-c14a-4486-bc28-986659e9dd29",
     "showTitle": false,
     "tableResultSettingsMap": {},
     "title": ""
    }
   },
   "outputs": [
    {
     "output_type": "execute_result",
     "data": {
      "text/html": [
       "<div>\n",
       "<style scoped>\n",
       "    .dataframe tbody tr th:only-of-type {\n",
       "        vertical-align: middle;\n",
       "    }\n",
       "\n",
       "    .dataframe tbody tr th {\n",
       "        vertical-align: top;\n",
       "    }\n",
       "\n",
       "    .dataframe thead th {\n",
       "        text-align: right;\n",
       "    }\n",
       "</style>\n",
       "<table border=\"1\" class=\"dataframe\">\n",
       "  <thead>\n",
       "    <tr style=\"text-align: right;\">\n",
       "      <th></th>\n",
       "      <th>Title</th>\n",
       "      <th>title_year</th>\n",
       "      <th>budget</th>\n",
       "      <th>Gross</th>\n",
       "      <th>actor_1_name</th>\n",
       "      <th>actor_2_name</th>\n",
       "      <th>actor_3_name</th>\n",
       "      <th>actor_1_facebook_likes</th>\n",
       "      <th>actor_2_facebook_likes</th>\n",
       "      <th>actor_3_facebook_likes</th>\n",
       "      <th>...</th>\n",
       "      <th>Votes45AF</th>\n",
       "      <th>Votes1000</th>\n",
       "      <th>VotesUS</th>\n",
       "      <th>VotesnUS</th>\n",
       "      <th>content_rating</th>\n",
       "      <th>Country</th>\n",
       "      <th>profit</th>\n",
       "      <th>Avg_rating</th>\n",
       "      <th>facebook_likes_combined</th>\n",
       "      <th>IFUS</th>\n",
       "    </tr>\n",
       "  </thead>\n",
       "  <tbody>\n",
       "    <tr>\n",
       "      <th>0</th>\n",
       "      <td>La La Land</td>\n",
       "      <td>2016</td>\n",
       "      <td>30.0</td>\n",
       "      <td>151.101803</td>\n",
       "      <td>Ryan Gosling</td>\n",
       "      <td>Emma Stone</td>\n",
       "      <td>Amiée Conn</td>\n",
       "      <td>14000</td>\n",
       "      <td>19000.0</td>\n",
       "      <td>0.0</td>\n",
       "      <td>...</td>\n",
       "      <td>7.5</td>\n",
       "      <td>7.1</td>\n",
       "      <td>8.3</td>\n",
       "      <td>8.1</td>\n",
       "      <td>PG-13</td>\n",
       "      <td>USA</td>\n",
       "      <td>121.101803</td>\n",
       "      <td>8.75</td>\n",
       "      <td>33000.0</td>\n",
       "      <td>USA</td>\n",
       "    </tr>\n",
       "    <tr>\n",
       "      <th>1</th>\n",
       "      <td>Zootopia</td>\n",
       "      <td>2016</td>\n",
       "      <td>150.0</td>\n",
       "      <td>341.268248</td>\n",
       "      <td>Ginnifer Goodwin</td>\n",
       "      <td>Jason Bateman</td>\n",
       "      <td>Idris Elba</td>\n",
       "      <td>2800</td>\n",
       "      <td>28000.0</td>\n",
       "      <td>27000.0</td>\n",
       "      <td>...</td>\n",
       "      <td>8.1</td>\n",
       "      <td>7.6</td>\n",
       "      <td>8.0</td>\n",
       "      <td>8.0</td>\n",
       "      <td>PG</td>\n",
       "      <td>USA</td>\n",
       "      <td>191.268248</td>\n",
       "      <td>7.95</td>\n",
       "      <td>57800.0</td>\n",
       "      <td>USA</td>\n",
       "    </tr>\n",
       "    <tr>\n",
       "      <th>2</th>\n",
       "      <td>Lion</td>\n",
       "      <td>2016</td>\n",
       "      <td>12.0</td>\n",
       "      <td>51.738905</td>\n",
       "      <td>Dev Patel</td>\n",
       "      <td>Nicole Kidman</td>\n",
       "      <td>Rooney Mara</td>\n",
       "      <td>33000</td>\n",
       "      <td>96000.0</td>\n",
       "      <td>9800.0</td>\n",
       "      <td>...</td>\n",
       "      <td>8.4</td>\n",
       "      <td>7.1</td>\n",
       "      <td>8.1</td>\n",
       "      <td>8.0</td>\n",
       "      <td>PG-13</td>\n",
       "      <td>Australia</td>\n",
       "      <td>39.738905</td>\n",
       "      <td>7.50</td>\n",
       "      <td>138800.0</td>\n",
       "      <td>non-USA</td>\n",
       "    </tr>\n",
       "    <tr>\n",
       "      <th>3</th>\n",
       "      <td>Arrival</td>\n",
       "      <td>2016</td>\n",
       "      <td>47.0</td>\n",
       "      <td>100.546139</td>\n",
       "      <td>Amy Adams</td>\n",
       "      <td>Jeremy Renner</td>\n",
       "      <td>Forest Whitaker</td>\n",
       "      <td>35000</td>\n",
       "      <td>5300.0</td>\n",
       "      <td>0.0</td>\n",
       "      <td>...</td>\n",
       "      <td>7.7</td>\n",
       "      <td>7.3</td>\n",
       "      <td>8.0</td>\n",
       "      <td>7.9</td>\n",
       "      <td>PG-13</td>\n",
       "      <td>USA</td>\n",
       "      <td>53.546139</td>\n",
       "      <td>8.05</td>\n",
       "      <td>40300.0</td>\n",
       "      <td>USA</td>\n",
       "    </tr>\n",
       "    <tr>\n",
       "      <th>4</th>\n",
       "      <td>Manchester by the Sea</td>\n",
       "      <td>2016</td>\n",
       "      <td>9.0</td>\n",
       "      <td>47.695371</td>\n",
       "      <td>Casey Affleck</td>\n",
       "      <td>Michelle Williams</td>\n",
       "      <td>Kyle Chandler</td>\n",
       "      <td>518</td>\n",
       "      <td>71000.0</td>\n",
       "      <td>3300.0</td>\n",
       "      <td>...</td>\n",
       "      <td>7.6</td>\n",
       "      <td>7.1</td>\n",
       "      <td>7.9</td>\n",
       "      <td>7.8</td>\n",
       "      <td>R</td>\n",
       "      <td>USA</td>\n",
       "      <td>38.695371</td>\n",
       "      <td>8.75</td>\n",
       "      <td>74818.0</td>\n",
       "      <td>USA</td>\n",
       "    </tr>\n",
       "    <tr>\n",
       "      <th>...</th>\n",
       "      <td>...</td>\n",
       "      <td>...</td>\n",
       "      <td>...</td>\n",
       "      <td>...</td>\n",
       "      <td>...</td>\n",
       "      <td>...</td>\n",
       "      <td>...</td>\n",
       "      <td>...</td>\n",
       "      <td>...</td>\n",
       "      <td>...</td>\n",
       "      <td>...</td>\n",
       "      <td>...</td>\n",
       "      <td>...</td>\n",
       "      <td>...</td>\n",
       "      <td>...</td>\n",
       "      <td>...</td>\n",
       "      <td>...</td>\n",
       "      <td>...</td>\n",
       "      <td>...</td>\n",
       "      <td>...</td>\n",
       "      <td>...</td>\n",
       "    </tr>\n",
       "    <tr>\n",
       "      <th>95</th>\n",
       "      <td>Whiplash</td>\n",
       "      <td>2014</td>\n",
       "      <td>3.3</td>\n",
       "      <td>13.092000</td>\n",
       "      <td>J.K. Simmons</td>\n",
       "      <td>Melissa Benoist</td>\n",
       "      <td>Chris Mulkey</td>\n",
       "      <td>24000</td>\n",
       "      <td>970.0</td>\n",
       "      <td>535.0</td>\n",
       "      <td>...</td>\n",
       "      <td>8.2</td>\n",
       "      <td>8.0</td>\n",
       "      <td>8.6</td>\n",
       "      <td>8.4</td>\n",
       "      <td>R</td>\n",
       "      <td>USA</td>\n",
       "      <td>9.792000</td>\n",
       "      <td>8.65</td>\n",
       "      <td>25505.0</td>\n",
       "      <td>USA</td>\n",
       "    </tr>\n",
       "    <tr>\n",
       "      <th>96</th>\n",
       "      <td>Before Midnight</td>\n",
       "      <td>2013</td>\n",
       "      <td>3.0</td>\n",
       "      <td>8.114507</td>\n",
       "      <td>Seamus Davey-Fitzpatrick</td>\n",
       "      <td>Ariane Labed</td>\n",
       "      <td>Athina Rachel Tsangari</td>\n",
       "      <td>140</td>\n",
       "      <td>63.0</td>\n",
       "      <td>48.0</td>\n",
       "      <td>...</td>\n",
       "      <td>7.2</td>\n",
       "      <td>7.0</td>\n",
       "      <td>8.0</td>\n",
       "      <td>7.9</td>\n",
       "      <td>R</td>\n",
       "      <td>USA</td>\n",
       "      <td>5.114507</td>\n",
       "      <td>8.65</td>\n",
       "      <td>251.0</td>\n",
       "      <td>USA</td>\n",
       "    </tr>\n",
       "    <tr>\n",
       "      <th>97</th>\n",
       "      <td>Star Wars: Episode VII - The Force Awakens</td>\n",
       "      <td>2015</td>\n",
       "      <td>245.0</td>\n",
       "      <td>936.662225</td>\n",
       "      <td>Doug Walker</td>\n",
       "      <td>Rob Walker</td>\n",
       "      <td>0</td>\n",
       "      <td>131</td>\n",
       "      <td>12.0</td>\n",
       "      <td>0.0</td>\n",
       "      <td>...</td>\n",
       "      <td>8.2</td>\n",
       "      <td>7.7</td>\n",
       "      <td>8.2</td>\n",
       "      <td>7.9</td>\n",
       "      <td>PG-13</td>\n",
       "      <td>USA</td>\n",
       "      <td>691.662225</td>\n",
       "      <td>8.10</td>\n",
       "      <td>143.0</td>\n",
       "      <td>USA</td>\n",
       "    </tr>\n",
       "    <tr>\n",
       "      <th>98</th>\n",
       "      <td>Harry Potter and the Deathly Hallows: Part I</td>\n",
       "      <td>2010</td>\n",
       "      <td>150.0</td>\n",
       "      <td>296.347721</td>\n",
       "      <td>Rupert Grint</td>\n",
       "      <td>Toby Jones</td>\n",
       "      <td>Alfred Enoch</td>\n",
       "      <td>10000</td>\n",
       "      <td>2000.0</td>\n",
       "      <td>1000.0</td>\n",
       "      <td>...</td>\n",
       "      <td>8.0</td>\n",
       "      <td>6.7</td>\n",
       "      <td>7.9</td>\n",
       "      <td>7.5</td>\n",
       "      <td>PG-13</td>\n",
       "      <td>UK</td>\n",
       "      <td>146.347721</td>\n",
       "      <td>7.10</td>\n",
       "      <td>13000.0</td>\n",
       "      <td>non-USA</td>\n",
       "    </tr>\n",
       "    <tr>\n",
       "      <th>99</th>\n",
       "      <td>Tucker and Dale vs Evil</td>\n",
       "      <td>2010</td>\n",
       "      <td>5.0</td>\n",
       "      <td>0.223838</td>\n",
       "      <td>Katrina Bowden</td>\n",
       "      <td>Tyler Labine</td>\n",
       "      <td>Chelan Simmons</td>\n",
       "      <td>948</td>\n",
       "      <td>779.0</td>\n",
       "      <td>440.0</td>\n",
       "      <td>...</td>\n",
       "      <td>7.7</td>\n",
       "      <td>7.1</td>\n",
       "      <td>7.7</td>\n",
       "      <td>7.5</td>\n",
       "      <td>R</td>\n",
       "      <td>Canada</td>\n",
       "      <td>-4.776162</td>\n",
       "      <td>7.05</td>\n",
       "      <td>2167.0</td>\n",
       "      <td>non-USA</td>\n",
       "    </tr>\n",
       "  </tbody>\n",
       "</table>\n",
       "<p>100 rows × 66 columns</p>\n",
       "</div>"
      ],
      "text/plain": [
       "                                           Title  title_year  budget  \\\n",
       "0                                     La La Land        2016    30.0   \n",
       "1                                       Zootopia        2016   150.0   \n",
       "2                                           Lion        2016    12.0   \n",
       "3                                        Arrival        2016    47.0   \n",
       "4                          Manchester by the Sea        2016     9.0   \n",
       "..                                           ...         ...     ...   \n",
       "95                                      Whiplash        2014     3.3   \n",
       "96                               Before Midnight        2013     3.0   \n",
       "97    Star Wars: Episode VII - The Force Awakens        2015   245.0   \n",
       "98  Harry Potter and the Deathly Hallows: Part I        2010   150.0   \n",
       "99                       Tucker and Dale vs Evil        2010     5.0   \n",
       "\n",
       "         Gross              actor_1_name        actor_2_name  \\\n",
       "0   151.101803              Ryan Gosling          Emma Stone   \n",
       "1   341.268248          Ginnifer Goodwin       Jason Bateman   \n",
       "2    51.738905                 Dev Patel       Nicole Kidman   \n",
       "3   100.546139                 Amy Adams       Jeremy Renner   \n",
       "4    47.695371             Casey Affleck  Michelle Williams    \n",
       "..         ...                       ...                 ...   \n",
       "95   13.092000              J.K. Simmons     Melissa Benoist   \n",
       "96    8.114507  Seamus Davey-Fitzpatrick        Ariane Labed   \n",
       "97  936.662225               Doug Walker          Rob Walker   \n",
       "98  296.347721              Rupert Grint          Toby Jones   \n",
       "99    0.223838            Katrina Bowden        Tyler Labine   \n",
       "\n",
       "              actor_3_name  actor_1_facebook_likes  actor_2_facebook_likes  \\\n",
       "0               Amiée Conn                   14000                 19000.0   \n",
       "1               Idris Elba                    2800                 28000.0   \n",
       "2              Rooney Mara                   33000                 96000.0   \n",
       "3          Forest Whitaker                   35000                  5300.0   \n",
       "4            Kyle Chandler                     518                 71000.0   \n",
       "..                     ...                     ...                     ...   \n",
       "95            Chris Mulkey                   24000                   970.0   \n",
       "96  Athina Rachel Tsangari                     140                    63.0   \n",
       "97                       0                     131                    12.0   \n",
       "98            Alfred Enoch                   10000                  2000.0   \n",
       "99          Chelan Simmons                     948                   779.0   \n",
       "\n",
       "    actor_3_facebook_likes  ...  Votes45AF Votes1000 VotesUS VotesnUS  \\\n",
       "0                      0.0  ...        7.5       7.1     8.3      8.1   \n",
       "1                  27000.0  ...        8.1       7.6     8.0      8.0   \n",
       "2                   9800.0  ...        8.4       7.1     8.1      8.0   \n",
       "3                      0.0  ...        7.7       7.3     8.0      7.9   \n",
       "4                   3300.0  ...        7.6       7.1     7.9      7.8   \n",
       "..                     ...  ...        ...       ...     ...      ...   \n",
       "95                   535.0  ...        8.2       8.0     8.6      8.4   \n",
       "96                    48.0  ...        7.2       7.0     8.0      7.9   \n",
       "97                     0.0  ...        8.2       7.7     8.2      7.9   \n",
       "98                  1000.0  ...        8.0       6.7     7.9      7.5   \n",
       "99                   440.0  ...        7.7       7.1     7.7      7.5   \n",
       "\n",
       "    content_rating    Country      profit  Avg_rating  \\\n",
       "0            PG-13        USA  121.101803        8.75   \n",
       "1               PG        USA  191.268248        7.95   \n",
       "2            PG-13  Australia   39.738905        7.50   \n",
       "3            PG-13        USA   53.546139        8.05   \n",
       "4                R        USA   38.695371        8.75   \n",
       "..             ...        ...         ...         ...   \n",
       "95               R        USA    9.792000        8.65   \n",
       "96               R        USA    5.114507        8.65   \n",
       "97           PG-13        USA  691.662225        8.10   \n",
       "98           PG-13         UK  146.347721        7.10   \n",
       "99               R     Canada   -4.776162        7.05   \n",
       "\n",
       "    facebook_likes_combined     IFUS  \n",
       "0                   33000.0      USA  \n",
       "1                   57800.0      USA  \n",
       "2                  138800.0  non-USA  \n",
       "3                   40300.0      USA  \n",
       "4                   74818.0      USA  \n",
       "..                      ...      ...  \n",
       "95                  25505.0      USA  \n",
       "96                    251.0      USA  \n",
       "97                    143.0      USA  \n",
       "98                  13000.0  non-USA  \n",
       "99                   2167.0  non-USA  \n",
       "\n",
       "[100 rows x 66 columns]"
      ]
     },
     "execution_count": 92,
     "metadata": {},
     "output_type": "execute_result"
    }
   ],
   "source": [
    "# Creating IFUS column\n",
    "#initializing all columns with USA\n",
    "\n",
    "movies[\"IFUS\"] = \"USA\" \n",
    "\n",
    "#changing all values where country != USA\n",
    "movies.loc[movies[\"Country\"] != \"USA\",\"IFUS\"] = \"non-USA\" \n",
    "movies\n"
   ]
  },
  {
   "cell_type": "code",
   "execution_count": 0,
   "metadata": {
    "application/vnd.databricks.v1+cell": {
     "cellMetadata": {
      "byteLimit": 2048000,
      "rowLimit": 10000
     },
     "inputWidgets": {},
     "nuid": "d7049e3e-88f7-4216-a19d-c4e4d02f554f",
     "showTitle": false,
     "tableResultSettingsMap": {},
     "title": ""
    }
   },
   "outputs": [
    {
     "output_type": "display_data",
     "data": {
      "image/png": "[encoded data removed]",
      "text/plain": [
       "<Figure size 1440x576 with 2 Axes>"
      ]
     },
     "metadata": {},
     "output_type": "display_data"
    }
   ],
   "source": [
    "# Box plot - 1: CVotesUS(y) vs IFUS(x)\n",
    "\n",
    "plt.figure(figsize=(20,8))\n",
    "plt.subplot(1,2,1)\n",
    "sns.boxplot(x=movies[\"IFUS\"],y=movies[\"CVotesUS\"])\n",
    "plt.subplot(1,2,2)\n",
    "sns.boxplot(x=movies[\"IFUS\"],y=movies[\"CVotesnUS\"])\n",
    "plt.show()"
   ]
  },
  {
   "cell_type": "markdown",
   "metadata": {
    "application/vnd.databricks.v1+cell": {
     "cellMetadata": {
      "byteLimit": 2048000,
      "rowLimit": 10000
     },
     "inputWidgets": {},
     "nuid": "252969e9-63ff-4e38-9486-b25a4858da61",
     "showTitle": false,
     "tableResultSettingsMap": {},
     "title": ""
    }
   },
   "source": [
    "**`Inferences:`** Write your two inferences/observations below:\n",
    "- Inference 1: From both plots, we can see that non-USA plot's IQR is slightly larger thant USA people plot\n",
    "- Inference 2: From both plots, there seem to be some outliers in USA plot, suggesting that some USA movies got exceptionally high votes from USA and non-USA people"
   ]
  },
  {
   "cell_type": "code",
   "execution_count": 0,
   "metadata": {
    "application/vnd.databricks.v1+cell": {
     "cellMetadata": {
      "byteLimit": 2048000,
      "rowLimit": 10000
     },
     "inputWidgets": {},
     "nuid": "557340eb-3b9e-48ae-b1ef-45b485ecd0de",
     "showTitle": false,
     "tableResultSettingsMap": {},
     "title": ""
    }
   },
   "outputs": [
    {
     "output_type": "display_data",
     "data": {
      "image/png": "[encoded data removed]",
      "text/plain": [
       "<Figure size 1440x576 with 2 Axes>"
      ]
     },
     "metadata": {},
     "output_type": "display_data"
    }
   ],
   "source": [
    "# Box plot - 2: VotesUS(y) vs IFUS(x)\n",
    "\n",
    "plt.figure(figsize=(20,8))\n",
    "plt.subplot(1,2,1)\n",
    "sns.boxplot(x=movies[\"IFUS\"],y=movies[\"VotesUS\"])\n",
    "plt.subplot(1,2,2)\n",
    "sns.boxplot(x=movies[\"IFUS\"],y=movies[\"VotesnUS\"])\n",
    "plt.show()\n"
   ]
  },
  {
   "cell_type": "markdown",
   "metadata": {
    "application/vnd.databricks.v1+cell": {
     "cellMetadata": {
      "byteLimit": 2048000,
      "rowLimit": 10000
     },
     "inputWidgets": {},
     "nuid": "c6001a30-80bb-41b1-8a9a-2214ced198ea",
     "showTitle": false,
     "tableResultSettingsMap": {},
     "title": ""
    }
   },
   "source": [
    "**`Inferences:`** Write your two inferences/observations below:\n",
    "- Inference 1: From both plots, we can see that there are some USA movies that have got exceptionally high rating from USA and non-USA people (outliers in USA plot)\n",
    "- Inference 2: From both plots, USA people have roughly given ratings to non-USA movies in range (7.8-8) and USA movies in range (7.8-8.1) whereas non-USA people have roughly given ratings to non-USA movies in range(7.6-8) and USA movies in range(7.6-7.9). There seems to be trend here that states that USA people will rate USA movies higher and non-USA people will rate non-USA movies higher"
   ]
  },
  {
   "cell_type": "markdown",
   "metadata": {
    "application/vnd.databricks.v1+cell": {
     "cellMetadata": {
      "byteLimit": 2048000,
      "rowLimit": 10000
     },
     "inputWidgets": {},
     "nuid": "3a43b905-06a3-47e3-b214-77fd8a3e3935",
     "showTitle": false,
     "tableResultSettingsMap": {},
     "title": ""
    }
   },
   "source": [
    "-  ###  Subtask 3.5:  Top 1000 Voters Vs Genres\n",
    "\n",
    "You might have also observed the column `CVotes1000`. This column represents the top 1000 voters on IMDb and gives the count for the number of these voters who have voted for a particular movie. Let's see how these top 1000 voters have voted across the genres. \n",
    "\n",
    "1. Sort the dataframe genre_top10 based on the value of `CVotes1000`in a descending order.\n",
    "\n",
    "2. Make a seaborn barplot for `genre` vs `CVotes1000`.\n",
    "\n",
    "3. Write your inferences. You can also try to relate it with the heatmaps you did in the previous subtasks.\n",
    "\n",
    "\n"
   ]
  },
  {
   "cell_type": "code",
   "execution_count": 0,
   "metadata": {
    "application/vnd.databricks.v1+cell": {
     "cellMetadata": {
      "byteLimit": 2048000,
      "rowLimit": 10000
     },
     "inputWidgets": {},
     "nuid": "6e508626-5669-409b-831e-11e731923ec7",
     "showTitle": false,
     "tableResultSettingsMap": {},
     "title": ""
    }
   },
   "outputs": [
    {
     "output_type": "execute_result",
     "data": {
      "text/html": [
       "<div>\n",
       "<style scoped>\n",
       "    .dataframe tbody tr th:only-of-type {\n",
       "        vertical-align: middle;\n",
       "    }\n",
       "\n",
       "    .dataframe tbody tr th {\n",
       "        vertical-align: top;\n",
       "    }\n",
       "\n",
       "    .dataframe thead th {\n",
       "        text-align: right;\n",
       "    }\n",
       "</style>\n",
       "<table border=\"1\" class=\"dataframe\">\n",
       "  <thead>\n",
       "    <tr style=\"text-align: right;\">\n",
       "      <th></th>\n",
       "      <th>CVotes10</th>\n",
       "      <th>CVotes09</th>\n",
       "      <th>CVotes08</th>\n",
       "      <th>CVotes07</th>\n",
       "      <th>CVotes06</th>\n",
       "      <th>CVotes05</th>\n",
       "      <th>CVotes04</th>\n",
       "      <th>CVotes03</th>\n",
       "      <th>CVotes02</th>\n",
       "      <th>CVotes01</th>\n",
       "      <th>...</th>\n",
       "      <th>Votes3044</th>\n",
       "      <th>Votes3044M</th>\n",
       "      <th>Votes3044F</th>\n",
       "      <th>Votes45A</th>\n",
       "      <th>Votes45AM</th>\n",
       "      <th>Votes45AF</th>\n",
       "      <th>Votes1000</th>\n",
       "      <th>VotesUS</th>\n",
       "      <th>VotesnUS</th>\n",
       "      <th>cnt</th>\n",
       "    </tr>\n",
       "  </thead>\n",
       "  <tbody>\n",
       "    <tr>\n",
       "      <th>Drama</th>\n",
       "      <td>52375.0</td>\n",
       "      <td>75928.0</td>\n",
       "      <td>109339.0</td>\n",
       "      <td>66456.0</td>\n",
       "      <td>23528.0</td>\n",
       "      <td>8497.0</td>\n",
       "      <td>3622.0</td>\n",
       "      <td>2078.0</td>\n",
       "      <td>1449.0</td>\n",
       "      <td>3250.0</td>\n",
       "      <td>...</td>\n",
       "      <td>7.71</td>\n",
       "      <td>7.71</td>\n",
       "      <td>7.72</td>\n",
       "      <td>7.64</td>\n",
       "      <td>7.62</td>\n",
       "      <td>7.74</td>\n",
       "      <td>7.22</td>\n",
       "      <td>7.94</td>\n",
       "      <td>7.78</td>\n",
       "      <td>65.0</td>\n",
       "    </tr>\n",
       "    <tr>\n",
       "      <th>Adventure</th>\n",
       "      <td>94596.0</td>\n",
       "      <td>105636.0</td>\n",
       "      <td>138482.0</td>\n",
       "      <td>86367.0</td>\n",
       "      <td>31896.0</td>\n",
       "      <td>11551.0</td>\n",
       "      <td>4817.0</td>\n",
       "      <td>2718.0</td>\n",
       "      <td>1835.0</td>\n",
       "      <td>4575.0</td>\n",
       "      <td>...</td>\n",
       "      <td>7.75</td>\n",
       "      <td>7.73</td>\n",
       "      <td>7.87</td>\n",
       "      <td>7.68</td>\n",
       "      <td>7.64</td>\n",
       "      <td>7.84</td>\n",
       "      <td>7.38</td>\n",
       "      <td>7.99</td>\n",
       "      <td>7.79</td>\n",
       "      <td>38.0</td>\n",
       "    </tr>\n",
       "    <tr>\n",
       "      <th>Action</th>\n",
       "      <td>102144.0</td>\n",
       "      <td>114433.0</td>\n",
       "      <td>150895.0</td>\n",
       "      <td>94262.0</td>\n",
       "      <td>34688.0</td>\n",
       "      <td>12693.0</td>\n",
       "      <td>5386.0</td>\n",
       "      <td>3064.0</td>\n",
       "      <td>2115.0</td>\n",
       "      <td>5524.0</td>\n",
       "      <td>...</td>\n",
       "      <td>7.74</td>\n",
       "      <td>7.73</td>\n",
       "      <td>7.80</td>\n",
       "      <td>7.65</td>\n",
       "      <td>7.63</td>\n",
       "      <td>7.75</td>\n",
       "      <td>7.30</td>\n",
       "      <td>7.99</td>\n",
       "      <td>7.76</td>\n",
       "      <td>31.0</td>\n",
       "    </tr>\n",
       "    <tr>\n",
       "      <th>Comedy</th>\n",
       "      <td>60157.0</td>\n",
       "      <td>77173.0</td>\n",
       "      <td>108993.0</td>\n",
       "      <td>69176.0</td>\n",
       "      <td>26099.0</td>\n",
       "      <td>9863.0</td>\n",
       "      <td>4237.0</td>\n",
       "      <td>2444.0</td>\n",
       "      <td>1712.0</td>\n",
       "      <td>3842.0</td>\n",
       "      <td>...</td>\n",
       "      <td>7.71</td>\n",
       "      <td>7.71</td>\n",
       "      <td>7.75</td>\n",
       "      <td>7.61</td>\n",
       "      <td>7.60</td>\n",
       "      <td>7.70</td>\n",
       "      <td>7.19</td>\n",
       "      <td>7.94</td>\n",
       "      <td>7.78</td>\n",
       "      <td>23.0</td>\n",
       "    </tr>\n",
       "    <tr>\n",
       "      <th>Biography</th>\n",
       "      <td>47333.0</td>\n",
       "      <td>77867.0</td>\n",
       "      <td>123948.0</td>\n",
       "      <td>74054.0</td>\n",
       "      <td>23644.0</td>\n",
       "      <td>7702.0</td>\n",
       "      <td>2984.0</td>\n",
       "      <td>1639.0</td>\n",
       "      <td>1145.0</td>\n",
       "      <td>2849.0</td>\n",
       "      <td>...</td>\n",
       "      <td>7.73</td>\n",
       "      <td>7.72</td>\n",
       "      <td>7.77</td>\n",
       "      <td>7.69</td>\n",
       "      <td>7.66</td>\n",
       "      <td>7.87</td>\n",
       "      <td>7.23</td>\n",
       "      <td>7.93</td>\n",
       "      <td>7.77</td>\n",
       "      <td>18.0</td>\n",
       "    </tr>\n",
       "    <tr>\n",
       "      <th>Sci-Fi</th>\n",
       "      <td>136781.0</td>\n",
       "      <td>148873.0</td>\n",
       "      <td>176646.0</td>\n",
       "      <td>106005.0</td>\n",
       "      <td>39518.0</td>\n",
       "      <td>14951.0</td>\n",
       "      <td>6583.0</td>\n",
       "      <td>3876.0</td>\n",
       "      <td>2715.0</td>\n",
       "      <td>6731.0</td>\n",
       "      <td>...</td>\n",
       "      <td>7.86</td>\n",
       "      <td>7.85</td>\n",
       "      <td>7.84</td>\n",
       "      <td>7.71</td>\n",
       "      <td>7.69</td>\n",
       "      <td>7.74</td>\n",
       "      <td>7.52</td>\n",
       "      <td>8.09</td>\n",
       "      <td>7.88</td>\n",
       "      <td>17.0</td>\n",
       "    </tr>\n",
       "    <tr>\n",
       "      <th>Romance</th>\n",
       "      <td>42304.0</td>\n",
       "      <td>53037.0</td>\n",
       "      <td>82252.0</td>\n",
       "      <td>54833.0</td>\n",
       "      <td>21637.0</td>\n",
       "      <td>8530.0</td>\n",
       "      <td>3762.0</td>\n",
       "      <td>2130.0</td>\n",
       "      <td>1476.0</td>\n",
       "      <td>3082.0</td>\n",
       "      <td>...</td>\n",
       "      <td>7.61</td>\n",
       "      <td>7.61</td>\n",
       "      <td>7.66</td>\n",
       "      <td>7.52</td>\n",
       "      <td>7.50</td>\n",
       "      <td>7.61</td>\n",
       "      <td>6.92</td>\n",
       "      <td>7.83</td>\n",
       "      <td>7.70</td>\n",
       "      <td>13.0</td>\n",
       "    </tr>\n",
       "    <tr>\n",
       "      <th>Thriller</th>\n",
       "      <td>83207.0</td>\n",
       "      <td>112730.0</td>\n",
       "      <td>153336.0</td>\n",
       "      <td>90446.0</td>\n",
       "      <td>32003.0</td>\n",
       "      <td>11534.0</td>\n",
       "      <td>5021.0</td>\n",
       "      <td>2918.0</td>\n",
       "      <td>1982.0</td>\n",
       "      <td>4433.0</td>\n",
       "      <td>...</td>\n",
       "      <td>7.74</td>\n",
       "      <td>7.75</td>\n",
       "      <td>7.70</td>\n",
       "      <td>7.66</td>\n",
       "      <td>7.64</td>\n",
       "      <td>7.75</td>\n",
       "      <td>7.40</td>\n",
       "      <td>7.93</td>\n",
       "      <td>7.81</td>\n",
       "      <td>13.0</td>\n",
       "    </tr>\n",
       "    <tr>\n",
       "      <th>Animation</th>\n",
       "      <td>61960.0</td>\n",
       "      <td>72566.0</td>\n",
       "      <td>104837.0</td>\n",
       "      <td>65707.0</td>\n",
       "      <td>22825.0</td>\n",
       "      <td>7551.0</td>\n",
       "      <td>2792.0</td>\n",
       "      <td>1430.0</td>\n",
       "      <td>911.0</td>\n",
       "      <td>2290.0</td>\n",
       "      <td>...</td>\n",
       "      <td>7.76</td>\n",
       "      <td>7.72</td>\n",
       "      <td>7.98</td>\n",
       "      <td>7.68</td>\n",
       "      <td>7.65</td>\n",
       "      <td>7.88</td>\n",
       "      <td>7.27</td>\n",
       "      <td>7.96</td>\n",
       "      <td>7.83</td>\n",
       "      <td>11.0</td>\n",
       "    </tr>\n",
       "    <tr>\n",
       "      <th>Crime</th>\n",
       "      <td>52229.0</td>\n",
       "      <td>87919.0</td>\n",
       "      <td>129045.0</td>\n",
       "      <td>74671.0</td>\n",
       "      <td>25308.0</td>\n",
       "      <td>8971.0</td>\n",
       "      <td>3842.0</td>\n",
       "      <td>2246.0</td>\n",
       "      <td>1544.0</td>\n",
       "      <td>3383.0</td>\n",
       "      <td>...</td>\n",
       "      <td>7.72</td>\n",
       "      <td>7.76</td>\n",
       "      <td>7.61</td>\n",
       "      <td>7.63</td>\n",
       "      <td>7.62</td>\n",
       "      <td>7.68</td>\n",
       "      <td>7.39</td>\n",
       "      <td>7.98</td>\n",
       "      <td>7.80</td>\n",
       "      <td>11.0</td>\n",
       "    </tr>\n",
       "  </tbody>\n",
       "</table>\n",
       "<p>10 rows × 45 columns</p>\n",
       "</div>"
      ],
      "text/plain": [
       "           CVotes10  CVotes09  CVotes08  CVotes07  CVotes06  CVotes05  \\\n",
       "Drama       52375.0   75928.0  109339.0   66456.0   23528.0    8497.0   \n",
       "Adventure   94596.0  105636.0  138482.0   86367.0   31896.0   11551.0   \n",
       "Action     102144.0  114433.0  150895.0   94262.0   34688.0   12693.0   \n",
       "Comedy      60157.0   77173.0  108993.0   69176.0   26099.0    9863.0   \n",
       "Biography   47333.0   77867.0  123948.0   74054.0   23644.0    7702.0   \n",
       "Sci-Fi     136781.0  148873.0  176646.0  106005.0   39518.0   14951.0   \n",
       "Romance     42304.0   53037.0   82252.0   54833.0   21637.0    8530.0   \n",
       "Thriller    83207.0  112730.0  153336.0   90446.0   32003.0   11534.0   \n",
       "Animation   61960.0   72566.0  104837.0   65707.0   22825.0    7551.0   \n",
       "Crime       52229.0   87919.0  129045.0   74671.0   25308.0    8971.0   \n",
       "\n",
       "           CVotes04  CVotes03  CVotes02  CVotes01  ...  Votes3044  Votes3044M  \\\n",
       "Drama        3622.0    2078.0    1449.0    3250.0  ...       7.71        7.71   \n",
       "Adventure    4817.0    2718.0    1835.0    4575.0  ...       7.75        7.73   \n",
       "Action       5386.0    3064.0    2115.0    5524.0  ...       7.74        7.73   \n",
       "Comedy       4237.0    2444.0    1712.0    3842.0  ...       7.71        7.71   \n",
       "Biography    2984.0    1639.0    1145.0    2849.0  ...       7.73        7.72   \n",
       "Sci-Fi       6583.0    3876.0    2715.0    6731.0  ...       7.86        7.85   \n",
       "Romance      3762.0    2130.0    1476.0    3082.0  ...       7.61        7.61   \n",
       "Thriller     5021.0    2918.0    1982.0    4433.0  ...       7.74        7.75   \n",
       "Animation    2792.0    1430.0     911.0    2290.0  ...       7.76        7.72   \n",
       "Crime        3842.0    2246.0    1544.0    3383.0  ...       7.72        7.76   \n",
       "\n",
       "           Votes3044F  Votes45A  Votes45AM  Votes45AF  Votes1000  VotesUS  \\\n",
       "Drama            7.72      7.64       7.62       7.74       7.22     7.94   \n",
       "Adventure        7.87      7.68       7.64       7.84       7.38     7.99   \n",
       "Action           7.80      7.65       7.63       7.75       7.30     7.99   \n",
       "Comedy           7.75      7.61       7.60       7.70       7.19     7.94   \n",
       "Biography        7.77      7.69       7.66       7.87       7.23     7.93   \n",
       "Sci-Fi           7.84      7.71       7.69       7.74       7.52     8.09   \n",
       "Romance          7.66      7.52       7.50       7.61       6.92     7.83   \n",
       "Thriller         7.70      7.66       7.64       7.75       7.40     7.93   \n",
       "Animation        7.98      7.68       7.65       7.88       7.27     7.96   \n",
       "Crime            7.61      7.63       7.62       7.68       7.39     7.98   \n",
       "\n",
       "           VotesnUS   cnt  \n",
       "Drama          7.78  65.0  \n",
       "Adventure      7.79  38.0  \n",
       "Action         7.76  31.0  \n",
       "Comedy         7.78  23.0  \n",
       "Biography      7.77  18.0  \n",
       "Sci-Fi         7.88  17.0  \n",
       "Romance        7.70  13.0  \n",
       "Thriller       7.81  13.0  \n",
       "Animation      7.83  11.0  \n",
       "Crime          7.80  11.0  \n",
       "\n",
       "[10 rows x 45 columns]"
      ]
     },
     "execution_count": 103,
     "metadata": {},
     "output_type": "execute_result"
    }
   ],
   "source": [
    "genre_top10"
   ]
  },
  {
   "cell_type": "code",
   "execution_count": 0,
   "metadata": {
    "application/vnd.databricks.v1+cell": {
     "cellMetadata": {
      "byteLimit": 2048000,
      "rowLimit": 10000
     },
     "inputWidgets": {},
     "nuid": "88a9849d-baae-45cf-8459-d35e4c9edf4b",
     "showTitle": false,
     "tableResultSettingsMap": {},
     "title": ""
    }
   },
   "outputs": [
    {
     "output_type": "execute_result",
     "data": {
      "text/html": [
       "<div>\n",
       "<style scoped>\n",
       "    .dataframe tbody tr th:only-of-type {\n",
       "        vertical-align: middle;\n",
       "    }\n",
       "\n",
       "    .dataframe tbody tr th {\n",
       "        vertical-align: top;\n",
       "    }\n",
       "\n",
       "    .dataframe thead th {\n",
       "        text-align: right;\n",
       "    }\n",
       "</style>\n",
       "<table border=\"1\" class=\"dataframe\">\n",
       "  <thead>\n",
       "    <tr style=\"text-align: right;\">\n",
       "      <th></th>\n",
       "      <th>CVotes10</th>\n",
       "      <th>CVotes09</th>\n",
       "      <th>CVotes08</th>\n",
       "      <th>CVotes07</th>\n",
       "      <th>CVotes06</th>\n",
       "      <th>CVotes05</th>\n",
       "      <th>CVotes04</th>\n",
       "      <th>CVotes03</th>\n",
       "      <th>CVotes02</th>\n",
       "      <th>CVotes01</th>\n",
       "      <th>...</th>\n",
       "      <th>Votes3044</th>\n",
       "      <th>Votes3044M</th>\n",
       "      <th>Votes3044F</th>\n",
       "      <th>Votes45A</th>\n",
       "      <th>Votes45AM</th>\n",
       "      <th>Votes45AF</th>\n",
       "      <th>Votes1000</th>\n",
       "      <th>VotesUS</th>\n",
       "      <th>VotesnUS</th>\n",
       "      <th>cnt</th>\n",
       "    </tr>\n",
       "  </thead>\n",
       "  <tbody>\n",
       "    <tr>\n",
       "      <th>Sci-Fi</th>\n",
       "      <td>136781.0</td>\n",
       "      <td>148873.0</td>\n",
       "      <td>176646.0</td>\n",
       "      <td>106005.0</td>\n",
       "      <td>39518.0</td>\n",
       "      <td>14951.0</td>\n",
       "      <td>6583.0</td>\n",
       "      <td>3876.0</td>\n",
       "      <td>2715.0</td>\n",
       "      <td>6731.0</td>\n",
       "      <td>...</td>\n",
       "      <td>7.86</td>\n",
       "      <td>7.85</td>\n",
       "      <td>7.84</td>\n",
       "      <td>7.71</td>\n",
       "      <td>7.69</td>\n",
       "      <td>7.74</td>\n",
       "      <td>7.52</td>\n",
       "      <td>8.09</td>\n",
       "      <td>7.88</td>\n",
       "      <td>17.0</td>\n",
       "    </tr>\n",
       "    <tr>\n",
       "      <th>Action</th>\n",
       "      <td>102144.0</td>\n",
       "      <td>114433.0</td>\n",
       "      <td>150895.0</td>\n",
       "      <td>94262.0</td>\n",
       "      <td>34688.0</td>\n",
       "      <td>12693.0</td>\n",
       "      <td>5386.0</td>\n",
       "      <td>3064.0</td>\n",
       "      <td>2115.0</td>\n",
       "      <td>5524.0</td>\n",
       "      <td>...</td>\n",
       "      <td>7.74</td>\n",
       "      <td>7.73</td>\n",
       "      <td>7.80</td>\n",
       "      <td>7.65</td>\n",
       "      <td>7.63</td>\n",
       "      <td>7.75</td>\n",
       "      <td>7.30</td>\n",
       "      <td>7.99</td>\n",
       "      <td>7.76</td>\n",
       "      <td>31.0</td>\n",
       "    </tr>\n",
       "    <tr>\n",
       "      <th>Thriller</th>\n",
       "      <td>83207.0</td>\n",
       "      <td>112730.0</td>\n",
       "      <td>153336.0</td>\n",
       "      <td>90446.0</td>\n",
       "      <td>32003.0</td>\n",
       "      <td>11534.0</td>\n",
       "      <td>5021.0</td>\n",
       "      <td>2918.0</td>\n",
       "      <td>1982.0</td>\n",
       "      <td>4433.0</td>\n",
       "      <td>...</td>\n",
       "      <td>7.74</td>\n",
       "      <td>7.75</td>\n",
       "      <td>7.70</td>\n",
       "      <td>7.66</td>\n",
       "      <td>7.64</td>\n",
       "      <td>7.75</td>\n",
       "      <td>7.40</td>\n",
       "      <td>7.93</td>\n",
       "      <td>7.81</td>\n",
       "      <td>13.0</td>\n",
       "    </tr>\n",
       "    <tr>\n",
       "      <th>Adventure</th>\n",
       "      <td>94596.0</td>\n",
       "      <td>105636.0</td>\n",
       "      <td>138482.0</td>\n",
       "      <td>86367.0</td>\n",
       "      <td>31896.0</td>\n",
       "      <td>11551.0</td>\n",
       "      <td>4817.0</td>\n",
       "      <td>2718.0</td>\n",
       "      <td>1835.0</td>\n",
       "      <td>4575.0</td>\n",
       "      <td>...</td>\n",
       "      <td>7.75</td>\n",
       "      <td>7.73</td>\n",
       "      <td>7.87</td>\n",
       "      <td>7.68</td>\n",
       "      <td>7.64</td>\n",
       "      <td>7.84</td>\n",
       "      <td>7.38</td>\n",
       "      <td>7.99</td>\n",
       "      <td>7.79</td>\n",
       "      <td>38.0</td>\n",
       "    </tr>\n",
       "    <tr>\n",
       "      <th>Crime</th>\n",
       "      <td>52229.0</td>\n",
       "      <td>87919.0</td>\n",
       "      <td>129045.0</td>\n",
       "      <td>74671.0</td>\n",
       "      <td>25308.0</td>\n",
       "      <td>8971.0</td>\n",
       "      <td>3842.0</td>\n",
       "      <td>2246.0</td>\n",
       "      <td>1544.0</td>\n",
       "      <td>3383.0</td>\n",
       "      <td>...</td>\n",
       "      <td>7.72</td>\n",
       "      <td>7.76</td>\n",
       "      <td>7.61</td>\n",
       "      <td>7.63</td>\n",
       "      <td>7.62</td>\n",
       "      <td>7.68</td>\n",
       "      <td>7.39</td>\n",
       "      <td>7.98</td>\n",
       "      <td>7.80</td>\n",
       "      <td>11.0</td>\n",
       "    </tr>\n",
       "    <tr>\n",
       "      <th>Comedy</th>\n",
       "      <td>60157.0</td>\n",
       "      <td>77173.0</td>\n",
       "      <td>108993.0</td>\n",
       "      <td>69176.0</td>\n",
       "      <td>26099.0</td>\n",
       "      <td>9863.0</td>\n",
       "      <td>4237.0</td>\n",
       "      <td>2444.0</td>\n",
       "      <td>1712.0</td>\n",
       "      <td>3842.0</td>\n",
       "      <td>...</td>\n",
       "      <td>7.71</td>\n",
       "      <td>7.71</td>\n",
       "      <td>7.75</td>\n",
       "      <td>7.61</td>\n",
       "      <td>7.60</td>\n",
       "      <td>7.70</td>\n",
       "      <td>7.19</td>\n",
       "      <td>7.94</td>\n",
       "      <td>7.78</td>\n",
       "      <td>23.0</td>\n",
       "    </tr>\n",
       "    <tr>\n",
       "      <th>Biography</th>\n",
       "      <td>47333.0</td>\n",
       "      <td>77867.0</td>\n",
       "      <td>123948.0</td>\n",
       "      <td>74054.0</td>\n",
       "      <td>23644.0</td>\n",
       "      <td>7702.0</td>\n",
       "      <td>2984.0</td>\n",
       "      <td>1639.0</td>\n",
       "      <td>1145.0</td>\n",
       "      <td>2849.0</td>\n",
       "      <td>...</td>\n",
       "      <td>7.73</td>\n",
       "      <td>7.72</td>\n",
       "      <td>7.77</td>\n",
       "      <td>7.69</td>\n",
       "      <td>7.66</td>\n",
       "      <td>7.87</td>\n",
       "      <td>7.23</td>\n",
       "      <td>7.93</td>\n",
       "      <td>7.77</td>\n",
       "      <td>18.0</td>\n",
       "    </tr>\n",
       "    <tr>\n",
       "      <th>Drama</th>\n",
       "      <td>52375.0</td>\n",
       "      <td>75928.0</td>\n",
       "      <td>109339.0</td>\n",
       "      <td>66456.0</td>\n",
       "      <td>23528.0</td>\n",
       "      <td>8497.0</td>\n",
       "      <td>3622.0</td>\n",
       "      <td>2078.0</td>\n",
       "      <td>1449.0</td>\n",
       "      <td>3250.0</td>\n",
       "      <td>...</td>\n",
       "      <td>7.71</td>\n",
       "      <td>7.71</td>\n",
       "      <td>7.72</td>\n",
       "      <td>7.64</td>\n",
       "      <td>7.62</td>\n",
       "      <td>7.74</td>\n",
       "      <td>7.22</td>\n",
       "      <td>7.94</td>\n",
       "      <td>7.78</td>\n",
       "      <td>65.0</td>\n",
       "    </tr>\n",
       "    <tr>\n",
       "      <th>Animation</th>\n",
       "      <td>61960.0</td>\n",
       "      <td>72566.0</td>\n",
       "      <td>104837.0</td>\n",
       "      <td>65707.0</td>\n",
       "      <td>22825.0</td>\n",
       "      <td>7551.0</td>\n",
       "      <td>2792.0</td>\n",
       "      <td>1430.0</td>\n",
       "      <td>911.0</td>\n",
       "      <td>2290.0</td>\n",
       "      <td>...</td>\n",
       "      <td>7.76</td>\n",
       "      <td>7.72</td>\n",
       "      <td>7.98</td>\n",
       "      <td>7.68</td>\n",
       "      <td>7.65</td>\n",
       "      <td>7.88</td>\n",
       "      <td>7.27</td>\n",
       "      <td>7.96</td>\n",
       "      <td>7.83</td>\n",
       "      <td>11.0</td>\n",
       "    </tr>\n",
       "    <tr>\n",
       "      <th>Romance</th>\n",
       "      <td>42304.0</td>\n",
       "      <td>53037.0</td>\n",
       "      <td>82252.0</td>\n",
       "      <td>54833.0</td>\n",
       "      <td>21637.0</td>\n",
       "      <td>8530.0</td>\n",
       "      <td>3762.0</td>\n",
       "      <td>2130.0</td>\n",
       "      <td>1476.0</td>\n",
       "      <td>3082.0</td>\n",
       "      <td>...</td>\n",
       "      <td>7.61</td>\n",
       "      <td>7.61</td>\n",
       "      <td>7.66</td>\n",
       "      <td>7.52</td>\n",
       "      <td>7.50</td>\n",
       "      <td>7.61</td>\n",
       "      <td>6.92</td>\n",
       "      <td>7.83</td>\n",
       "      <td>7.70</td>\n",
       "      <td>13.0</td>\n",
       "    </tr>\n",
       "  </tbody>\n",
       "</table>\n",
       "<p>10 rows × 45 columns</p>\n",
       "</div>"
      ],
      "text/plain": [
       "           CVotes10  CVotes09  CVotes08  CVotes07  CVotes06  CVotes05  \\\n",
       "Sci-Fi     136781.0  148873.0  176646.0  106005.0   39518.0   14951.0   \n",
       "Action     102144.0  114433.0  150895.0   94262.0   34688.0   12693.0   \n",
       "Thriller    83207.0  112730.0  153336.0   90446.0   32003.0   11534.0   \n",
       "Adventure   94596.0  105636.0  138482.0   86367.0   31896.0   11551.0   \n",
       "Crime       52229.0   87919.0  129045.0   74671.0   25308.0    8971.0   \n",
       "Comedy      60157.0   77173.0  108993.0   69176.0   26099.0    9863.0   \n",
       "Biography   47333.0   77867.0  123948.0   74054.0   23644.0    7702.0   \n",
       "Drama       52375.0   75928.0  109339.0   66456.0   23528.0    8497.0   \n",
       "Animation   61960.0   72566.0  104837.0   65707.0   22825.0    7551.0   \n",
       "Romance     42304.0   53037.0   82252.0   54833.0   21637.0    8530.0   \n",
       "\n",
       "           CVotes04  CVotes03  CVotes02  CVotes01  ...  Votes3044  Votes3044M  \\\n",
       "Sci-Fi       6583.0    3876.0    2715.0    6731.0  ...       7.86        7.85   \n",
       "Action       5386.0    3064.0    2115.0    5524.0  ...       7.74        7.73   \n",
       "Thriller     5021.0    2918.0    1982.0    4433.0  ...       7.74        7.75   \n",
       "Adventure    4817.0    2718.0    1835.0    4575.0  ...       7.75        7.73   \n",
       "Crime        3842.0    2246.0    1544.0    3383.0  ...       7.72        7.76   \n",
       "Comedy       4237.0    2444.0    1712.0    3842.0  ...       7.71        7.71   \n",
       "Biography    2984.0    1639.0    1145.0    2849.0  ...       7.73        7.72   \n",
       "Drama        3622.0    2078.0    1449.0    3250.0  ...       7.71        7.71   \n",
       "Animation    2792.0    1430.0     911.0    2290.0  ...       7.76        7.72   \n",
       "Romance      3762.0    2130.0    1476.0    3082.0  ...       7.61        7.61   \n",
       "\n",
       "           Votes3044F  Votes45A  Votes45AM  Votes45AF  Votes1000  VotesUS  \\\n",
       "Sci-Fi           7.84      7.71       7.69       7.74       7.52     8.09   \n",
       "Action           7.80      7.65       7.63       7.75       7.30     7.99   \n",
       "Thriller         7.70      7.66       7.64       7.75       7.40     7.93   \n",
       "Adventure        7.87      7.68       7.64       7.84       7.38     7.99   \n",
       "Crime            7.61      7.63       7.62       7.68       7.39     7.98   \n",
       "Comedy           7.75      7.61       7.60       7.70       7.19     7.94   \n",
       "Biography        7.77      7.69       7.66       7.87       7.23     7.93   \n",
       "Drama            7.72      7.64       7.62       7.74       7.22     7.94   \n",
       "Animation        7.98      7.68       7.65       7.88       7.27     7.96   \n",
       "Romance          7.66      7.52       7.50       7.61       6.92     7.83   \n",
       "\n",
       "           VotesnUS   cnt  \n",
       "Sci-Fi         7.88  17.0  \n",
       "Action         7.76  31.0  \n",
       "Thriller       7.81  13.0  \n",
       "Adventure      7.79  38.0  \n",
       "Crime          7.80  11.0  \n",
       "Comedy         7.78  23.0  \n",
       "Biography      7.77  18.0  \n",
       "Drama          7.78  65.0  \n",
       "Animation      7.83  11.0  \n",
       "Romance        7.70  13.0  \n",
       "\n",
       "[10 rows x 45 columns]"
      ]
     },
     "execution_count": 102,
     "metadata": {},
     "output_type": "execute_result"
    }
   ],
   "source": [
    "# Sorting by CVotes1000\n",
    "genre_top10.sort_values(by='CVotes1000',ascending=False)\n"
   ]
  },
  {
   "cell_type": "code",
   "execution_count": 0,
   "metadata": {
    "application/vnd.databricks.v1+cell": {
     "cellMetadata": {
      "byteLimit": 2048000,
      "rowLimit": 10000
     },
     "inputWidgets": {},
     "nuid": "bd0c6532-b881-479a-8f5d-1f6d87d1603d",
     "showTitle": false,
     "tableResultSettingsMap": {},
     "title": ""
    }
   },
   "outputs": [
    {
     "output_type": "execute_result",
     "data": {
      "text/plain": [
       "<matplotlib.axes._subplots.AxesSubplot at 0x2a3d3647ac0>"
      ]
     },
     "execution_count": 108,
     "metadata": {},
     "output_type": "execute_result"
    },
    {
     "output_type": "display_data",
     "data": {
      "image/png": "[encoded data removed]",
      "text/plain": [
       "<Figure size 720x360 with 1 Axes>"
      ]
     },
     "metadata": {},
     "output_type": "display_data"
    }
   ],
   "source": [
    "# Bar plot\n",
    "\n",
    "plt.figure(figsize=(10,5))\n",
    "sns.barplot(x=genre_top10.index,y=genre_top10[\"CVotes1000\"])"
   ]
  },
  {
   "cell_type": "markdown",
   "metadata": {
    "application/vnd.databricks.v1+cell": {
     "cellMetadata": {
      "byteLimit": 2048000,
      "rowLimit": 10000
     },
     "inputWidgets": {},
     "nuid": "cf2751a3-f92d-49ce-b181-b5a844f9a7dd",
     "showTitle": false,
     "tableResultSettingsMap": {},
     "title": ""
    }
   },
   "source": [
    "**`Inferences:`** Write your inferences/observations here.\n",
    "- 1 Sci-Fi still seems to be the highest voted category here as well, as was the case in case of heatmaps\n",
    "- 2 Same trends seen in the heatmaps are seen here with regards to adventure, action and thriller as them being the next voted genres"
   ]
  },
  {
   "cell_type": "markdown",
   "metadata": {
    "application/vnd.databricks.v1+cell": {
     "cellMetadata": {
      "byteLimit": 2048000,
      "rowLimit": 10000
     },
     "inputWidgets": {},
     "nuid": "9cb5794c-5fd2-4b5b-8114-3936be2748a1",
     "showTitle": false,
     "tableResultSettingsMap": {},
     "title": ""
    }
   },
   "source": [
    "**`Checkpoint 6:`** The genre `Romance` seems to be most unpopular among the top 1000 voters."
   ]
  },
  {
   "cell_type": "markdown",
   "metadata": {
    "application/vnd.databricks.v1+cell": {
     "cellMetadata": {
      "byteLimit": 2048000,
      "rowLimit": 10000
     },
     "inputWidgets": {},
     "nuid": "f1cbe2e9-de43-4f11-8716-adc3018fda07",
     "showTitle": false,
     "tableResultSettingsMap": {},
     "title": ""
    }
   },
   "source": [
    "With the above subtask, your assignment is over. In your free time, do explore the dataset further on your own and see what kind of other insights you can get across various other columns."
   ]
  },
  {
   "cell_type": "markdown",
   "metadata": {
    "application/vnd.databricks.v1+cell": {
     "cellMetadata": {
      "byteLimit": 2048000,
      "rowLimit": 10000
     },
     "inputWidgets": {},
     "nuid": "00c4f8c3-17c6-4ff4-9744-d82e7a3de523",
     "showTitle": false,
     "tableResultSettingsMap": {},
     "title": ""
    }
   },
   "source": [
    "## Now complete following scenarios"
   ]
  },
  {
   "cell_type": "code",
   "execution_count": 0,
   "metadata": {
    "application/vnd.databricks.v1+cell": {
     "cellMetadata": {
      "byteLimit": 2048000,
      "rowLimit": 10000
     },
     "inputWidgets": {},
     "nuid": "98308e49-8392-4cde-b50c-aba3ee4ba16e",
     "showTitle": false,
     "tableResultSettingsMap": {},
     "title": ""
    }
   },
   "outputs": [
    {
     "output_type": "stream",
     "name": "stdout",
     "output_type": "stream",
     "text": [
      "+--------------------+----------+---------+---------+-------------------+-------------------+--------------------+----------------------+----------------------+----------------------+-----------+---------+---------+-------+----------+-------+--------+--------+--------+--------+--------+--------+--------+--------+--------+--------+----------+------------+---------+----------+----------+----------+-----------+-----------+----------+-----------+-----------+---------+----------+----------+----------+--------+---------+------+------+--------+---------+---------+---------+----------+----------+---------+----------+----------+--------+---------+---------+---------+-------+--------+--------------+-------+\n|               Title|title_year|   budget|    Gross|       actor_1_name|       actor_2_name|        actor_3_name|actor_1_facebook_likes|actor_2_facebook_likes|actor_3_facebook_likes|IMDb_rating|  genre_1|  genre_2|genre_3|MetaCritic|Runtime|CVotes10|CVotes09|CVotes08|CVotes07|CVotes06|CVotes05|CVotes04|CVotes03|CVotes02|CVotes01|CVotesMale|CVotesFemale|CVotesU18|CVotesU18M|CVotesU18F|CVotes1829|CVotes1829M|CVotes1829F|CVotes3044|CVotes3044M|CVotes3044F|CVotes45A|CVotes45AM|CVotes45AF|CVotes1000|CVotesUS|CVotesnUS|VotesM|VotesF|VotesU18|VotesU18M|VotesU18F|Votes1829|Votes1829M|Votes1829F|Votes3044|Votes3044M|Votes3044F|Votes45A|Votes45AM|Votes45AF|Votes1000|VotesUS|VotesnUS|content_rating|Country|\n+--------------------+----------+---------+---------+-------------------+-------------------+--------------------+----------------------+----------------------+----------------------+-----------+---------+---------+-------+----------+-------+--------+--------+--------+--------+--------+--------+--------+--------+--------+--------+----------+------------+---------+----------+----------+----------+-----------+-----------+----------+-----------+-----------+---------+----------+----------+----------+--------+---------+------+------+--------+---------+---------+---------+----------+----------+---------+----------+----------+--------+---------+---------+---------+-------+--------+--------------+-------+\n|           Inception|      2010|160000000|292568851|  Leonardo DiCaprio|          Tom Hardy|Joseph Gordon-Levitt|                 29000|                 27000|                 23000|        8.8|   Action|Adventure| Sci-Fi|        74|    148|  584839|  485218|  304457|  130972|   46393|   20595|   10050|    6631|    5243|   15365|   1044318|      239796|     5678|      4462|      1184|    655187|     512411|     136770|    472680|     392845|      73555|    79634|     65508|     12795|       885|  212524|   707266|   8.8|   8.7|     9.1|      9.1|      9.0|      9.0|       9.0|       8.8|      8.7|       8.7|       8.5|     8.1|      8.1|      8.0|      8.2|    8.7|     8.8|         PG-13|    USA|\n|        Interstellar|      2014|165000000|187991439|Matthew McConaughey|      Anne Hathaway|       Mackenzie Foy|                 11000|                 11000|                  6000|        8.6|Adventure|    Drama| Sci-Fi|        74|    169|  394006|  291172|  199884|  103323|   40514|   17423|    8657|    5592|    4113|   10530|    682280|      128771|     5735|      4596|      1104|    414718|     338261|      72554|    273267|     232939|      36187|    52157|     43831|      7337|       730|   99615|   415283|   8.6|   8.4|     8.9|      8.9|      8.8|      8.8|       8.9|       8.6|      8.4|       8.4|       8.2|     7.9|      7.9|      7.7|      7.9|    8.4|     8.5|         PG-13|    USA|\n|            Whiplash|      2014|  3300000| 13092000|       J.K. Simmons|    Melissa Benoist|        Chris Mulkey|                 24000|                   970|                   535|        8.5|    Drama|    Music|   null|        88|    107|  110404|  161864|  132656|   56007|   16577|    6031|    2937|    1859|    1263|    2723|    308900|       71066|     2878|      2200|       660|    205839|     161853|      41944|    123712|     102839|      19018|    23345|     19072|      3812|       590|   49868|   213952|   8.5|   8.4|     9.0|      9.1|      8.9|      8.6|       8.7|       8.5|      8.3|       8.3|       8.2|     8.1|      8.1|      8.2|      8.0|    8.6|     8.4|             R|    USA|\n|The Dark Knight R...|      2012|250000000|448130642|          Tom Hardy|     Christian Bale|Joseph Gordon-Levitt|                 27000|                 23000|                 23000|        8.4|   Action| Thriller|   null|        78|    164|  380589|  341965|  281426|  134959|   50406|   20106|    9589|    5713|    4073|   11988|    842343|      143070|     4726|      4023|       672|    509635|     425041|      79826|    348324|     299862|      43434|    55689|     46968|      7741|       840|  160533|   501687|   8.5|   8.4|     8.6|      8.5|      8.6|      8.7|       8.7|       8.6|      8.3|       8.3|       8.2|     7.9|      7.9|      7.9|      7.8|    8.4|     8.4|         PG-13|    USA|\n|    Django Unchained|      2012|100000000|162804648|  Leonardo DiCaprio|    Christoph Waltz|        Ato Essandoh|                 29000|                 11000|                   265|        8.4|    Drama|  Western|   null|        81|    165|  234824|  339329|  286911|  121445|   38251|   14227|    6469|    4149|    3181|    8065|    695211|      139226|     3250|      2726|       501|    410538|     332690|      74006|    301231|     253253|      43774|    57463|     47535|      8962|       816|  123423|   448126|   8.4|   8.4|     8.8|      8.9|      8.5|      8.6|       8.6|       8.5|      8.3|       8.3|       8.3|     8.0|      8.0|      8.1|      7.8|    8.4|     8.4|             R|    USA|\n|         Toy Story 3|      2010|200000000|414984497|          Tom Hanks|  John Ratzenberger|         Don Rickles|                 15000|                  1000|                   721|        8.3|Animation|Adventure| Comedy|        92|    103|  139773|  149992|  158704|   88289|   31291|   11850|    4859|    2932|    2119|    6586|    389014|       98386|     3202|      2405|       776|    260519|     199962|      58366|    169886|     140253|      27658|    32457|     26171|      5806|       769|  105490|   267692|   8.3|   8.3|     8.2|      8.3|      8.0|      8.4|       8.5|       8.4|      8.2|       8.2|       8.3|     8.1|      8.1|      8.1|      8.1|    8.5|     8.3|             G|    USA|\n|          La La Land|      2016| 30000000|151101803|       Ryan Gosling|         Emma Stone|          Amiée Conn|                 14000|                 19000|                  null|        8.2|   Comedy|    Drama|  Music|        93|    128|   74245|   71191|   64640|   38831|   17377|    8044|    3998|    2839|    2407|    6802|    157693|       56713|     2675|      1784|       868|    113008|      78998|      32730|     66058|      50835|      14165|    15765|     12148|      3302|       454|   33360|   117987|   8.2|   8.1|     8.9|      9.0|      8.7|      8.4|       8.4|       8.2|      7.9|       7.9|       7.8|     7.6|      7.6|      7.5|      7.1|    8.3|     8.1|         PG-13|    USA|\n|          Inside Out|      2015|175000000|356454367|        Amy Poehler|       Mindy Kaling|       Phyllis Smith|                  1000|                   767|                   384|        8.2|Animation|Adventure| Comedy|        94|     95|   87509|  113244|  119801|   67153|   24210|    8542|    3349|    1872|    1123|    3450|    244433|       79081|     3361|      2294|      1040|    170056|     121574|      46685|    108560|      86312|      20516|    18694|     14910|      3416|       587|   48297|   176446|   8.2|   8.2|     8.4|      8.4|      8.3|      8.3|       8.3|       8.3|      8.1|       8.1|       8.1|     7.9|      7.9|      7.9|      7.6|    8.2|     8.1|            PG|    USA|\n|The Wolf of Wall ...|      2013|100000000|116866727|  Leonardo DiCaprio|Matthew McConaughey|         Jon Favreau|                 29000|                 11000|                  4000|        8.2|Biography|   Comedy|  Crime|        75|    180|  171660|  236650|  250667|  129164|   46715|   18682|    8674|    5854|    4258|    9689|    559564|      123698|     3622|      2842|       757|    360841|     286627|      70874|    227096|     189110|      34712|    39996|     32676|      6629|       730|   89006|   366829|   8.2|   7.8|     8.6|      8.7|      8.0|      8.4|       8.5|       7.9|      8.0|       8.1|       7.7|     7.6|      7.6|      7.5|      7.8|    8.1|     8.1|             R|    USA|\n|             Warrior|      2011| 25000000| 13651662|          Tom Hardy|       Frank Grillo|          Kevin Dunn|                 27000|                   798|                   581|        8.2|   Action|    Drama|  Sport|        71|    140|   74983|   96953|  106673|   52972|   16668|    5727|    2353|    1205|    1050|    2479|    270734|       31075|      673|       583|        84|    153824|     136536|      16000|    117636|     105144|      11019|    15201|     12960|      1990|       586|   45342|   176397|   8.2|   8.2|     8.5|      8.5|      8.7|      8.4|       8.4|       8.4|      8.0|       8.0|       8.0|     7.7|      7.7|      7.5|      7.1|    8.2|     8.1|         PG-13|    USA|\n+--------------------+----------+---------+---------+-------------------+-------------------+--------------------+----------------------+----------------------+----------------------+-----------+---------+---------+-------+----------+-------+--------+--------+--------+--------+--------+--------+--------+--------+--------+--------+----------+------------+---------+----------+----------+----------+-----------+-----------+----------+-----------+-----------+---------+----------+----------+----------+--------+---------+------+------+--------+---------+---------+---------+----------+----------+---------+----------+----------+--------+---------+---------+---------+-------+--------+--------------+-------+\n\n"
     ]
    }
   ],
   "source": [
    "# Scenario 1: Top 10 movies by IMDb rating\n",
    "\n",
    "# Assuming df is the DataFrame containing the movie data\n",
    "# Sort the DataFrame by IMDb rating in descending order and select the top 10 movies\n",
    "top_10_movies_imdb = df.orderBy('IMDb_rating', ascending=False).limit(10)\n",
    "\n",
    "# Display the top 10 movies\n",
    "top_10_movies_imdb.show()\n",
    "\n"
   ]
  },
  {
   "cell_type": "code",
   "execution_count": 0,
   "metadata": {
    "application/vnd.databricks.v1+cell": {
     "cellMetadata": {
      "byteLimit": 2048000,
      "rowLimit": 10000
     },
     "inputWidgets": {},
     "nuid": "96865f21-557d-40c9-a1eb-3cdc2b4dd818",
     "showTitle": false,
     "tableResultSettingsMap": {},
     "title": ""
    }
   },
   "outputs": [
    {
     "output_type": "stream",
     "name": "stdout",
     "output_type": "stream",
     "text": [
      "+--------------------+----------+---------+---------+--------------------+-------------------+--------------------+----------------------+----------------------+----------------------+-----------+---------+---------+--------+----------+-------+--------+--------+--------+--------+--------+--------+--------+--------+--------+--------+----------+------------+---------+----------+----------+----------+-----------+-----------+----------+-----------+-----------+---------+----------+----------+----------+--------+---------+------+------+--------+---------+---------+---------+----------+----------+---------+----------+----------+--------+---------+---------+---------+-------+--------+--------------+---------+\n|               Title|title_year|   budget|    Gross|        actor_1_name|       actor_2_name|        actor_3_name|actor_1_facebook_likes|actor_2_facebook_likes|actor_3_facebook_likes|IMDb_rating|  genre_1|  genre_2| genre_3|MetaCritic|Runtime|CVotes10|CVotes09|CVotes08|CVotes07|CVotes06|CVotes05|CVotes04|CVotes03|CVotes02|CVotes01|CVotesMale|CVotesFemale|CVotesU18|CVotesU18M|CVotesU18F|CVotes1829|CVotes1829M|CVotes1829F|CVotes3044|CVotes3044M|CVotes3044F|CVotes45A|CVotes45AM|CVotes45AF|CVotes1000|CVotesUS|CVotesnUS|VotesM|VotesF|VotesU18|VotesU18M|VotesU18F|Votes1829|Votes1829M|Votes1829F|Votes3044|Votes3044M|Votes3044F|Votes45A|Votes45AM|Votes45AF|Votes1000|VotesUS|VotesnUS|content_rating|  Country|\n+--------------------+----------+---------+---------+--------------------+-------------------+--------------------+----------------------+----------------------+----------------------+-----------+---------+---------+--------+----------+-------+--------+--------+--------+--------+--------+--------+--------+--------+--------+--------+----------+------------+---------+----------+----------+----------+-----------+-----------+----------+-----------+-----------+---------+----------+----------+----------+--------+---------+------+------+--------+---------+---------+---------+----------+----------+---------+----------+----------+--------+---------+---------+---------+-------+--------+--------------+---------+\n|          La La Land|      2016| 30000000|151101803|        Ryan Gosling|         Emma Stone|          Amiée Conn|                 14000|                 19000|                  null|        8.2|   Comedy|    Drama|   Music|        93|    128|   74245|   71191|   64640|   38831|   17377|    8044|    3998|    2839|    2407|    6802|    157693|       56713|     2675|      1784|       868|    113008|      78998|      32730|     66058|      50835|      14165|    15765|     12148|      3302|       454|   33360|   117987|   8.2|   8.1|     8.9|      9.0|      8.7|      8.4|       8.4|       8.2|      7.9|       7.9|       7.8|     7.6|      7.6|      7.5|      7.1|    8.3|     8.1|         PG-13|      USA|\n|            Zootopia|      2016|150000000|341268248|    Ginnifer Goodwin|      Jason Bateman|          Idris Elba|                  2800|                 28000|                 27000|        8.1|Animation|Adventure|  Comedy|        78|    108|   53626|   70912|  102352|   57261|   16719|    4539|    1467|     733|     496|    1386|    176202|       52345|     2362|      1641|       706|    119637|      87499|      30813|     75474|      61358|      13034|    12353|      9959|      2151|       518|   35975|   122844|   8.0|   8.3|     8.4|      8.3|      8.7|      8.2|       8.1|       8.4|      7.8|       7.8|       8.1|     7.8|      7.8|      8.1|      7.6|    8.0|     8.0|            PG|      USA|\n|                Lion|      2016| 12000000| 51738905|           Dev Patel|      Nicole Kidman|         Rooney Mara|                 33000|                 96000|                  9800|        8.1|Biography|    Drama|    null|        69|    118|   23325|   29830|   40564|   20296|    5842|    1669|     558|     309|     182|     493|     68921|       24977|      702|       477|       220|     42962|      29729|      12780|     34297|      26384|       7413|     9054|      6714|      2184|       298|   13478|    53931|   8.0|   8.4|     8.3|      8.2|      8.7|      8.1|       8.0|       8.4|      8.0|       7.9|       8.2|     8.0|      7.9|      8.4|      7.1|    8.1|     8.0|         PG-13|Australia|\n|The Dark Knight R...|      2012|250000000|448130642|           Tom Hardy|     Christian Bale|Joseph Gordon-Levitt|                 27000|                 23000|                 23000|        8.4|   Action| Thriller|    null|        78|    164|  380589|  341965|  281426|  134959|   50406|   20106|    9589|    5713|    4073|   11988|    842343|      143070|     4726|      4023|       672|    509635|     425041|      79826|    348324|     299862|      43434|    55689|     46968|      7741|       840|  160533|   501687|   8.5|   8.4|     8.6|      8.5|      8.6|      8.7|       8.7|       8.6|      8.3|       8.3|       8.2|     7.9|      7.9|      7.9|      7.8|    8.4|     8.4|         PG-13|      USA|\n|        The Avengers|      2012|220000000|623279547|     Chris Hemsworth|  Robert Downey Jr.|  Scarlett Johansson|                 26000|                 21000|                 19000|        8.1|   Action|   Sci-Fi|    null|        69|    143|  260257|  234203|  264290|  162604|   67579|   27957|   12176|    7201|    4996|   15528|    691783|      151617|     4953|      3767|      1150|    432999|     343012|      85465|    295318|     247617|      43303|    54282|     44183|      9138|       842|  145826|   423958|   8.0|   8.2|     8.2|      8.2|      8.5|      8.1|       8.1|       8.3|      8.0|       8.0|       8.1|     7.9|      7.9|      8.1|      7.4|    8.3|     7.9|         PG-13|      USA|\n|          Inside Out|      2015|175000000|356454367|         Amy Poehler|       Mindy Kaling|       Phyllis Smith|                  1000|                   767|                   384|        8.2|Animation|Adventure|  Comedy|        94|     95|   87509|  113244|  119801|   67153|   24210|    8542|    3349|    1872|    1123|    3450|    244433|       79081|     3361|      2294|      1040|    170056|     121574|      46685|    108560|      86312|      20516|    18694|     14910|      3416|       587|   48297|   176446|   8.2|   8.2|     8.4|      8.4|      8.3|      8.3|       8.3|       8.3|      8.1|       8.1|       8.1|     7.9|      7.9|      7.9|      7.6|    8.2|     8.1|            PG|      USA|\n|Guardians of the ...|      2014|170000000|333130696|      Bradley Cooper|         Vin Diesel|      Djimon Hounsou|                 14000|                 14000|                  3000|        8.1|   Action|Adventure|  Sci-Fi|        76|    121|  156606|  185326|  216876|  127878|   49009|   18501|    8326|    4772|    3243|    7714|    491689|      101957|     5154|      3949|      1170|    288707|     231018|      54884|    207895|     176032|      28924|    42006|     34512|      6802|       774|   97905|   296439|   8.0|   8.1|     8.4|      8.4|      8.5|      8.1|       8.1|       8.1|      7.9|       7.9|       8.0|     7.9|      7.9|      8.0|      7.6|    8.3|     7.9|         PG-13|      USA|\n|        Interstellar|      2014|165000000|187991439| Matthew McConaughey|      Anne Hathaway|       Mackenzie Foy|                 11000|                 11000|                  6000|        8.6|Adventure|    Drama|  Sci-Fi|        74|    169|  394006|  291172|  199884|  103323|   40514|   17423|    8657|    5592|    4113|   10530|    682280|      128771|     5735|      4596|      1104|    414718|     338261|      72554|    273267|     232939|      36187|    52157|     43831|      7337|       730|   99615|   415283|   8.6|   8.4|     8.9|      8.9|      8.8|      8.8|       8.9|       8.6|      8.4|       8.4|       8.2|     7.9|      7.9|      7.7|      7.9|    8.4|     8.5|         PG-13|      USA|\n|  Mad Max: Fury Road|      2015|150000000|153629485|           Tom Hardy|    Charlize Theron|        ZoÃ« Kravitz|                 27000|                  9000|                   943|        8.1|   Action|Adventure|  Sci-Fi|        90|    120|  136194|  158403|  163494|   97218|   42636|   19505|    9932|    6743|    4930|   10516|    424435|       69670|     3159|      2682|       456|    238202|     198026|      37751|    183637|     159520|      21373|    34848|     29980|      4209|       726|   73080|   267084|   8.1|   7.9|     8.5|      8.6|      8.4|      8.3|       8.3|       8.1|      8.0|       8.0|       7.8|     7.5|      7.5|      7.2|      8.0|    8.2|     8.0|             R|Australia|\n|    Django Unchained|      2012|100000000|162804648|   Leonardo DiCaprio|    Christoph Waltz|        Ato Essandoh|                 29000|                 11000|                   265|        8.4|    Drama|  Western|    null|        81|    165|  234824|  339329|  286911|  121445|   38251|   14227|    6469|    4149|    3181|    8065|    695211|      139226|     3250|      2726|       501|    410538|     332690|      74006|    301231|     253253|      43774|    57463|     47535|      8962|       816|  123423|   448126|   8.4|   8.4|     8.8|      8.9|      8.5|      8.6|       8.6|       8.5|      8.3|       8.3|       8.3|     8.0|      8.0|      8.1|      7.8|    8.4|     8.4|             R|      USA|\n|The Wolf of Wall ...|      2013|100000000|116866727|   Leonardo DiCaprio|Matthew McConaughey|         Jon Favreau|                 29000|                 11000|                  4000|        8.2|Biography|   Comedy|   Crime|        75|    180|  171660|  236650|  250667|  129164|   46715|   18682|    8674|    5854|    4258|    9689|    559564|      123698|     3622|      2842|       757|    360841|     286627|      70874|    227096|     189110|      34712|    39996|     32676|      6629|       730|   89006|   366829|   8.2|   7.8|     8.6|      8.7|      8.0|      8.4|       8.5|       7.9|      8.0|       8.1|       7.7|     7.6|      7.6|      7.5|      7.8|    8.1|     8.1|             R|      USA|\n|           Gone Girl|      2014| 61000000|167735396|       Patrick Fugit|          Sela Ward|   Emily Ratajkowski|                   835|                   812|                   625|        8.1|    Crime|    Drama| Mystery|        79|    149|   89539|  177373|  218018|  103600|   32989|   11691|    5285|    3262|    2247|    5500|    397571|      113606|     2286|      1598|       665|    260425|     193602|      64291|    179552|     144771|      32133|    34696|     27226|      6840|       689|   70667|   280587|   8.1|   8.1|     8.5|      8.6|      8.4|      8.3|       8.3|       8.2|      7.9|       8.0|       7.9|     7.7|      7.7|      7.7|      7.6|    8.1|     8.1|             R|      USA|\n|           Prisoners|      2013| 46000000| 60962878|        Hugh Jackman|    Jake Gyllenhaal|      Dylan Minnette|                 20000|                 15000|                  1000|        8.1|    Crime|    Drama| Mystery|        74|    153|   57400|  110853|  161533|   77122|   20845|    6515|    2540|    1376|     897|    1978|    297561|       59221|     1332|      1075|       248|    177661|     144671|      31288|    132740|     111870|      19074|    23642|     19293|      3934|       650|   48353|   208355|   8.1|   8.0|     8.6|      8.6|      8.7|      8.2|       8.2|       8.1|      7.9|       7.9|       7.9|     7.7|      7.7|      7.8|      7.6|    8.1|     8.0|             R|      USA|\n|                Rush|      2013| 38000000| 26903709|     Chris Hemsworth|       Olivia Wilde|Alexandra Maria Lara|                 26000|                 10000|                   471|        8.1|   Action|Biography|   Drama|        75|    123|   53667|   90907|  119603|   57343|   14948|    4436|    1625|     803|     633|    1532|    246354|       35289|      888|       769|       115|    138327|     119048|      17987|    105712|      92487|      11717|    20105|     17096|      2660|       593|   30738|   168519|   8.1|   8.0|     8.3|      8.3|      8.0|      8.3|       8.3|       8.2|      8.0|       8.0|       7.9|     7.8|      7.8|      7.8|      7.1|    7.9|     8.1|             R|       UK|\n|            The Help|      2011| 25000000|169705587|          Emma Stone|Bryce Dallas Howard|          Mike Vogel|                 15000|                  3000|                  2000|        8.1|    Drama|     null|    null|        62|    146|   60811|   82560|  115917|   57034|   17268|    6011|    2456|    1326|     974|    2948|    173908|      115762|      990|       507|       474|    136852|      72944|      62426|    110695|      72802|      36317|    28383|     18891|      9023|       645|   59445|   157474|   7.9|   8.4|     8.3|      8.1|      8.6|      8.2|       8.0|       8.5|      7.9|       7.8|       8.3|     8.0|      7.9|      8.3|      7.0|    8.0|     8.0|         PG-13|      USA|\n|The Grand Budapes...|      2014| 25000000| 59073773|         Bill Murray|      Tom Wilkinson|   F. Murray Abraham|                 13000|                  1000|                   670|        8.1|Adventure|   Comedy|   Drama|        88|     99|   84258|  142011|  168705|   88086|   31632|   12023|    5455|    3196|    2204|    3971|    332149|       96997|     2083|      1537|       530|    216106|     158823|      54913|    153604|     123255|      27996|    33156|     26147|      6375|       679|   58814|   248067|   8.1|   8.2|     8.6|      8.6|      8.5|      8.2|       8.2|       8.3|      7.9|       7.9|       8.0|     7.8|      7.8|      7.9|      7.7|    8.1|     8.0|             R|      USA|\n|             Warrior|      2011| 25000000| 13651662|           Tom Hardy|       Frank Grillo|          Kevin Dunn|                 27000|                   798|                   581|        8.2|   Action|    Drama|   Sport|        71|    140|   74983|   96953|  106673|   52972|   16668|    5727|    2353|    1205|    1050|    2479|    270734|       31075|      673|       583|        84|    153824|     136536|      16000|    117636|     105144|      11019|    15201|     12960|      1990|       586|   45342|   176397|   8.2|   8.2|     8.5|      8.5|      8.7|      8.4|       8.4|       8.4|      8.0|       8.0|       8.0|     7.7|      7.7|      7.5|      7.1|    8.2|     8.1|         PG-13|      USA|\n|    12 Years a Slave|      2013| 20000000| 56667870|  QuvenzhanÃ© Wallis|      Scoot McNairy|        Taran Killam|                  2000|                   660|                   500|        8.1|Biography|    Drama| History|        96|    134|   75556|  126223|  161460|   83070|   27231|    9603|    4021|    2420|    1785|    4739|    313823|       82012|     1837|      1363|       457|    200910|     153669|      45301|    138762|     112943|      23895|    29252|     23072|      5726|       664|   53328|   224519|   8.1|   8.1|     8.4|      8.4|      8.5|      8.2|       8.2|       8.2|      8.0|       7.9|       8.0|     7.8|      7.8|      8.1|      7.7|    8.3|     8.0|             R|      USA|\n|           Spotlight|      2015| 20000000| 44988180|        Billy Crudup|     Jamey Sheridan|  Brian d'Arcy James|                   745|                   168|                    77|        8.1|    Crime|    Drama| History|        93|    128|   35421|   72285|  100793|   49236|   13488|    4034|    1365|     698|     517|    1388|    173290|       43313|     1197|       961|       223|    104770|      81050|      22603|     79398|      64865|      13310|    17981|     14134|      3485|       568|   33235|   125291|   8.1|   8.1|     8.3|      8.3|      8.4|      8.2|       8.2|       8.2|      8.0|       8.0|       8.0|     8.1|      8.0|      8.4|      7.5|    8.3|     8.0|             R|      USA|\n|  The Imitation Game|      2014| 14000000| 91121452|Benedict Cumberbatch|       Rory Kinnear|         Allen Leech|                 19000|                   393|                   305|        8.1|Biography|    Drama|Thriller|        73|    114|   80221|  137855|  187223|   94784|   25801|    7553|    2625|    1311|     824|    2307|    328283|       92724|     2703|      1895|       783|    218870|     163084|      53533|    141013|     113989|      24842|    31492|     24954|      5984|       637|   48944|   238440|   8.0|   8.3|     8.5|      8.3|      8.8|      8.2|       8.1|       8.4|      7.8|       7.8|       8.1|     8.0|      7.9|      8.3|      7.3|    8.0|     8.0|         PG-13|       UK|\n+--------------------+----------+---------+---------+--------------------+-------------------+--------------------+----------------------+----------------------+----------------------+-----------+---------+---------+--------+----------+-------+--------+--------+--------+--------+--------+--------+--------+--------+--------+--------+----------+------------+---------+----------+----------+----------+-----------+-----------+----------+-----------+-----------+---------+----------+----------+----------+--------+---------+------+------+--------+---------+---------+---------+----------+----------+---------+----------+----------+--------+---------+---------+---------+-------+--------+--------------+---------+\nonly showing top 20 rows\n\n"
     ]
    }
   ],
   "source": [
    "# Scenario 2: Movies released after 2010 with rating above 8\n",
    "# Filter movies released after 2010 with IMDb rating above 8\n",
    "movies_after_2010_high_rating = df.filter((df['title_year'] > 2010) & (df['IMDb_rating'] > 8))\n",
    "\n",
    "# Display the filtered movies\n",
    "movies_after_2010_high_rating.show()\n"
   ]
  },
  {
   "cell_type": "code",
   "execution_count": 0,
   "metadata": {
    "application/vnd.databricks.v1+cell": {
     "cellMetadata": {
      "byteLimit": 2048000,
      "rowLimit": 10000
     },
     "inputWidgets": {},
     "nuid": "0d525754-8458-4020-8096-d5aec5b6afdb",
     "showTitle": false,
     "tableResultSettingsMap": {},
     "title": ""
    }
   },
   "outputs": [
    {
     "output_type": "stream",
     "name": "stdout",
     "output_type": "stream",
     "text": [
      "+---------+------------------+\n|    genre|  avg(IMDb_rating)|\n+---------+------------------+\n|    Music|              8.35|\n|  Western|               8.0|\n|   Sci-Fi|7.9999999999999964|\n|Animation| 7.927272727272728|\n|  History| 7.925000000000001|\n|  Mystery|7.9142857142857155|\n|Adventure| 7.907894736842107|\n| Thriller| 7.884615384615385|\n|   Action|  7.88064516129032|\n|    Crime| 7.872727272727274|\n|   Comedy|  7.86086956521739|\n|    Drama| 7.858461538461539|\n|Biography| 7.849999999999999|\n|  Fantasy| 7.814285714285715|\n|    Sport|               7.8|\n|  Romance| 7.784615384615386|\n|      War|               7.6|\n|   Family|               7.6|\n|  Musical|               7.6|\n|   Horror|               7.6|\n+---------+------------------+\n\n"
     ]
    }
   ],
   "source": [
    "# Scenario 3: Average rating by genre (splitting genres into individual entries)\n",
    "from pyspark.sql.functions import explode, col, array\n",
    "\n",
    "# Explode the genre columns to split the genres into individual entries\n",
    "df_exploded = df.withColumn('genre', explode(\n",
    "    array('genre_1', 'genre_2', 'genre_3'))).filter(col('genre').isNotNull())\n",
    "\n",
    "# Group by genre and calculate the average IMDb rating\n",
    "average_rating_by_genre = df_exploded.groupBy('genre').avg('IMDb_rating').orderBy('avg(IMDb_rating)', ascending=False)\n",
    "\n",
    "# Show the result\n",
    "average_rating_by_genre.show()\n",
    "\n",
    "\n"
   ]
  },
  {
   "cell_type": "code",
   "execution_count": 0,
   "metadata": {
    "application/vnd.databricks.v1+cell": {
     "cellMetadata": {
      "byteLimit": 2048000,
      "rowLimit": 10000
     },
     "inputWidgets": {},
     "nuid": "6689acf9-c564-40b3-96b3-ba5f0161031c",
     "showTitle": false,
     "tableResultSettingsMap": {},
     "title": ""
    }
   },
   "outputs": [
    {
     "output_type": "stream",
     "name": "stdout",
     "output_type": "stream",
     "text": [
      "+----------+-----+\n|title_year|count|\n+----------+-----+\n|      2010|   18|\n|      2011|   11|\n|      2012|   13|\n|      2013|   17|\n|      2014|   20|\n|      2015|   12|\n|      2016|    9|\n+----------+-----+\n\n"
     ]
    }
   ],
   "source": [
    "# Scenario 4: Number of movies released each year\n",
    "\n",
    "# Group by the title_year and count the number of movies\n",
    "movies_per_year = df.groupBy('title_year').count().orderBy('title_year', ascending=True)\n",
    "\n",
    "# Show the result\n",
    "movies_per_year.show()\n"
   ]
  },
  {
   "cell_type": "code",
   "execution_count": 0,
   "metadata": {
    "application/vnd.databricks.v1+cell": {
     "cellMetadata": {
      "byteLimit": 2048000,
      "rowLimit": 10000
     },
     "inputWidgets": {},
     "nuid": "85099999-f300-4bd2-9937-13f4a4e1925e",
     "showTitle": false,
     "tableResultSettingsMap": {},
     "title": ""
    }
   },
   "outputs": [
    {
     "output_type": "stream",
     "name": "stdout",
     "output_type": "stream",
     "text": [
      "+-----------------+-----------+---------------+\n|            actor|movie_count|avg_IMDb_rating|\n+-----------------+-----------+---------------+\n|Leonardo DiCaprio|          5|            8.3|\n+-----------------+-----------+---------------+\n\n"
     ]
    }
   ],
   "source": [
    "# Scenario 5: Top 5 directors with highest average IMDb rating (minimum 5 movies)\n",
    "# Group by actor_1_name, actor_2_name, and actor_3_name and calculate the count of movies and the average IMDb rating\n",
    "actors_avg_rating = df.select(\n",
    "    'actor_1_name', 'actor_2_name', 'actor_3_name', 'IMDb_rating'\n",
    ").withColumn('actor', F.when(F.col('actor_1_name').isNotNull(), F.col('actor_1_name'))\n",
    "                     .otherwise(F.when(F.col('actor_2_name').isNotNull(), F.col('actor_2_name'))\n",
    "                     .otherwise(F.col('actor_3_name'))))\n",
    "\n",
    "# Group by the actor and calculate the count of movies and the average IMDb rating\n",
    "actors_avg_rating_grouped = actors_avg_rating.groupBy('actor').agg(\n",
    "    F.count('IMDb_rating').alias('movie_count'),\n",
    "    F.avg('IMDb_rating').alias('avg_IMDb_rating')\n",
    ")\n",
    "\n",
    "# Filter actors with at least 5 movies\n",
    "actors_with_min_5_movies = actors_avg_rating_grouped.filter(actors_avg_rating_grouped.movie_count >= 5)\n",
    "\n",
    "# Sort by the average IMDb rating in descending order and take the top 5\n",
    "top_5_actors = actors_with_min_5_movies.orderBy('avg_IMDb_rating', ascending=False).limit(5)\n",
    "\n",
    "# Show the result\n",
    "top_5_actors.show()\n"
   ]
  },
  {
   "cell_type": "code",
   "execution_count": 0,
   "metadata": {
    "application/vnd.databricks.v1+cell": {
     "cellMetadata": {
      "byteLimit": 2048000,
      "rowLimit": 10000
     },
     "inputWidgets": {},
     "nuid": "2c1473bd-1061-4e82-ac22-87d2ab7a4e07",
     "showTitle": false,
     "tableResultSettingsMap": {},
     "title": ""
    }
   },
   "outputs": [
    {
     "output_type": "stream",
     "name": "stdout",
     "output_type": "stream",
     "text": [
      "+--------------+------------------+\n|content_rating|       avg_runtime|\n+--------------+------------------+\n|            PG|117.08333333333333|\n|             R|125.30952380952381|\n|             G|             103.0|\n|         PG-13|130.46666666666667|\n+--------------+------------------+\n\n"
     ]
    }
   ],
   "source": [
    "# Scenario 6: Movies grouped by content rating and their average durations\n",
    "# Group by content_rating and calculate the average duration (Runtime)\n",
    "content_rating_avg_runtime = df.groupBy('content_rating').agg(\n",
    "    F.avg('Runtime').alias('avg_runtime')\n",
    ")\n",
    "\n",
    "# Show the result\n",
    "content_rating_avg_runtime.show()\n",
    "\n"
   ]
  },
  {
   "cell_type": "code",
   "execution_count": 0,
   "metadata": {
    "application/vnd.databricks.v1+cell": {
     "cellMetadata": {
      "byteLimit": 2048000,
      "rowLimit": 10000
     },
     "inputWidgets": {},
     "nuid": "257826fa-e68d-4a18-875e-590c5b3441ca",
     "showTitle": false,
     "tableResultSettingsMap": {},
     "title": ""
    }
   },
   "outputs": [
    {
     "output_type": "stream",
     "name": "stdout",
     "output_type": "stream",
     "text": [
      "+----------+-----+\n|title_year|count|\n+----------+-----+\n|      2014|   20|\n+----------+-----+\nonly showing top 1 row\n\n"
     ]
    }
   ],
   "source": [
    "# Scenario 7: Year with the most movie releases\n",
    "\n",
    "# Group by year and count the number of movies released\n",
    "movies_per_year = df.groupBy('title_year').count()\n",
    "\n",
    "# Sort by count in descending order and get the top result\n",
    "movies_per_year_sorted = movies_per_year.orderBy(F.col('count').desc())\n",
    "\n",
    "# Show the result\n",
    "movies_per_year_sorted.show(1)\n",
    "\n"
   ]
  },
  {
   "cell_type": "code",
   "execution_count": 0,
   "metadata": {
    "application/vnd.databricks.v1+cell": {
     "cellMetadata": {
      "byteLimit": 2048000,
      "rowLimit": 10000
     },
     "inputWidgets": {},
     "nuid": "8f5666ef-dd5a-4918-8dcf-3f6275bc0ee8",
     "showTitle": false,
     "tableResultSettingsMap": {},
     "title": ""
    }
   },
   "outputs": [
    {
     "output_type": "stream",
     "name": "stdout",
     "output_type": "stream",
     "text": [
      "+---------+--------------------+-------+\n|    Genre|         Movie Title|Runtime|\n+---------+--------------------+-------+\n|    Music|          La La Land|    128|\n|Animation|             Tangled|    124|\n|   Action|The Dark Knight R...|    164|\n| Thriller|The Dark Knight R...|    164|\n|Adventure|The Hobbit: An Un...|    169|\n|  Fantasy|The Hobbit: An Un...|    169|\n|Animation|          Big Hero 6|    124|\n|Animation|How to Train Your...|    124|\n|Animation|      Wreck-It Ralph|    124|\n|Adventure|        Interstellar|    169|\n|    Drama|        Interstellar|    169|\n|   Sci-Fi|        Interstellar|    169|\n|Animation|How to Train Your...|    124|\n|  Western|    Django Unchained|    165|\n|Biography|The Wolf of Wall ...|    180|\n|   Comedy|The Wolf of Wall ...|    180|\n|    Crime|The Wolf of Wall ...|    180|\n|  Mystery|The Girl with the...|    158|\n|Animation|       Despicable Me|    124|\n|      War|                Fury|    134|\n+---------+--------------------+-------+\nonly showing top 20 rows\n\n"
     ]
    }
   ],
   "source": [
    "# Scenario 8: Longest movie per genre\n",
    "from pyspark.sql import functions as F\n",
    "from pyspark.sql.functions import col, array, explode\n",
    "\n",
    "# Step 1: Combine the genre columns into an array\n",
    "df_with_genres = df.withColumn(\"genres\", array(\"genre_1\", \"genre_2\", \"genre_3\"))\n",
    "\n",
    "# Step 2: Explode the genres array\n",
    "df_exploded = df_with_genres.withColumn(\"genre\", explode(col(\"genres\")))\n",
    "\n",
    "# Step 3: Find the maximum runtime per genre\n",
    "longest_runtime_per_genre = df_exploded.groupBy(\"genre\").agg(\n",
    "    F.max(\"Runtime\").alias(\"longest_runtime\")\n",
    ")\n",
    "\n",
    "# Step 4: Alias dataframes to avoid ambiguity\n",
    "df_exp = df_exploded.alias(\"exp\")\n",
    "df_long = longest_runtime_per_genre.alias(\"long\")\n",
    "\n",
    "# Step 5: Join on genre and runtime\n",
    "longest_movies = df_exp.join(\n",
    "    df_long,\n",
    "    (col(\"exp.genre\") == col(\"long.genre\")) & \n",
    "    (col(\"exp.Runtime\") == col(\"long.longest_runtime\")),\n",
    "    \"inner\"\n",
    ").select(\n",
    "    col(\"exp.genre\").alias(\"Genre\"),\n",
    "    col(\"exp.Title\").alias(\"Movie Title\"),\n",
    "    col(\"exp.Runtime\").alias(\"Runtime\")\n",
    ")\n",
    "\n",
    "# Step 6: Show the result\n",
    "longest_movies.show()\n",
    "\n",
    "\n"
   ]
  },
  {
   "cell_type": "code",
   "execution_count": 0,
   "metadata": {
    "application/vnd.databricks.v1+cell": {
     "cellMetadata": {
      "byteLimit": 2048000,
      "rowLimit": 10000
     },
     "inputWidgets": {},
     "nuid": "8eafdf88-9fa6-469f-bd89-6f6a906619ac",
     "showTitle": false,
     "tableResultSettingsMap": {},
     "title": ""
    }
   },
   "outputs": [
    {
     "output_type": "stream",
     "name": "stdout",
     "output_type": "stream",
     "text": [
      "+--------------------+---------+---------+\n|               Title|   budget|    gross|\n+--------------------+---------+---------+\n|             Tangled|260000000|200807262|\n|    Edge of Tomorrow|178000000|100189501|\n|                Hugo|170000000| 73820094|\n|  X-Men: First Class|160000000|146405371|\n|   The Little Prince| 81200000|  1339152|\n|Scott Pilgrim vs....| 60000000| 31494270|\n|                Rush| 38000000| 26903709|\n|             Warrior| 25000000| 13651662|\n|             Flipped| 14000000|  1752214|\n|               Amour|  8900000|   225377|\n|Tucker and Dale v...|  5000000|   223838|\n+--------------------+---------+---------+\n\n"
     ]
    }
   ],
   "source": [
    "# Scenario 9: Movies with budget greater than revenue (loss-making)\n",
    "\n",
    "# Filter movies where budget is greater than gross\n",
    "loss_making_movies = df.filter(col(\"budget\") > col(\"gross\"))\n",
    "\n",
    "# Show relevant columns\n",
    "loss_making_movies.select(\"Title\", \"budget\", \"gross\").show()\n",
    "\n"
   ]
  },
  {
   "cell_type": "code",
   "execution_count": 0,
   "metadata": {
    "application/vnd.databricks.v1+cell": {
     "cellMetadata": {
      "byteLimit": 2048000,
      "rowLimit": 10000
     },
     "inputWidgets": {},
     "nuid": "0eb58ec1-3270-41e2-ae31-db6598416749",
     "showTitle": false,
     "tableResultSettingsMap": {},
     "title": ""
    }
   },
   "outputs": [
    {
     "output_type": "stream",
     "name": "stdout",
     "output_type": "stream",
     "text": [
      "+------------------+-----+\n|        actor_name|count|\n+------------------+-----+\n| Leonardo DiCaprio|    5|\n|         Tom Hardy|    5|\n|Scarlett Johansson|    4|\n| Jennifer Lawrence|    4|\n|        Emma Stone|    3|\n|   Jake Gyllenhaal|    3|\n|      James Franco|    3|\n|      Jeff Bridges|    3|\n|         Tom Hanks|    3|\n|      Ryan Gosling|    3|\n+------------------+-----+\nonly showing top 10 rows\n\n"
     ]
    }
   ],
   "source": [
    "# Scenario 10: Most common actor/actress (based on appearances in actor_1_name, actor_2_name, actor_3_name)\n",
    "from pyspark.sql.functions import col\n",
    "\n",
    "# Select all actor columns and union them into a single column\n",
    "actors_df = df.select(\"actor_1_name\").union(df.select(\"actor_2_name\")).union(df.select(\"actor_3_name\"))\n",
    "\n",
    "# Group by actor name and count appearances\n",
    "actor_counts = actors_df.groupBy(\"actor_1_name\").count().withColumnRenamed(\"actor_1_name\", \"actor_name\")\n",
    "\n",
    "# Sort by count descending\n",
    "most_common_actors = actor_counts.orderBy(col(\"count\").desc())\n",
    "\n",
    "# Show top results\n",
    "most_common_actors.show(10)\n",
    "\n"
   ]
  }
 ],
 "metadata": {
  "application/vnd.databricks.v1+notebook": {
   "computePreferences": null,
   "dashboards": [],
   "environmentMetadata": null,
   "inputWidgetPreferences": null,
   "language": "python",
   "notebookMetadata": {
    "pythonIndentUnit": 4
   },
   "notebookName": "10 IMDB_Movie_EDA",
   "widgets": {}
  },
  "kernelspec": {
   "display_name": "Python 3",
   "language": "python",
   "name": "python3"
  },
  "language_info": {
   "codemirror_mode": {
    "name": "ipython",
    "version": 3
   },
   "file_extension": ".py",
   "mimetype": "text/x-python",
   "name": "python",
   "nbconvert_exporter": "python",
   "pygments_lexer": "ipython3",
   "version": "3.8.3"
  }
 },
 "nbformat": 4,
 "nbformat_minor": 0
}